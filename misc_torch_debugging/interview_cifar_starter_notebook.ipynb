{
  "cells": [
    {
      "cell_type": "code",
      "execution_count": null,
      "metadata": {
        "id": "vL7USQ-RGHh7"
      },
      "outputs": [],
      "source": [
        "!pip install torchmetrics"
      ]
    },
    {
      "cell_type": "markdown",
      "source": [
        "# PyTorch Debugging Interview\n",
        "\n",
        "This notebook implements a simple image classifier to classify images from the CIFAR dataset.  The task is to classify the images into 10 categories (frog, airplane, etc.) based on which object is depicted in the image.\n",
        "\n",
        "The cells below contain an implementation of a training loop for this classifier - but it has some problems and doesn't work! We need your help to fix it. Feel free to look up any documentation you might need along the way, just let your interviewer know what information you're seeking.\n",
        "\n",
        "The problem is considered \"solved\" if you get > 71% accuracy on the validation set, but it is possible to achieve 74% accuracy without over-complicated tricks. Good luck!\n",
        "\n",
        "Tips:\n",
        "*   First, focus on getting the notebook to run smoothly (compile) all the way through, then focus on improving model performance.\n",
        "*   It should be possible to arrive at a working solution without any time-intensive steps like exhaustive hyper-parameter tuning, we recommend first testing improvements that you can validate quickly before spending a lot of time on any one improvement.\n",
        "\n"
      ],
      "metadata": {
        "id": "sKyyvIImF214"
      }
    },
    {
      "cell_type": "markdown",
      "source": [
        "# A bit about the CIFAR dataset\n",
        "The CIFAR dataset is a simple image dataset consisting of images depicting 10 classes of objects. These images are RGB (3 channel) with resolution (32 x 32)\n",
        "\n",
        "![cifar.jpeg](data:image/jpeg;base64,/9j/4AAQSkZJRgABAQAAAQABAAD/2wCEAAkGBxQSEhUTExQWFhUXGCAaGRgXGB8gHxogHyIfGx8fHiAgHyggGiImGx4gITEhJSkrLi4uHyMzODMtNygtLysBCgoKDg0OGxAQGy8lHyYtLzUvNi0tLy0tLS0vLy0tLS0vLS01LS0vLS8tLy0tLS0tLS0tLS0tLS0tLS0tLS0tLf/AABEIAMYA/gMBIgACEQEDEQH/xAAcAAACAwEBAQEAAAAAAAAAAAAFBgAEBwMCAQj/xABOEAACAgAEAwUGAgcEBQkJAQABAgMRAAQSIQUGMRMiQVFhBxQycYGRI6EVQlKSscHRM1PS8BYkosLhQ1RicoKDk7LTNERFY2SUo7PxJf/EABkBAAMBAQEAAAAAAAAAAAAAAAACAwEEBf/EAC0RAAICAgEDAgUDBQEAAAAAAAECABEDIRIEMUETUSJhcYGRocHRFDLh8PGx/9oADAMBAAIRAxEAPwDcceIpQ114Eg7EbjY9f44WOfuXJs9GiRNEtB95BurlaR0OlqKm9xTC7DCqILjPJMrR5qQrHI7QZsRKtkh521Lp1AAHTa3t8R8CcAhNBkzaK6xlgHcMVXxIWtRHy1D747Yzw8kZjvsnuyahMBCNRjUSCBaHc/W7J2bu0Gfo29+YOQJQgVjCWjvsSL/D/HE40gIAmlLQaR8qBIB5h4mi4mFXlDlmTKSzvI6t2hPeB3e3dwzjQO8AwWyzmh1AAAasEJMBuO55o3jVSw1X0qtq64M4UOfnQdkDQam0sb/6N9BddPEYZWCmzMIsUJbGfk/bP5Y5QcXd4cxIrnuRS6Tt1SxY+owjAsGJWRR1/bPyvpfgT9cXeBNOFzmuZGjGTlKoiFQDtvv9fvjoObEwoVJDG42ZWy3NmaK6u3Y112Xb16dP8+WOj815r++YH1C/0woZHiellbe7JO/XHSeVTHqLU9Ekdb333obj1xdeN7Ar6SZuu8deeeYczDmAsU7IpRKUBepBJO6nywAHNmf/AOcv9l/w4u+0lh7wB4dnGWIHeAF7Bv1b8/TANuK5BmJqaLu/A3eD/La/rYxPDmxJYcX29vbc3JjyNRU1/wBjzwniuabITytOzSBk0nSAVBYAjpRsYpLxjO/370emy7/ljlyFnWmymdI1TEOmkUAW8upoX160MFcxw90QE2ouyFNkdKBbwskCl++JtnXkSFH4m+gxG2P5nDh3FM6cxErTMU7RA4IXxYbHa9xeNAkY0d9wcLvCcvG2gqK0sLWuhu8d+b882WgfMrZ7LvMu1FehuyOnXz8rvEnyA7r8Si4yur/MK9q3ngRzTxCSKGNkcqS5BIrpR9MK/J+U4nmVEmbmaOIsWUDaQg7iq+FTdd7egPPB7nYVBEPJ/H5HCg2O0Ko94C/0hzP9832H9MFOWOMzyZlEeQspDWDXgCfLCUmQQEkatzfxt/C6wy8mn/W4/k3/AJTgjRMyPOnEWUEzudh4L/hxYn5w4gOk7/ZP8OKfCI8pBl4nmftpGUGhL3T9BVfNjihxaHWxdTEFPgr2o9BV9MN4uLZmh8V43mxDkikzK0mWR5DS7sau9qs79MA/9LM9+Ge2bSzUdltRdWBp3pvDy/O3xiQx5Xh5v4cnH0F+A3F/I+GFiTMTM8bKBYYgjoCCtbf9qm+mOIFDkIYmaeXiaHyxxXNt7yJZixWLUmy90+BoD+OPLcWzf9837q/0wF5LlKJnH8Vy3ld0SQasX8rGLg5jgUG1mk6UQiqOnQDVfXzx1dNnQJsfncxsbN2M+5jjudHSZv3V/ph54oZVLMrkDYKoA36f8cZRnOZSw2i06UNFqJdvI0wCivnhr51zmZE8iRwloyANYNkWo3C+hxTJkV/7R+0hkxOBWz9+3eGXz04NFmBHUED+mGHIyhgafV6nGTw5zPmtCCioDGZHB28qv5V+eNA5MMvZydrpvXtpBG1DrfriUXDjfHkomx87/wCRhxMK/PXNJyEasoRmKu+lyRqEY1EKaqzY6m/INvQXi/PrhZkhMIkQZk2Tq0LC8YRmF9HjfVZ26EWME7ZoWJhBzXPkimUKsLlBL3A51L2RQB3G+lJNVqfIr8V7fZ+d54i4kii27UBlZqXspoYC72O6gE2s+QQ777ZcI+4mM4zHPUqyK9wldDgIH2nKzLEGhNWxZTsLIvbfrjwvOs0byMe8uyAOV0oTm8zAZGNLtojUUSB0F9SdG4e/ymlYRvaPxzKZZ4BmkzDFw+jsdGwBW9Wph5iqvxw18DzrT5eKZlCNIgYqGDAEi9mGzDyPlhW53yKvm8vI8UkyxwygxxqGJ1tEOhIFAA+OAjxC/aJx514UP+Sz32i/9TBvgHMHD55MzBEuZsZN5JC2ijGQl6SGJ1d4Ve2xwRj4dljCZPcWFX+GYl1mq6AEg3fW/A4FcP4f+PmJIsu+XD8PmjqVVG6lCmkKzd3vtfyGMKqNiaCx0YHjynCeipnm+RjP8/XHo5Lhmlj2PEKTY7xeX/WxV4Vn5XHZKseq6sSBKII2IZRtQ33xa5g4dnMvCzaopBISWptxYGwHQ73+WJr1LnsY5xIPEauaP0f2y+8iQOFVge5RAG3XfbxwPysfCowxUy0zFyxKkWfInp8umOXOvFdOZSBAWlaJCdQtI0PWv+kar6jpgKmYTXaKdW9eQPTpXTDmhMRHcGvEb8tzBkctlczPGszRRtGHoJbFiFXR3gDRYXZxRh9qWTYd3L5w/JIv/VwF4BmEl4fmxMNUSz5e1XxAkU162dj9cdsvweBtVzooHROxAK2bUMQaHUdBv9axxdR1i4iAfPyMtjwkqSfEM8O9o+SkzEaLl80skkiRgssdAswUaqlJqzvteGKXmaDtZIikpKEg7LRo+Hev7jGfDgsD5nKzw5pHdJ4RIqi7/EXe7+Xh/DBPiLdlnMxYJ1MzAKCdrrehQ388Vw9R6i2sTJjAMaMxzfl06xzfRVP+9jlnuK5TM5aOWXtUQu2kEAMSoN7C/C6wpNkpswBIkVxnx1xg+PQE+BrrWPfE2aPhkLRLqKSyfs7bNexBDfIYuGbzI0PENjLcO0a+0lrTq9aq/wBnFvl/3IZpVhaUy6dQ1A6aII3OkeRxlOT5mLLenaqAs9N1+Hpho9nXGO04kF23iobDYKHIqvnX0wDKCanTk6RkXnYIh/IezXIBQyNOFYCiWXoBtVpttj4OQeHx6u9mNzqJ1ruf3cKvIvE5EQuhWONlBqdySEo6SK6n7XXhjrxvntmOiF109GkC7iq8Cf5eOLrXmcRvxCXtA4nw3Je6w5lM434AWPstHwggd/UwOrbwwJy/EuFsEdYuId8d0nseo8D39jjlz338zwySR6ZcnrLMKs6l6j9W76YvcG4ij9pG2bjVXUjoAQeoohevhiDY0OyJZR23O/J/HeGzRZ4wRZ2o8uTKJAmorvtHpY97Y9awKHGeGE17nxS/LRH/AI8euS4uzn4oyAnVlFYKK3PfFDwFkfnjllfaBCoCvl3Q+tHVXdvqPEHCniuvErixlu0qz8e4OvcbL8SBG1HsrH/5MbTxPLwBi8r6Sa/WA9BWPz7mIspm800geVWd9ekxjQ1USoOokY0L2n8QKZgxOWVHQUw3quu1it6Ni8ByBV5GVxdI+XIMY7/xGPL8WyMhYRO8uk02gg18/EYL8qwxqknZNKwL2TK2o3Q2Wug9MYllJDl/9chVWL3rLG2vxBWx53YHj6HGw+zzigzOUEgUK104H7Qq8MmZX0O8Op6DLgUOSCD7eDGYqD1x80DyGBvGOPQ5Vo1nYIJNVOxAUaBqOok7bfPEXmHL6yjSojayihnXvkKrErTHYBx1o73VUS844S0DyGPukeWBvB+Ow5ppBAwcRlQXUgqdShhpIO+x9ME8EJ50DyGJoHkMesTBCTCT7R8pnn7B8jF2jKTq7yChsRep1vp54dsLnNS20dkgaXOws7AUasat/C8EBMozXKfFH7S8lmfxJA7VnogLGrZRqtVOo7X4Dyw48pcN4iWzRzcBj1wMkffjNkgAL3ZG8uprHDK58SOUCzGv1gFUDp+qW1N19MF+XELPMpOxhcWT0sgX6Yyr0YXUV5+Qc1uY4ypPUa03/wBrHIcqcUYKrw92O9NSIbvpdv4DDRJy6u/4y7f/ADB/XAiXhLmcxI8ehVBdnlI3a6C1YOwN4r/SYV16nf5SQ6l2s8O0t83cuZqTNdtDAzjs0BZXjB7oOwDuPE+Pp5YGDlbP0G7OUEiqqDUAPM9tX2Jxx9osxXP6Qzf2SdCfX6YCZaSQgkFuv7R28MSIlQ0beX+Us3DkOIRdmRLPTRKzIe9R8nIFHfr8umBR4JxVGYpkixZVJImhALAVVGQ7euGTkUt7tOGJJDJ5/wBcTmriJiirSWD7MQ+kqPEjbr5Yjl6XFkF5O3+b/wDZROqdG4p5gzlzgvExmcuZ8vpi1a5SXi7hG4FKSXN0b2qsfOZeUc5LmZpIkmAZ2pkmQWCfIt09Kx84NEB7oQzOJJYmJ1EksChvr6mx5DHrnDixjzIRGCs8zA6j4AEkDerJoC8Zj6fHgB4aEHzNlPxShJylxI/qzgeSzxqNgB+qw8BhgfgGc/R8cSx/jiRiQ7rsDYBJujtW14DQ8SLWH1KAavej+W2GVHb3GPSST2jfzxfGquaBksjFASRMym9kufckmNQPISrX2vDR7O+Qs3k85FLLGoRA4vWpI1KRtW/XDDwfLlGQzMdUjEKL2Hz3/wA3hqy0ADqfn/DFnxhSQDIrmLVYmOcW9m3ElAGTAjjC6ezMnX5kuQ35YH8N9knECdUvc31UrqbPW/ir88OntK5lzGXzkEMSkhkLbE029EGhYrwP5Yscuc3lszDl3kTVISujvFhQLD9WvDrfTEqqdFeYB9pXJnEMx7l7tB2xiy4jkLPGNwQd7dbNjqNsKuW5C40t1kYhqILW0JsjcH+08ycapz/mguZyykmjuw81s+XjhdzvCJZpdWV1yxt0N1p3oqeg2PjhSYHQsSzyByzno2zTZuDQXywiUho+8QzN+rI1fF1NYmd9mKysGaN9QFX2vmSfFvMnHvlm09/jZmLxw0w8Ad+hs2f+GBJzTAmrvwsmvDqfng1VmAcy9kPZg8LxujSVGWIUmMjvdb88P/MXK8GcB7VAWqg4+Jfkf5YzbJZhmBDMNaMVcKxIBHle9Eb74v8AMErLxTNsHARY0LAsf2Uqh0vfBorY2DN5srAjR+U45v2VzzSMXlREvom5qqvcCj9TjQuUuBrksuIEBCqb3Nkk9SfmcZpnuNUUXclyB1ob4evZ5Jqhku/7TxN/qriWJ0JPES2fJnYKuQ6A19IR5i4B70UIlaIoJFBVVNiRdBvUD4bj19NjQTkeEFu+5Vklj07fDKkUR3q7CxCj6nDTiYvOcGtwPy/wP3UyEytK0miyyqK0KEFBQPAX88GMTEwQAqTExMTBCTC1znGCqEkir2872r+f0wy4TOfeZo8pLl45IVlEoc949NJQbefxYNeYD5RZyRTtCSS7DcVsaGxF/rV5YJS5hWy+e0ij7lMTW/6ux9b8D6HyxRzvMEMah/cYSxatifHbrXj/ADwZ4ZxjLSrOqwQ93LSFgLplFWhsfCb3xneb2n5pyeeYbHcfLpg7nuKBlXQTSxhe8KJO5O3h3iQMazw+PIzMVj4bktQAJvSKB8emLGZyeQXtNPDMrIIwSSiDcDx3HTfEyVMsOQgb2jThc6Cf7mLp16HAiTnCIxdlEmjwJbYn+e+NE5lzWUGYPvGUidRGlOV1MdrC1WwH88UuEHhk8ygcPgXUNnKC7H0/nihW5zhhct8jyasvmT5smPHOsYOTlawNKk7n8hg02dgy+XneGGOlKWqkU1mhdeWAsnNaSKUfJoysKILWCD6acDEVxMTfIMIqez0TQZmKGdSqM4eInpbdRd7EijWKXO0k75+QaRpSVtJBrYmvufnh1h5oi7WBPc4xcscanV8Nuqgju/qk2Plitx3mXJRTT9rlY3lWRh8Js6TWpmqhZ6Ym7UsoGANmUJeIjsqhVkk2BvehsDXqbr74YOXswDkIS7EHtXF+ZBPpgFHzFlbJOSywYqSasnahvS9LP5HywUn5ojTI5eSPKxMsk7oEBOkVqJYbb9MTwMqtcMuQOtQlxPhj5lYikoBjfUpK70QQwO4BsHbYUQDeDvCM0ZCuqwy2riv1gN69D1HocZhmPascvS+5wg790SNt/sVvg5yR7RTns2kJyyR6wx1ByT3VJ6UPKsdIyKTYnN2IUnzK/tPjC5jtG2PZ0p8Pn614Dpjx7IOBjtJM2dzRVSR08DR/LAXintQgnKo+QhmIoLqYkb+C903g1yz7SkLe7x5NYdIsqGoDz2oH8sJfmdfynX2uS6Z4Tf8AyZ/82AfB+ZDHDojJiHWh8L3fh1BJHWwPn4OnN/E4ryxlykU5ljJtz8PTYd031wCfjGUV+z/R0OrTrqjprcfFooHrscVGB2HIdjOZuoxqxUnc7couXTPSt1aI2T4k2fyG2BsZDEjYt+x4/S/Ch1wzcncbizHvKLlIohHGCdJvWDq2PdHl+eLpfL6qOWiurH8PLEyrL8MqjKy2IjZBYxIwDDtDV+foCfHyvH32mcJY56WWGy7FA4sVXZqBV/IffDtImW6+6wn5jf8AhhU5+5zOWz00P6Nin06PxGei1op3FeF19MTGP4eHiV9QqwZe8UOBI50yTHuqbRT1Pr8h4A41/wBm7gwSFehk/wB1cZgvtFVtTPwmBaHVnO/+xjSPZXx1M5l5XTLx5cLLp0xmwe6rX0G+9fTGqgVtRWdmPxGE+bcxmFMXYmZUOvW0ESyPqA/DXSykBWN2dug7yg3hW41nuJPJMqjNxxawQUjXUvZ5iIHRUZsNAXei0mqq23Q6XiYqNGZPgx9xMTBCTExMTBCTGc+1eNdeWdv1Q/h5lPHw6Y0bCnz1y/732f4kcekN8ZIu66fbCuCRqaO8SOFWyglF07hgTfhYrwN4J5PLRRx51kQKfcprIvpQPnjrkOTWjAX3mE7ggaz8sFcrwRVTMh8xDpfLyIxVh3AwFsb2AA3s4kGYEADUcgHZmQ5/OL2xYMkcZQC/koqvEmq+pw5cOlyzZYv2roXpSOunysHYg0D5eYwt5/kvLyAKnFuHBFFAtMrNsdiSCPOsXuBcoQR7S8VyUkdh2CzAXpHib2FHFK3DlGjnqV4pXZIBJrjRddbigT4Db0I8TgVJCWy4KoBqAZixOq/LfpWHrjueyaSaZs3lom0juyTKprwNE3XrhWzXubOxXieRCmv+XS/44dhIi7M+cKyYTh+bC7Fmh29SwH03wOyWcURvE40g3pkPW/AbDcfLDVHkoszk8xHl81lpCxjt0kDKtMDTFbqx0wFXkqUX/rOW/fP+HBsHQuZFfIyFs5lV8DmoqJFWFkB+1AYKcayImz2bDFmXtTYO2nSS1g+I26ePlgpkOR5RmYJTmcuezlRqDGyFYEgbdSAR9cXs/wAvwnMzSSZvLqTIx0mQWtkmiD0O/TEcxYDtGDV4mc5/Iak1KQHJ31sQ7A+XlVVgvm3OW4RkSD8ObkojerD/AMLw25rgEIfX71ldwfjkHqfsLP3x54vykmb4fBDDmMvpWVm1h7RiQwIBHjZ6YmpJJFaivewomO59+3ZndiSDW9b+P2wx+x5iOLQr4aZK/cODA9kk0Zts3lq8mLD88MPJPIYymdizHbQsVDjSkjMTakbA/fDqvExiOYBYbmDZCBpWjRRrYlVVE+I3W31xovBsv7jZJSbMkEd23WNRvpLHTqJPiCa9cN2S4BSkdvw1r3am2J8zsb38Ti//AKL5STq2UXa7jl3vajsF2FYzMXqlE6OnZEfk4uvHj7wP7UeI9k3DtR0hoWLeQrQT/wAMZvkePzNJJJrOkgqR1tbFA2PAnY9ca9z7yXDn1yiHNpEYYjp7626nSNXTcbdRXXCFJ7LYkbucYywP7LOPzpv5Y7UyUoF9pw5MSl2IHeMHsezXaNnyb2iT+L46ZvPyTO/6mg0AG0mh1Pqeu48vue5H4AmTizDNncvKGi7zKQFQCzZNml36nHPMNkJCD+kMmGG9rmEB+u+4vEM1ubEthARaMrcEaS++GPkWN3eED2w5aT9LZllkKio9v+7TGoDPZPf/AP0MkKG/46f12wM565QyOZzkss3EI4JG06kaWMEUqgWrbiwAeuJsp40P1lUZeVtMy5a5azGcEtSuERL3UFWbaks0ASfO8bB7GOES5XL5iOVQrGexpIIrs0HUeoxy4Lk+HZeHsPf8qyggt+JGNR6gkajv88N3LMcIR+wlSVS12jhgNhttsNqNYEsGprlSLB3JzNzAuTjLFGkfs5HVFHURrqYk+CjYXudxQOB458yg1B2Ksiam2sWAhKr4kgyKNwASeuxotxvgMGbAE6sQAwGl3Q040spKMCVYdVOx28sVm5Typ7T8NqkXS69rJpOyjUF1Ur9xe+AGsXd4tJycJ5phzMixxB2JVmJ0jSmlmjIZrq9akbXfUbb4OYH8P4NFC2tA2rRo1M7uSuovuWYk95jv1wQwTJMTExMEJMJPtKn0rH56XI+YKUPucO2Ej2k5cv2NEWLNHoQGQm/tieUWtR8Z+KJ8koSQoxa9QIrbUKbYeBAb0NfbF3hjakzxKlayMwo15AGvMd3AzPzXpULupoPRoWb26k9cXOUkeQ51DZDZSYKx8S2kfPrjiw3z3OzKE9K/MzGPJNJFHLEpbdg4sbadNbH9qz59Mcp4JEh1kMFYMFYdLqiLHj88N/DOV5olkVSvfUDr+sGUg/u2PrizxHgU0uVTLnQAjMwo7d7z29a+mO3kPeeb6iVA/tok08TB/wDpox67hht5H1wm/o4pGMxTGMtpUgeIo7n9XqMPfto4az8RBBXbLxjc+V4FZbMonD5MubMhVq8rJ/p4418oWq99zoxpyu/aM3sfdl4ZxJloMHQj51ihl+NzKwIleyfE2PsdsFvY5lieH8QRhWp0G/qKw2ZjKhkkUgaXXdelGq/P+WKNjL7UxFyBNEQPylxHMvmIGcFomeiwXoSQQT5gEV6Xilzo6rmJNJOpppC+4OkWAu3UX64cOAxhDEgAADigPItY/I4zrnDOJ79mYwe8Z2DHy3/436Yh1KEKATcMb21gahWDi8fZANoIAooUNsfnsBhn5ezQ/R0bMFT8eQAAABaLCh0rpjKkXVLFUi/FYJIFVZ7wOx3AxpUZduGQlqLGZy1dNyxH8RjkVALr2j8aeUY8+EBhkYK4OznxstTX47abHh0OCXs9z7yTKsneZCwJAO2xoH1qgfW8KfObxjKSNr1PdhaoBgwAN30+mHP2eK0fYo4XUVNlOh7pJJHgST54dCNH5yrqVG4vcVzfu8BlQKdIF73Q+V71jrlopFhEkDqRIhYaxqIJ6Ab7An88e804eF0YimQqd/Aij+WBfLcSw9oqyEgaQAXsIKul9N7xQEVIwjz7nDE2SYiyMqLF7G9iD59cDexgaP3lipO2kb7sa269LOPvtZzQUZO2Heyw8fUG8LkHHoXyyZbWm2hgfHVfe3xcjQMFPvGvhecMuX4tqFL7owoeGxurwKj5IlhyvbzSRCMpZXUSwuivQVf1wa5CVJIs9EG2OXIJ+ZI8cU8zwBpFZTNMU79I5JUgEaAAPSz44dBqT7ncXstFDKncJSlqz4316+GGzm9EPF5ywfV3FWhYYmNa86F1vWOT8oKCakSvAAMKH2w183cJDzzOIWLsBTqCbIUAX/C/DEepriJqpZma8ywKYgGNd+nFjWT6ED4Qb8saZ7HHDZWUqKHaivoiDGfLy9mVV2kQ6aJZSOl7nUd9vGzR+mNK9lfDHy+XlDqyFpdQVgRXdUUAfDbEMJUPxEUjeo5TSqilmIVVBLMxoADckk7AAeOPqOCAQQQRYI6EemFjnvg0+aQLDuOzlVlMrRjU6aUclR3gpvunzvwwC4jy7nwkpSUoRHJTrLIbUwBEiWNQdJWUatSgnaxZYjHaI00bEwr8giQx5h3SWNHnJiSUyaggSNdu1AcDWG2IHjW1EtGCKJMTExME2TCfzzxXMwyQiCTQpVy/cVrorXUGtiemHDCTz+lywX00v/FcYZo7wHxLmjPRRPKsqyJGQHZBGQt0QR3d/iHh44s8n80Zqd5e0m1oMs8i/hqO8CtHYb7E+mBfF1XL5mNoh2iTMO2EhvQqNqNDx7wUDyrH3kjOxzy52SIMI+wmChgOloRsCfDwwp7TT2hg81ZgbmVQo3JKrQ/LHJOb53UOkmzCxaKNt99x44QuOZkuTGCQF3cf58r/ADwXhXQtAgxgd2hR9d/H0xwkuFvkZlgJvvNa4hnHQAhq2BOwwEPMTkELMhI8tJr7YC878OzEuZQQ9q0bRL2kYXuWL0m/E11Xp0wp5jJ6cy0Lt2JFFNS0Tt1JPTe/qMXyZGU6E78CoUFgTR5+NTjKTSB++rIAdIoWwB2rfY+OKU/NbdltM4nHVDEtj4qYirVCVIDHY/UYqcP4k03DJmeNkIdBqYACQalpl/yN8d+HJDINZoO40s22ojelut6x1MreiHHuf2nFkZfWK/SAeG87Z558uplUo88aMOzXdWdVIuvInfD7zBzXFlCe0ugLJAvy2AHU74zjK5AR5mCrKjNRKvp+IuPXNn+t8QzOTLEJ2Xgeh1eOG63KjIpxa99V9YnS4zyIfftHPhPtEy2YYrG9n5GjvVA9CR5XeLfNfMnumXWfVS6iCSPntVdcZjyx7PjlhJIk7Fgvw0BuNx4b47e1LiXbcKycnS8ywYeoVwQfkRjhx2WK8iROjKg4XVGWU9puYafT2qhWAKKsYbr+qTXxYcuUuaZM1KqOQCQSVoeFjy/aGMa5K4skM0cmkkRWoOw12DZPkdzQHl44cPZvLK/FO0O0bGUgCqGrW1db+lYcli9GwBW7/SojKvGxFWD2xcS096RSfPs0H+7j1J7YuJVs6g+ehD/uYvexTgkMkkssqq7RxqFjbodXUm9j0rFX2t8MiXMQPFCkJeEmSNa7rA7XW10aNeWOwpObn58TSpOb5Uy2SlklVTLlUkckKAWYAk7jb5DHE89uUd1lBVCASFU3Y1WNulVvjOuepUROC9oBp9wVTfhahb/PDX7LOFxz8PeJ1AmR2ViaJqu4Be2krt60cczht0dzpTj5EZ+V+ZMxPLmVdrVIQ6dxRRJI8Bv06HBkcQfuxyZgJJIO4AE1fZgb+WF7l/JrBmM4uq2XLJYB2A3I26A9fpWFvO5lZ5FzrEhoXbsluh1Ci/tf1w6X5iEC4e5743xDJZaOaHMCRddO5iSxfQEVQ32vFrnnmTOZWWoh+GzqitpU0WWx13I1dcEeKwLm8hMhFh42IrrY3BHrYGA3tO4wlNlwpLBkZieg2BAHmaOJ9S3FLB8ymFbapV5f51zjSt27KY1I+FRvere6FUaFenrh95d4ymaRnRrCtpPTbYHw28cYTy9M0a97fenRSNwdr+fXGsey6MCCahQ7X/dXr5n1xz4MrHJxJlM2NQtiOmJhV544/NlDl2iVGQ9q0gLUWEULy6V7jAXp6+leNiu3Ozq6rJl1A/CEmmYswM9lNC9mO0AAGokrXerVpx3zmqOWJha5R5obOs6tEkemGGYFJe0tZtZAPcXSwCbjfr9Sy4JkmJiYmCEmFHneTLK8RzEskZ0tp0LYItbvY+mG7Gbe1tWL5bSpbZya8gU/jhHNLcfGLapXlmyDUTNPsCP7L5sb28zjvy3luHxrmY8vJKo92kLjRWlTWphtuw8BgbluOZXPACGN0kA7ydfhsk2Ov19MduF5+J2zkSA648lOHbbT+psCD1B2P/8AcQXIxfiRLNjXhdwDNkeFFixzecthRPZjyq/gx6zGX4YVA9+zqgD9WJen7mAEGSZgCANzQF9enl8xj5nsv2XxigboWQRsL62fHx2ONORbqT9PVza+Kc45XKuIZTJqCKdo2III23Aq9umF7inHeEZt0mlWQunQmN1JHWiNtQ36HzwC5+XVn1Tu96KPdtgNj1P/AAwAk4KvwsBKx+ELIQL8jt4dPH+WMfMwYiOuMVc1KHmTIZzLTlGbso2RZO4RRJBUAEb71gO3uAZWEs4ZDqWkvSSKJA0kdBgDwfIHKcL4gQF+KJq+KhYsmviIG/h9MAeH8ZZTIJRS6Pw9J7pB6sL3Ng9fDcUMUOZuNSfAcrMceHZzhYmywSWcs8y9laEqz6xVmtu94/PHrjZ4WmbmmkbNJKXKuUQ6dSmuukgi/peFHl7PJNm8tuyt7zEygLs3etth8Iqze3nvuMCud+LN+kM5ESSvbtYJO1eA8Kvf6emFYkroROTKZoDcbyDDV71mwK/VirxG9ad+n2Jx85syvDZeGwdtPmEgGYYo6xjWz94MCNHTrvXhhT4ZxmNoHdlqIMI9zbA1YoV8I6X1utj1w15jLZd+G5dZfhE0hQHYaqbruLAs45sXUsGIZaofxKuCRd3F3h/LPCJkCQ5rOaR5RruQL8U+tDDlyg2R97hSGWYyRoVVWiCg0pBJNbmt7vC7wegFgRrXZu70si9hdgel478lZoNxWL9siQE1saVvHwPT54piz+o1EfSYR8MJcG5ayXCmMqZ2U6gI9JEbX5bBbx5k5WyHE3Vhmp9QXTsqgGjZO6UCbuhhRlJliXTZY/EoPpsw+vXBDKO+WIeIjWNxr6eF19Lx0f1Oxcn6QI1DvPPJWQl9zgzE+YUwwCOPs1U6lWhbd0i9vTE4FwvhvDSzJmZmZq1sw1Fq3F0PDp6Xj3zlxy2yVgK08INt0W968Op2u9r+oUOMZMgtbCuoFncbf5/ztrvRmKGJrtH3gM2QmfPPFNKxkiua1ql6WLHWhVYHZ3KcOUdk889bNpCg1e43AryOF/2d6gOJaRZ912Hme95DfA0OTsx3FfM0Ab+gWq9cYTUetzS8lxTKKios8pA2B0etEWBtvilzhlsi2al7eaZZO7qVEBA7q1W3lRwiZbOlTY8SenTw6itsNfOyKc9OSt6dAJ2NAot7eJHX74nk+JN7mqSGoSt+jeGKb94zA8DSbfWlw98iRwLFJ7u8jr2m5kWiDpHTYbVWMry0clgBNSk+u/gNx/n+ONK9mgPYS2APxLFeWld/TCYAvKwJTIG47Ma58sj/ABorVdalB6gqevmpIPoceGyMZZX7NNailbSNSjpSmrA+WOWf4tFA0ayuEMmrSW2HdFmz0HXxx0fPxBmUyIGVdTAsLVf2iL2HrjsnPKnBeAQZQuYVoyVqJJJIW6G/gNRP1OCmK0fEYmIVZYyxGoAOCSPOr6euOmXzCSKGRldT0ZSCD9RtghOuJiYmCEmM99qfC8xO8BgikelkDFL2DadtiOoB+2NCwie095qiELzJYNmJmU9U/Z9LwrgEbjISDqZ/wnlHO5Y3l4szCSKYp9+jEqcMnLvBs122ed4JEEuVlVbX4mbTQ+ZrC/l+dcxl2ETySimotMWNggm7LWRe30wZ5Z45LKc7KZ5GAyczqNbaVI07rbHSR6bi8TCrd3KFjVVAicpZzb/V5dund/h5Y6S8t51uuVkahQDJ0+R/reAGW5izml394zJUblu2kIX/AGtseIubMwYtfvWY3JFGZ9vIg6t7F/IjEyVMWzUevaDy9nJM2JsvE7gRIAAvQi79D/LCxLyvxSyI4W0v8WpDf5dfyw28757MRZxJI5X0rEhMQlcBjv1UbWSfrXpilm55pdStnZIXUB2CzPsPE7OLG9V4EYH4qdxlthqW+BcCzi8PzkLxSK7PFotRbgFS23QDqPlhaynJmcjiaBoZiiuCh0C1s7gEHda2P3w2cKE8OQzPb5iZyHi/EEjEgF6OglrHdq/54uQ5HMt2U0EuYeJ6JDSklaO4IvcEYvjxq6g3OXNmZGK1v9faK/BuUM1Fm8nIMs4AkjMjVQQBlJ8dyBe/zwK545OzcmczUkWUmcPKzBlXY2diN9xh54bmZkzSQySTawyEqzsQVLAdbo3inzNzPKMzLAGddLkjQ5UhVNfnuPz8MNlxcKANyfT5TmNcSDM4l5P4oURRkploknyvzq9zWHbiXLWcm4Rlo+xkE0eYd9BFsB3gCfmD+ePqzyxuGGczFspYa5WZVN2BpvceFYLc283S5bIZPNHU0jyiwGKg9wsdWk7jbocIqDvOtsbJ3izwrkzMJRMWaUaSWCrvewAU/K8H+T+GZtOIwE5V4cuivuw6dwhbPVmJO5wBi9tkp1CWFNJFfhMVI9QTfht54sezLjc+Z4khE07QhWLJJKzae69WCabfoa8PTCDCqtygXNTnwbk7NKttBMGoUKAGx6Hx9cFP9F81MdLxOovUSem3ht1wlZbMzmDtW4lm9iFAE8lsSLNDX4bfcYtZiHMrEJf0hm9Brf3p/H013WMHSrprOocqFR/5n5aaZMonu5kCQBG2Pd26bbjfCa3CM+8oV8hMsXwihqqttRNgkePnthk4nxqWKHIASzMXyiEkOe8aFs5vx8+uAUnNs+XnSJpJrIJOpyRXUEG69MUIBiha3cPclcs5iIZ1WiaPtINCFgdzv49bwtDl3PFi3ukoI/VCgKa8NjQsDyGGfgHMzZmDPa5JUCZdjq1G0695TYII8wcJ3DMzmpGeYZzMPFEhH9vKLZtkJGroOpPmB1wcRUYWTQnd+Us+B/7M4Oret9QNm9umw0n1OG3nbgc8mbmdMszhtIDhb6IoPTfrthUyfMrmNhmJ80HatJhmYbDpdtsTsOm+DvPvDOINn5Hy82YWJ2jRVSV1W9C2AAwUWbN7b4xlWqBi2SZQTl7NujRvlp9BN7Wu/qB1Hjex3xofs6yEkEDo8bR0/dDCtgqjGEPxPOhmjGczLMpIOnNS+HiO/uPljXvYnPO+Vn94eV2E9AyuzkDQmwLE7Xe2MRAG1DcaOZeXRnCmpgAiSrRTVfaoY76iqu/XptgBnPZ6ZBIhzChGWSj2PfDyQ+7ks3ad5AveCUDYXvUMPeJi0yJ/F+SO3lkYTCKOSIxsiRnUbjaIGzIYxQN2sYbYKWrbBjljgpykTKzq7u+tmUOoJpV2DySEd1R+tXoMGMTBCTExMTBCTGa+12ZlfLaWZe7J8JI8U8saVhT54gyjGI5qISUG0kyslWVv4SLs1hMmMuvFe8ZHCHkZiWfhEp1SW7VQLGyB9fnhr5EYuc7GSdLZKax4WdIuvlg22U4UNjllvp/7VJ/i2wY5byuSV5hBlwrGBwfx3bUvdsbk0Dt3huMRHTZV2SNfOVbqMbCh3PymPcT5dFJHFIwUr3gxuyvj6Xfw9MWG4LG0a2GUqgXu0Qduu6nqcavxHhsMcTO2SRgoJoZmS9v+zgJBxOFlkK8MpY4y5JzLDYeA7vXEUxZHFqR+v8SLFwKMsc0zrFnllY0FhQ9PQ9fz++FbPSvNKCxT4CGofFuKsEn/ADfnjTuLcPyssgaWAsxRd+1cbVsKBAxWbgGRH/u5/wDGk/xYu2DKTYqMMoAqLULaeFZhR0RoVH/iCvTxxxgz0wRY1ZwqjSQNrJNnf+GHOLh+TGWmXsAIiU1qZGOogjTuTYo+WKKQZBdlhA+Urj+eKccoUKQD9feRdUZudkH5e0DRZ3VnIiWsmZAL6jvAVjpxnlhZ+KzNIvdeMaWsiqWSxt4h9LX5EDxwcyEWSEqFYu/rWiZnNEEaep3o+GGqbKIbYgk/9Zv64qrNVNUMaqjFlPeZ9zBy9E0WXSBQrSSAA7nSCj6j50LHp0wO9p/B2Th2Vgiq0n0At/0o2S/nbXhkk5qyyp2mkWIy2nt9wQV7v2N36HbbBJEy+fy6NKhKa7AEr9RtepSCflhXvjQjl77mZXmOFQy5eBOzQio96FhQAxo1e9V9cWfZpwz3biyhQVV45th0IV2K/KkZRjRl5OyAoiIiun40tD6a6xd4VwXKQyAwxBW3o6mJ6b9Sb2xyY8Tqe+vvM5LMT4MrKI5g0fdpgGdb233F39MVuKMzuHBCpW6LsB1qr8Nh8zeGxOH8JpQMgw+Wbm2/2sd3yfCpG0nJuWCjYZub4RdbB+g3x0IjqCCY3qLKPNeeWODhoaNHByaHe76Doeg+owvS8ZX3wZsqCQgVULAqgGxoV10jb5n6PXOU2QiXJpJkjKoy47OsxIuhBQC7HvfM74W/feFn/wCGt/8Ady/1xvAzDlQaMZOVM7HP77WggwtqZdjVmrI9MLxzMaySB9o4lBXqQ256jzBBHj1BwycmT5JkzfY5Ip+D3wZ3ftF37ve+H5jEY5Eq15EkMbYGd6Ju/wCOFbA7j4ZXH1GNNmKc2cEumdAAiP3gQN1FXXr4g+ONE5g4oseacSMAgZD3ugpVYH0pvHCvLxbIwoFTh50j9UZhwMO3MHL+TmlZ5oC7mrIlkW6FDZWA6Y1OldBUXJ1CObn5ymdu3c1XfPTyvavpjdfYrOHys1eE1f7CHHmXkzhjNqOTN9NsxMP4Pho5R4Nl8rG6ZaIxKz6mBkd7NAXbknoAKxT0mGzEGRToThzrxafLIjQDV8RYCNnY0LAQClJJ/VLKT4G8L0mfzqCcd90eTMlQVk1polTRThr0lWalFCgK6HGi4mCET+VOYMxmMwUemjHb6iImURmObs4xrJ0vrTUTX7OHDHLL5dIxpRVRbJpQALYlmNDxLEknxJOOuCEmJiYmCEmED2lozzZZFZEsPu+nw0+JBP2w/wCEzn7l6fNSZeSAxjstV62I6lSOgNjbfFcNct/Pv9JPLfHUV8pwidFbspci4bb8SIsa9CDQB6VWLXLGSljzGZM0kQ15WQhoQRoA7PoDuKvavLHRuVc+16pYgD4LKwH5C6x15c5dliedjJlyGy0iDTLe7aTbbbDbc4FI5bi7oUJW4XnZSPxFneN7CbFhsDV/OvLfYYI8wZ3LRwGNlosKZSQD0BOoqTVHqPnijmMpnq0JNkkXzWbT19AP54XePclZyVComynfFannrY7bAJQHywM6jJYH40JQISlE/uY98VmLT9nGwDKiWSLoEEja/GscM40jAiiOtgpdg+Y2PptXXHPjnLGYbNGeJ0UNFGjXKyk6NXgB5t1x0fIcQqlli+szH+IOIN6hMccQJ5n1Lw+ctt3o6pSNtSjxJvCUOLxhtLFwbq9DV96/PDyeFZpslmI55YSzNGVJk7oAYE2dO3TbC4vKspO02V/8b/hjoxmlpjucmdSXtRqdeD6u3gNWDKm43/WGKvtF5zzMc7JBKUQEoygDqp62Re/z8MX+FctyrPCxmyxCyoSBLZNMDQFbnyGOfMns/wDeMxNKcyih5GbSWG2/TpgNEzFDAdjMtzfFndSG0b+IQA/cY03lHibx8Iy7KhYmaRaUC9i1bbE/TfAx/ZaP+dw/vjDNFyaRwyLKiZDplZ9SyaQbJNWPK+mMc0PhjoL01zsvGJQCGQ6r8qoV4gk4ucv8Qd81GCpAIbxG2x673gLluS5FFGZD/wB+x/jgzy1y4Ycyklwmgw7r224I8sc6nJ5MqUSxQiJy3wpswodpUjSh8TqGb5AnbbxOLk3D48q4zLuEAAXuNbSVuFQg18RN+nliZXl7icWVjhhbhwZAR2zSajuSRVx1tfjeBf8AoFxCVzJPmstI/m2YJ+laAAPQUMJkxFz8R17SiNwGhuGed1OYbIsSsYbLB2ZvhQE2b+Xl44Wsk65bMN71ArRxkrpJNvt3aF+ZG5FVe94d+ZOUszNBlI0kgHZ5ZUkuQgErW693db8dvDC+PZ3mrLNLliT1JnJv5krvi/iQI2TUK+zDMB5c44VUBisIvRdzsPlj5zFx2JTZCqQSCLonpTHwGx88W+UuUMzBHnB2kBeWApGUkJpt6Ld3Yb9d8I+b9kPEpHZ3lyzMxJJaZr//AF40aNzVW1oznm+PieZYMuqtr672BW5JI22642nmbiSQWz1ZqgTXl+W+Mx5V9nHEclI8gXJyM6aRqmfui7NVH40Pth/5s4W88jjtYlUigGcBhYF+G14pzLVcwrxiDxb2hsrr2WlgrWwAFMu21tuDYO488a1yvmDJAsjJoLgMVu9NgGroYzTL+zqNSCTl2+c5/hWNL5bhdY2Dur97Yq10KHXCsTW4ygA6n3jnMUOUaNZtYEgc6lRmCiNDIxYqDWw+Z++PEHNGWfo7DdB3o5F/tL0fEooHSTfStz1GOnHeAxZsKJC40h17pqxIhjYHY9VP3rFaflOB5FkJk2EdqG7rdlqCFhW+zEev0GJyh7f79pXzHPGWURMC5jkcpraN1r8NpVKqyBpQ+nSugHUSKvDKrWAfPzFfl4YWpeR8s8aRSNM6R/2YaQnR+GYlC7d3SrWGHe1AEkkYZIloAWTQqz1PqfXGmoT1iYmJjISYpcQZbVTVm6HoOpr7ffF3Crzzw95gnZSGORQxVgzL5bEr0F11BxhbiLmhb1K/N/GEgy7AgntAY+4baiDdUdtvHwxn3Iqwtms4qRaI/cJVZNNkjUl2L71g1v1wJ5oiz4CrmyzaSQms2psgWrjute3ri37K2vN5uNhR9xkuj4Ex/bY4nxH91mBuwK1Ax4DlElIZEbuhgLI0ktQDKrbGqJU77468U4PAI3kbUxiHdQatKgG9MYbcC78awxPygBRicXRoyC9zdGxXS9vpgfl+B5iN9DJqDHqH7pJbUaB3XYKK9B5Y5RlU+Zf0WB+s07mrOrFGGsa6SlsWen8tsfWaEKpZwutQ1Eb0cKftSciZI44UMs0YUSFtxoKNoG1Lq6arv7YQc3zTmFXS6wgxDs6ZxqpdtlB3+mPRObIB8BnA+EHY7zT+e41n4Rm44WDEvD1KqP7VD1JobDxxm+TWWLTD2taRpK6iACo3AYDw3r6YL8A40ZuD8Rd9PdlgHdG27r64U5uKCdmBIBAvY3qI3rzN9PXbHPmLsdzu6Rcap8feafE2WZsjJI0RlaaHSW0l2bUoHqSNt8Z17RJWbiOZCqVUTkGuh33PTqf5YnAcw3v2TUowT3yExhgRVyLZFjqdvthz5pyUbZ+aZVhcK7B42Yi67zsSLN90iq6NhgCo2JiUclAn7Gogyw9o/wCKtKR3jY1MwsKfG+6cPUcgy3A8sUVmHvElDqRZbfYdBgXlc1Jm53GUgTSdA0wIjKhj7wJkY0obVub307A1WHXNCTJ8Oy4zDjtTK5a7YAsS5HcFmt9wAMT5OASPYzu6o4WPGt2Nk37321R15iVFxWZnCKpHdu2Xb8h/LDH7OJp24gBIjBV1AMVoHuncGhtip+nzRqVLPjok2+4wX5E4mz55FMhcENtRoUpPif5YjifMWFqf1ks3phSF4/YC/wA94L4nJlWQlWykjED+xamJPiCBv+eBWUyUCsC2ojyNfawBeACmPQihDrSl06QASPMCzY/ycWspl85IQBDIFsCzG23rjtGQGwZE46/xNE5qk7M5SNVN+7D0AA8/QeWFPgPEO0Zw7AxAssbmt2G+kV17pu+mCHtRMgXKqHOpsqFYjbUNQJ69Lr88BeWua4Mlkuy7JGnWa6kQnUh3Y3pC+FfFfphlcjtOVlEceSJmVs507sFj7n+YxVz3EJWLaZENWO74EfqkgED1s7YpcicVjzKcTdWu4WoUBSktXQfPAeLIAdGYC7rVtY+WFZ6O5qr7TpDxmeO0RdFBmAEg33JJAB8TZ6eOG7nKHMy56WPLRl2pCegVe6u7E7D5YT1yMavq31E9SSfDw38sPHMnHjlM/NTKisEZ3IB7qILQeRN3fgAcYj+0MosCDc92uXGTEnZl5SdRVRWxGmtt+635YfeUiDG7AVqYEj1oD+WMg5t5iGYaNFzkLOsiBGTQAA4BZtRP7dC9gK3OHn2I5t5MlIZJDIyzMuonfYDr5dbHoRjbJO4qgCaJiYmJjY0mJiYmCEmJiYmCEmPLID1AOJiYITzLArDSyqw8iAR9sc4shEpJWNFJFEhQLHkaHT0xMTBCe/dU/YX90Y+e6p+wv7ox9xMZQm2Z8fKoxsopPmVGOcnDYW6xRn5op/liYmNmT7Hw+JQVWKMK3UBAAa6WK3x5HC4evYx/uL/TExMEJ79xisHs0sGwdI2PpttjnJwuBiWaGIk7klFJPzNYmJghOuXyUcd6I0W+ulQL+wx9lyqMAGRWA6AqDX3x9xMEJx/RkP8Acx/uL/THuLIxqbWNFPmFAP5DExMEJ6GUjH6ifujHowL+yv2GJiYyptmc5slG9a40athqUGvlY2xz/RcH9zF+4v8ATExMbMnuLIRLYWNFsUaUCx5HbcYn6Pi/uo/3B/TExMEJPcIv7pP3R/TH2fIxObeNGPmyg/xGJiYITn+i4OnYxV/1F/pixBAqCkVVHkoA/hj5iYIT/9k=)"
      ],
      "metadata": {
        "id": "zUCvPpx696_d"
      }
    },
    {
      "cell_type": "code",
      "execution_count": null,
      "metadata": {
        "id": "cDVP-qXV13iR"
      },
      "outputs": [],
      "source": [
        "import os\n",
        "import PIL\n",
        "\n",
        "import numpy as np\n",
        "import pandas as pd\n",
        "import torch\n",
        "import torch.nn.functional as F\n",
        "import torchmetrics\n",
        "import torchvision\n",
        "from torch import Tensor, nn\n",
        "from torch.utils.data import DataLoader\n",
        "from torchsummary import summary\n",
        "from torchvision import datasets, transforms\n",
        "from tqdm import tqdm"
      ]
    },
    {
      "cell_type": "markdown",
      "source": [
        "### Section 1: Data Loading"
      ],
      "metadata": {
        "id": "zBiGoM0waeGM"
      }
    },
    {
      "cell_type": "code",
      "source": [
        "example = datasets.CIFAR10(root=os.getcwd(), train=True, download=True)[0]\n",
        "image, label = example\n",
        "print(\"label:\", label)\n",
        "image.resize((256, 256))"
      ],
      "metadata": {
        "id": "Wyj6P0WUadak"
      },
      "execution_count": null,
      "outputs": []
    },
    {
      "cell_type": "code",
      "execution_count": null,
      "metadata": {
        "id": "rYu5oSop2OMe"
      },
      "outputs": [],
      "source": [
        "def custom_transform(img):\n",
        "   img = transforms.functional.pil_to_tensor(img),\n",
        "   transforms.RandomHorizontalFlip()\n",
        "   return img\n",
        "\n",
        "train_dataset = datasets.CIFAR10(root=os.getcwd(), transform=custom_transform, train=True, download=True)\n",
        "val_dataset = datasets.CIFAR10(root=os.getcwd(), transform=custom_transform, train=False, download=True)"
      ]
    },
    {
      "cell_type": "markdown",
      "source": [
        "### Section 2: Define Model Architecture"
      ],
      "metadata": {
        "id": "8F5TubG0alxz"
      }
    },
    {
      "cell_type": "code",
      "source": [
        "class DownsampleBlock(nn.Module):\n",
        "    def __init__(self, in_channels: int, n_features: int, p_dropout: float):\n",
        "        super().__init__()\n",
        "        self.layers = nn.Sequential(\n",
        "            nn.Conv2d(in_channels, n_features, kernel_size=3),\n",
        "            nn.ReLU(True),\n",
        "            nn.MaxPool2d(2, 2),\n",
        "            nn.Dropout(p=p_dropout, inplace=False),\n",
        "        )\n",
        "\n",
        "    def forward(self, x: Tensor):\n",
        "      # print(\"run ds: \", x.shape)  # run ds:  torch.Size([1, 128, 6, 6]) ->x.shape: torch.Size([1, 256, 2, 2])\n",
        "      return self.layers(x)\n",
        "\n",
        "\n",
        "class ClassificationHead(nn.Sequential):\n",
        "    def __init__(self, input_features: int, n_classes: int = 10):\n",
        "        \"\"\"3 layer MLP\"\"\"\n",
        "        super().__init__(\n",
        "            nn.Linear(input_features, input_features//2), # 1024, 512\n",
        "            nn.ReLU(True),\n",
        "            nn.Linear(input_features//2, input_features//4),\n",
        "            nn.ReLU(True),\n",
        "            nn.Linear(input_features//4, input_features//8),\n",
        "            nn.ReLU(True),\n",
        "            nn.Linear(input_features//8, n_classes),\n",
        "            nn.Softmax(dim=-1),\n",
        "        )\n",
        "\n",
        "class Net(nn.Module):\n",
        "    def __init__(self, in_channels: int = 3, n_blocks: int = 3, final_feature_dim: int = 256, p_dropout: float = 0.1):\n",
        "        super().__init__()\n",
        "        layers = []\n",
        "        curr_channels = in_channels\n",
        "        n_features = int(final_feature_dim / (2 ** (n_blocks - 1)))\n",
        "        for i in range(n_blocks):\n",
        "          layers.append(DownsampleBlock(curr_channels, n_features, p_dropout))\n",
        "          curr_channels = n_features\n",
        "          n_features *= 2 # double feature size\n",
        "\n",
        "        # print(\"curr_channels: \", curr_channels) # 256\n",
        "        # Add output head - 3 layer MLP\n",
        "        layers.append(ClassificationHead(curr_channels * 2 * 2, n_classes=10))\n",
        "        self.layers = nn.Sequential(*layers)\n",
        "\n",
        "    def forward(self, x: Tensor):\n",
        "        for i in range(len(self.layers)-1):\n",
        "            x = self.layers[i](x)\n",
        "            # print(\"x.shape:\", x.shape)\n",
        "\n",
        "        # classification\n",
        "        x = x.view(x.size(0), -1)\n",
        "        # print(\"x size before classifier: \", x.shape)\n",
        "        x = self.layers[-1](x)\n",
        "        # for layer in self.layers:\n",
        "        #     x = layer(x)\n",
        "        #     print(\"x.shape:\", x.shape)  # x.shape: torch.Size([1, 256, 2, 2])\n",
        "        return x"
      ],
      "metadata": {
        "id": "T8klwdZ-Kkqh"
      },
      "execution_count": 67,
      "outputs": []
    },
    {
      "cell_type": "code",
      "source": [
        "model = Net().cuda()\n",
        "print(model)"
      ],
      "metadata": {
        "id": "26K9rgssyZgq",
        "colab": {
          "base_uri": "https://localhost:8080/"
        },
        "outputId": "629f117f-538c-4944-bb0f-e3db96c1f11e"
      },
      "execution_count": 68,
      "outputs": [
        {
          "output_type": "stream",
          "name": "stdout",
          "text": [
            "Net(\n",
            "  (layers): Sequential(\n",
            "    (0): DownsampleBlock(\n",
            "      (layers): Sequential(\n",
            "        (0): Conv2d(3, 64, kernel_size=(3, 3), stride=(1, 1))\n",
            "        (1): ReLU(inplace=True)\n",
            "        (2): MaxPool2d(kernel_size=2, stride=2, padding=0, dilation=1, ceil_mode=False)\n",
            "        (3): Dropout(p=0.1, inplace=False)\n",
            "      )\n",
            "    )\n",
            "    (1): DownsampleBlock(\n",
            "      (layers): Sequential(\n",
            "        (0): Conv2d(64, 128, kernel_size=(3, 3), stride=(1, 1))\n",
            "        (1): ReLU(inplace=True)\n",
            "        (2): MaxPool2d(kernel_size=2, stride=2, padding=0, dilation=1, ceil_mode=False)\n",
            "        (3): Dropout(p=0.1, inplace=False)\n",
            "      )\n",
            "    )\n",
            "    (2): DownsampleBlock(\n",
            "      (layers): Sequential(\n",
            "        (0): Conv2d(128, 256, kernel_size=(3, 3), stride=(1, 1))\n",
            "        (1): ReLU(inplace=True)\n",
            "        (2): MaxPool2d(kernel_size=2, stride=2, padding=0, dilation=1, ceil_mode=False)\n",
            "        (3): Dropout(p=0.1, inplace=False)\n",
            "      )\n",
            "    )\n",
            "    (3): ClassificationHead(\n",
            "      (0): Linear(in_features=1024, out_features=512, bias=True)\n",
            "      (1): ReLU(inplace=True)\n",
            "      (2): Linear(in_features=512, out_features=256, bias=True)\n",
            "      (3): ReLU(inplace=True)\n",
            "      (4): Linear(in_features=256, out_features=128, bias=True)\n",
            "      (5): ReLU(inplace=True)\n",
            "      (6): Linear(in_features=128, out_features=10, bias=True)\n",
            "      (7): Softmax(dim=-1)\n",
            "    )\n",
            "  )\n",
            ")\n"
          ]
        }
      ]
    },
    {
      "cell_type": "code",
      "source": [
        "# Check that we can make a forward pass with an instance of the model\n",
        "test_image = train_dataset[0][0]\n",
        "# print(\"test_image: \", test_image, test_image.shape)\n",
        "test_image = test_image.to(torch.float)\n",
        "test_image = test_image.unsqueeze(0).cuda() # shape (1, 3, 32, 32)\n",
        "preds = model(test_image)\n",
        "# preds, preds.sum()"
      ],
      "metadata": {
        "id": "vq5DpqQN-btA"
      },
      "execution_count": null,
      "outputs": []
    },
    {
      "cell_type": "code",
      "source": [
        "summary(model, (3, 32, 32), device=\"cuda\") # Image Resolution (32, 32), with 3 channels (RGB)"
      ],
      "metadata": {
        "id": "QPRTfjeh3bqf"
      },
      "execution_count": null,
      "outputs": []
    },
    {
      "cell_type": "markdown",
      "source": [
        "### Section 3: Define the Training Loop!"
      ],
      "metadata": {
        "id": "b6ynZ5qVbOyg"
      }
    },
    {
      "cell_type": "code",
      "source": [],
      "metadata": {
        "id": "ZfkQRs5FvRLY"
      },
      "execution_count": null,
      "outputs": []
    },
    {
      "cell_type": "code",
      "source": [
        "from torchmetrics import Metric\n",
        "\n",
        "class AverageLoss(Metric):\n",
        "    def __init__(self, **kwargs):\n",
        "        super().__init__(**kwargs)\n",
        "        self.add_state(\"losses\", default=torch.tensor(0, dtype=torch.float32), dist_reduce_fx=\"sum\")\n",
        "        self.add_state(\"total\", default=torch.tensor(0), dist_reduce_fx=\"sum\")\n",
        "\n",
        "    def update(self, loss: Tensor) -> None:\n",
        "        self.losses += loss.item()\n",
        "        self.total += 1\n",
        "\n",
        "    def compute(self) -> Tensor:\n",
        "        return self.losses / self.total"
      ],
      "metadata": {
        "id": "-6lkwoKnzsql"
      },
      "execution_count": null,
      "outputs": []
    },
    {
      "cell_type": "code",
      "execution_count": 70,
      "metadata": {
        "id": "15k7ydgi3Lh0"
      },
      "outputs": [],
      "source": [
        "def train_one_epoch(model, dataloader, optimizer, print_interval=50, device=\"cuda\"):\n",
        "    \"\"\"Defines one pass over the train dataloader, prints average metrics over print_interval steps.\"\"\"\n",
        "    accuracy_metric = torchmetrics.classification.Accuracy(task=\"multiclass\", num_classes=10)\n",
        "    loss_metric = AverageLoss()\n",
        "    for i, batch in enumerate(tqdm(dataloader)):\n",
        "        x, y = batch\n",
        "        # y = y.to(torch.float)\n",
        "        x = x.to(torch.float)\n",
        "        x = x.to(device)\n",
        "        y = y.to(device)\n",
        "        optimizer.zero_grad()\n",
        "        output = model(x)\n",
        "        # Cross-Entropy expects logits as input\n",
        "        loss = F.cross_entropy(output, y)\n",
        "        loss_metric(loss)\n",
        "        accuracy_metric(output.cpu(), y.cpu())\n",
        "        if i % print_interval == 0:\n",
        "          print(f\"Iteration: {i}, mean loss: {loss_metric.compute()}, train_accuracy:{accuracy_metric.compute()}\")\n",
        "          accuracy_metric.reset, loss_metric.reset()\n",
        "        loss.backward()\n",
        "        optimizer.step()\n",
        "\n",
        "def evaluate(model, val_dataloader, device=\"cuda\"):\n",
        "    \"\"\"Defines a validation loop, computes validation metrics over the entire val dataloader.\"\"\"\n",
        "    accuracy_metric = torchmetrics.classification.Accuracy(task=\"multiclass\", num_classes=10)\n",
        "    loss_metric = AverageLoss()\n",
        "    model.eval()\n",
        "    for i, batch in enumerate(tqdm(val_dataloader)):\n",
        "      x, y = batch\n",
        "      x = x.to(device)\n",
        "      x = x.to(torch.float)\n",
        "      y = y.to(device)\n",
        "      with torch.no_grad():\n",
        "        output = model(x)\n",
        "      loss = F.cross_entropy(output, y)\n",
        "      loss_metric(loss)\n",
        "      accuracy_metric(output.cpu(), y.cpu())\n",
        "      current_loss, current_accuracy = loss_metric.compute(), accuracy_metric.compute()\n",
        "    print(\"Val Metrics: val loss:\", current_loss, \"val accuracy:\", current_accuracy)\n",
        "    model.train()\n",
        "    return current_accuracy"
      ]
    },
    {
      "cell_type": "code",
      "source": [
        "# Hyperparameters\n",
        "N_EPOCHS = 100\n",
        "LEARNING_RATE = 1e-3\n",
        "BATCH_SIZE = 128\n",
        "DEVICE=\"cuda\""
      ],
      "metadata": {
        "id": "pU_WipUgNglP"
      },
      "execution_count": 87,
      "outputs": []
    },
    {
      "cell_type": "code",
      "execution_count": 88,
      "metadata": {
        "id": "AQ34cNwlDo3X",
        "colab": {
          "base_uri": "https://localhost:8080/",
          "height": 1000
        },
        "outputId": "adeb1d09-3ee6-49e7-a52c-4d4a5d6d06cb"
      },
      "outputs": [
        {
          "output_type": "stream",
          "name": "stderr",
          "text": [
            "  3%|▎         | 13/391 [00:00<00:06, 61.47it/s]"
          ]
        },
        {
          "output_type": "stream",
          "name": "stdout",
          "text": [
            "Iteration: 0, mean loss: 2.29905366897583, train_accuracy:0.1015625\n"
          ]
        },
        {
          "output_type": "stream",
          "name": "stderr",
          "text": [
            " 15%|█▍        | 58/391 [00:00<00:04, 69.67it/s]"
          ]
        },
        {
          "output_type": "stream",
          "name": "stdout",
          "text": [
            "Iteration: 50, mean loss: 2.3000130653381348, train_accuracy:0.10033700615167618\n"
          ]
        },
        {
          "output_type": "stream",
          "name": "stderr",
          "text": [
            " 28%|██▊       | 110/391 [00:01<00:04, 69.31it/s]"
          ]
        },
        {
          "output_type": "stream",
          "name": "stdout",
          "text": [
            "Iteration: 100, mean loss: 2.289975643157959, train_accuracy:0.11215965449810028\n"
          ]
        },
        {
          "output_type": "stream",
          "name": "stderr",
          "text": [
            " 41%|████      | 160/391 [00:02<00:03, 66.67it/s]"
          ]
        },
        {
          "output_type": "stream",
          "name": "stdout",
          "text": [
            "Iteration: 150, mean loss: 2.27557110786438, train_accuracy:0.12934602797031403\n"
          ]
        },
        {
          "output_type": "stream",
          "name": "stderr",
          "text": [
            " 54%|█████▎    | 210/391 [00:03<00:02, 65.28it/s]"
          ]
        },
        {
          "output_type": "stream",
          "name": "stdout",
          "text": [
            "Iteration: 200, mean loss: 2.256390333175659, train_accuracy:0.14408425986766815\n"
          ]
        },
        {
          "output_type": "stream",
          "name": "stderr",
          "text": [
            " 67%|██████▋   | 262/391 [00:03<00:01, 67.67it/s]"
          ]
        },
        {
          "output_type": "stream",
          "name": "stdout",
          "text": [
            "Iteration: 250, mean loss: 2.2432711124420166, train_accuracy:0.15677914023399353\n"
          ]
        },
        {
          "output_type": "stream",
          "name": "stderr",
          "text": [
            " 79%|███████▉  | 309/391 [00:04<00:01, 53.15it/s]"
          ]
        },
        {
          "output_type": "stream",
          "name": "stdout",
          "text": [
            "Iteration: 300, mean loss: 2.2327001094818115, train_accuracy:0.16720306873321533\n"
          ]
        },
        {
          "output_type": "stream",
          "name": "stderr",
          "text": [
            " 91%|█████████ | 356/391 [00:05<00:00, 49.01it/s]"
          ]
        },
        {
          "output_type": "stream",
          "name": "stdout",
          "text": [
            "Iteration: 350, mean loss: 2.226414442062378, train_accuracy:0.17516915500164032\n"
          ]
        },
        {
          "output_type": "stream",
          "name": "stderr",
          "text": [
            "100%|██████████| 391/391 [00:06<00:00, 60.80it/s]\n",
            "100%|██████████| 79/79 [00:00<00:00, 80.70it/s]\n"
          ]
        },
        {
          "output_type": "stream",
          "name": "stdout",
          "text": [
            "Val Metrics: val loss: tensor(2.2064) val accuracy: tensor(0.2459)\n"
          ]
        },
        {
          "output_type": "stream",
          "name": "stderr",
          "text": [
            "  2%|▏         | 8/391 [00:00<00:05, 70.66it/s]"
          ]
        },
        {
          "output_type": "stream",
          "name": "stdout",
          "text": [
            "Iteration: 0, mean loss: 2.232604503631592, train_accuracy:0.203125\n"
          ]
        },
        {
          "output_type": "stream",
          "name": "stderr",
          "text": [
            " 16%|█▌        | 61/391 [00:00<00:04, 68.72it/s]"
          ]
        },
        {
          "output_type": "stream",
          "name": "stdout",
          "text": [
            "Iteration: 50, mean loss: 2.2002108097076416, train_accuracy:0.250612735748291\n"
          ]
        },
        {
          "output_type": "stream",
          "name": "stderr",
          "text": [
            " 29%|██▉       | 113/391 [00:01<00:03, 69.76it/s]"
          ]
        },
        {
          "output_type": "stream",
          "name": "stdout",
          "text": [
            "Iteration: 100, mean loss: 2.2142605781555176, train_accuracy:0.24350246787071228\n"
          ]
        },
        {
          "output_type": "stream",
          "name": "stderr",
          "text": [
            " 42%|████▏     | 165/391 [00:02<00:03, 69.31it/s]"
          ]
        },
        {
          "output_type": "stream",
          "name": "stdout",
          "text": [
            "Iteration: 150, mean loss: 2.2039988040924072, train_accuracy:0.24601614475250244\n"
          ]
        },
        {
          "output_type": "stream",
          "name": "stderr",
          "text": [
            " 53%|█████▎    | 209/391 [00:03<00:02, 69.73it/s]"
          ]
        },
        {
          "output_type": "stream",
          "name": "stdout",
          "text": [
            "Iteration: 200, mean loss: 2.179910182952881, train_accuracy:0.2529151141643524\n"
          ]
        },
        {
          "output_type": "stream",
          "name": "stderr",
          "text": [
            " 66%|██████▋   | 260/391 [00:03<00:01, 69.01it/s]"
          ]
        },
        {
          "output_type": "stream",
          "name": "stdout",
          "text": [
            "Iteration: 250, mean loss: 2.186007261276245, train_accuracy:0.2552913427352905\n"
          ]
        },
        {
          "output_type": "stream",
          "name": "stderr",
          "text": [
            " 80%|███████▉  | 312/391 [00:04<00:01, 69.29it/s]"
          ]
        },
        {
          "output_type": "stream",
          "name": "stdout",
          "text": [
            "Iteration: 300, mean loss: 2.1807501316070557, train_accuracy:0.25851330161094666\n"
          ]
        },
        {
          "output_type": "stream",
          "name": "stderr",
          "text": [
            " 93%|█████████▎| 362/391 [00:05<00:00, 67.24it/s]"
          ]
        },
        {
          "output_type": "stream",
          "name": "stdout",
          "text": [
            "Iteration: 350, mean loss: 2.168613910675049, train_accuracy:0.26248663663864136\n"
          ]
        },
        {
          "output_type": "stream",
          "name": "stderr",
          "text": [
            "100%|██████████| 391/391 [00:05<00:00, 68.73it/s]\n",
            "100%|██████████| 79/79 [00:00<00:00, 79.90it/s]\n"
          ]
        },
        {
          "output_type": "stream",
          "name": "stdout",
          "text": [
            "Val Metrics: val loss: tensor(2.1529) val accuracy: tensor(0.3103)\n"
          ]
        },
        {
          "output_type": "stream",
          "name": "stderr",
          "text": [
            "  2%|▏         | 7/391 [00:00<00:05, 68.23it/s]"
          ]
        },
        {
          "output_type": "stream",
          "name": "stdout",
          "text": [
            "Iteration: 0, mean loss: 2.1620383262634277, train_accuracy:0.3125\n"
          ]
        },
        {
          "output_type": "stream",
          "name": "stderr",
          "text": [
            " 15%|█▌        | 59/391 [00:00<00:04, 69.02it/s]"
          ]
        },
        {
          "output_type": "stream",
          "name": "stdout",
          "text": [
            "Iteration: 50, mean loss: 2.1549036502838135, train_accuracy:0.30422794818878174\n"
          ]
        },
        {
          "output_type": "stream",
          "name": "stderr",
          "text": [
            " 28%|██▊       | 110/391 [00:01<00:04, 67.67it/s]"
          ]
        },
        {
          "output_type": "stream",
          "name": "stdout",
          "text": [
            "Iteration: 100, mean loss: 2.1628310680389404, train_accuracy:0.29950493574142456\n"
          ]
        },
        {
          "output_type": "stream",
          "name": "stderr",
          "text": [
            " 39%|███▉      | 153/391 [00:02<00:03, 64.58it/s]"
          ]
        },
        {
          "output_type": "stream",
          "name": "stdout",
          "text": [
            "Iteration: 150, mean loss: 2.1543843746185303, train_accuracy:0.29920321702957153\n"
          ]
        },
        {
          "output_type": "stream",
          "name": "stderr",
          "text": [
            " 53%|█████▎    | 208/391 [00:03<00:03, 52.39it/s]"
          ]
        },
        {
          "output_type": "stream",
          "name": "stdout",
          "text": [
            "Iteration: 200, mean loss: 2.1336662769317627, train_accuracy:0.30635884404182434\n"
          ]
        },
        {
          "output_type": "stream",
          "name": "stderr",
          "text": [
            " 66%|██████▋   | 260/391 [00:04<00:02, 53.15it/s]"
          ]
        },
        {
          "output_type": "stream",
          "name": "stdout",
          "text": [
            "Iteration: 250, mean loss: 2.136598587036133, train_accuracy:0.3089517056941986\n"
          ]
        },
        {
          "output_type": "stream",
          "name": "stderr",
          "text": [
            " 79%|███████▉  | 310/391 [00:05<00:01, 61.74it/s]"
          ]
        },
        {
          "output_type": "stream",
          "name": "stdout",
          "text": [
            "Iteration: 300, mean loss: 2.1375486850738525, train_accuracy:0.310890793800354\n"
          ]
        },
        {
          "output_type": "stream",
          "name": "stderr",
          "text": [
            " 92%|█████████▏| 359/391 [00:05<00:00, 66.35it/s]"
          ]
        },
        {
          "output_type": "stream",
          "name": "stdout",
          "text": [
            "Iteration: 350, mean loss: 2.129990339279175, train_accuracy:0.31303417682647705\n"
          ]
        },
        {
          "output_type": "stream",
          "name": "stderr",
          "text": [
            "100%|██████████| 391/391 [00:06<00:00, 60.93it/s]\n",
            "100%|██████████| 79/79 [00:00<00:00, 80.28it/s]\n"
          ]
        },
        {
          "output_type": "stream",
          "name": "stdout",
          "text": [
            "Val Metrics: val loss: tensor(2.1212) val accuracy: tensor(0.3391)\n"
          ]
        },
        {
          "output_type": "stream",
          "name": "stderr",
          "text": [
            "  2%|▏         | 7/391 [00:00<00:05, 69.49it/s]"
          ]
        },
        {
          "output_type": "stream",
          "name": "stdout",
          "text": [
            "Iteration: 0, mean loss: 2.142346143722534, train_accuracy:0.3125\n"
          ]
        },
        {
          "output_type": "stream",
          "name": "stderr",
          "text": [
            " 16%|█▌        | 63/391 [00:00<00:04, 67.90it/s]"
          ]
        },
        {
          "output_type": "stream",
          "name": "stdout",
          "text": [
            "Iteration: 50, mean loss: 2.1200640201568604, train_accuracy:0.33700981736183167\n"
          ]
        },
        {
          "output_type": "stream",
          "name": "stderr",
          "text": [
            " 29%|██▉       | 114/391 [00:01<00:04, 67.72it/s]"
          ]
        },
        {
          "output_type": "stream",
          "name": "stdout",
          "text": [
            "Iteration: 100, mean loss: 2.1266679763793945, train_accuracy:0.3323793411254883\n"
          ]
        },
        {
          "output_type": "stream",
          "name": "stderr",
          "text": [
            " 41%|████      | 159/391 [00:02<00:03, 68.80it/s]"
          ]
        },
        {
          "output_type": "stream",
          "name": "stdout",
          "text": [
            "Iteration: 150, mean loss: 2.1197192668914795, train_accuracy:0.3344888389110565\n"
          ]
        },
        {
          "output_type": "stream",
          "name": "stderr",
          "text": [
            " 54%|█████▎    | 210/391 [00:03<00:02, 69.27it/s]"
          ]
        },
        {
          "output_type": "stream",
          "name": "stdout",
          "text": [
            "Iteration: 200, mean loss: 2.1060338020324707, train_accuracy:0.33850279450416565\n"
          ]
        },
        {
          "output_type": "stream",
          "name": "stderr",
          "text": [
            " 67%|██████▋   | 262/391 [00:03<00:01, 68.07it/s]"
          ]
        },
        {
          "output_type": "stream",
          "name": "stdout",
          "text": [
            "Iteration: 250, mean loss: 2.1044766902923584, train_accuracy:0.3422248363494873\n"
          ]
        },
        {
          "output_type": "stream",
          "name": "stderr",
          "text": [
            " 80%|████████  | 313/391 [00:04<00:01, 66.28it/s]"
          ]
        },
        {
          "output_type": "stream",
          "name": "stdout",
          "text": [
            "Iteration: 300, mean loss: 2.1037850379943848, train_accuracy:0.34419122338294983\n"
          ]
        },
        {
          "output_type": "stream",
          "name": "stderr",
          "text": [
            " 93%|█████████▎| 364/391 [00:05<00:00, 67.35it/s]"
          ]
        },
        {
          "output_type": "stream",
          "name": "stdout",
          "text": [
            "Iteration: 350, mean loss: 2.0994462966918945, train_accuracy:0.34686610102653503\n"
          ]
        },
        {
          "output_type": "stream",
          "name": "stderr",
          "text": [
            "100%|██████████| 391/391 [00:05<00:00, 67.99it/s]\n",
            "100%|██████████| 79/79 [00:00<00:00, 80.37it/s]\n"
          ]
        },
        {
          "output_type": "stream",
          "name": "stdout",
          "text": [
            "Val Metrics: val loss: tensor(2.0962) val accuracy: tensor(0.3644)\n"
          ]
        },
        {
          "output_type": "stream",
          "name": "stderr",
          "text": [
            "  2%|▏         | 7/391 [00:00<00:05, 67.85it/s]"
          ]
        },
        {
          "output_type": "stream",
          "name": "stdout",
          "text": [
            "Iteration: 0, mean loss: 2.082278251647949, train_accuracy:0.3828125\n"
          ]
        },
        {
          "output_type": "stream",
          "name": "stderr",
          "text": [
            " 14%|█▍        | 55/391 [00:01<00:07, 42.54it/s]"
          ]
        },
        {
          "output_type": "stream",
          "name": "stdout",
          "text": [
            "Iteration: 50, mean loss: 2.0896074771881104, train_accuracy:0.36534926295280457\n"
          ]
        },
        {
          "output_type": "stream",
          "name": "stderr",
          "text": [
            " 28%|██▊       | 109/391 [00:02<00:05, 50.56it/s]"
          ]
        },
        {
          "output_type": "stream",
          "name": "stdout",
          "text": [
            "Iteration: 100, mean loss: 2.0929436683654785, train_accuracy:0.36556312441825867\n"
          ]
        },
        {
          "output_type": "stream",
          "name": "stderr",
          "text": [
            " 41%|████      | 159/391 [00:03<00:03, 66.05it/s]"
          ]
        },
        {
          "output_type": "stream",
          "name": "stdout",
          "text": [
            "Iteration: 150, mean loss: 2.0872576236724854, train_accuracy:0.3652731776237488\n"
          ]
        },
        {
          "output_type": "stream",
          "name": "stderr",
          "text": [
            " 54%|█████▎    | 210/391 [00:03<00:02, 68.88it/s]"
          ]
        },
        {
          "output_type": "stream",
          "name": "stdout",
          "text": [
            "Iteration: 200, mean loss: 2.078188419342041, train_accuracy:0.3686645030975342\n"
          ]
        },
        {
          "output_type": "stream",
          "name": "stderr",
          "text": [
            " 66%|██████▋   | 260/391 [00:04<00:01, 67.68it/s]"
          ]
        },
        {
          "output_type": "stream",
          "name": "stdout",
          "text": [
            "Iteration: 250, mean loss: 2.077322244644165, train_accuracy:0.37142056226730347\n"
          ]
        },
        {
          "output_type": "stream",
          "name": "stderr",
          "text": [
            " 79%|███████▉  | 310/391 [00:05<00:01, 65.47it/s]"
          ]
        },
        {
          "output_type": "stream",
          "name": "stdout",
          "text": [
            "Iteration: 300, mean loss: 2.0788075923919678, train_accuracy:0.37362438440322876\n"
          ]
        },
        {
          "output_type": "stream",
          "name": "stderr",
          "text": [
            " 92%|█████████▏| 360/391 [00:06<00:00, 66.03it/s]"
          ]
        },
        {
          "output_type": "stream",
          "name": "stdout",
          "text": [
            "Iteration: 350, mean loss: 2.0694963932037354, train_accuracy:0.37615740299224854\n"
          ]
        },
        {
          "output_type": "stream",
          "name": "stderr",
          "text": [
            "100%|██████████| 391/391 [00:06<00:00, 58.49it/s]\n",
            "100%|██████████| 79/79 [00:00<00:00, 80.58it/s]\n"
          ]
        },
        {
          "output_type": "stream",
          "name": "stdout",
          "text": [
            "Val Metrics: val loss: tensor(2.0578) val accuracy: tensor(0.4040)\n"
          ]
        },
        {
          "output_type": "stream",
          "name": "stderr",
          "text": [
            "  2%|▏         | 7/391 [00:00<00:05, 68.98it/s]"
          ]
        },
        {
          "output_type": "stream",
          "name": "stdout",
          "text": [
            "Iteration: 0, mean loss: 2.0302226543426514, train_accuracy:0.4140625\n"
          ]
        },
        {
          "output_type": "stream",
          "name": "stderr",
          "text": [
            " 16%|█▋        | 64/391 [00:00<00:04, 68.78it/s]"
          ]
        },
        {
          "output_type": "stream",
          "name": "stdout",
          "text": [
            "Iteration: 50, mean loss: 2.066239833831787, train_accuracy:0.391237735748291\n"
          ]
        },
        {
          "output_type": "stream",
          "name": "stderr",
          "text": [
            " 29%|██▉       | 113/391 [00:01<00:04, 66.81it/s]"
          ]
        },
        {
          "output_type": "stream",
          "name": "stdout",
          "text": [
            "Iteration: 100, mean loss: 2.0768985748291016, train_accuracy:0.3838180601596832\n"
          ]
        },
        {
          "output_type": "stream",
          "name": "stderr",
          "text": [
            " 42%|████▏     | 164/391 [00:02<00:03, 68.90it/s]"
          ]
        },
        {
          "output_type": "stream",
          "name": "stdout",
          "text": [
            "Iteration: 150, mean loss: 2.0658648014068604, train_accuracy:0.38581332564353943\n"
          ]
        },
        {
          "output_type": "stream",
          "name": "stderr",
          "text": [
            " 55%|█████▍    | 215/391 [00:03<00:02, 69.15it/s]"
          ]
        },
        {
          "output_type": "stream",
          "name": "stdout",
          "text": [
            "Iteration: 200, mean loss: 2.058690309524536, train_accuracy:0.38910913467407227\n"
          ]
        },
        {
          "output_type": "stream",
          "name": "stderr",
          "text": [
            " 68%|██████▊   | 264/391 [00:03<00:01, 66.23it/s]"
          ]
        },
        {
          "output_type": "stream",
          "name": "stdout",
          "text": [
            "Iteration: 250, mean loss: 2.055792808532715, train_accuracy:0.39162102341651917\n"
          ]
        },
        {
          "output_type": "stream",
          "name": "stderr",
          "text": [
            " 80%|████████  | 313/391 [00:04<00:01, 66.66it/s]"
          ]
        },
        {
          "output_type": "stream",
          "name": "stdout",
          "text": [
            "Iteration: 300, mean loss: 2.0583877563476562, train_accuracy:0.3928830921649933\n"
          ]
        },
        {
          "output_type": "stream",
          "name": "stderr",
          "text": [
            " 91%|█████████▏| 357/391 [00:05<00:00, 51.17it/s]"
          ]
        },
        {
          "output_type": "stream",
          "name": "stdout",
          "text": [
            "Iteration: 350, mean loss: 2.049642562866211, train_accuracy:0.3949652910232544\n"
          ]
        },
        {
          "output_type": "stream",
          "name": "stderr",
          "text": [
            "100%|██████████| 391/391 [00:06<00:00, 63.38it/s]\n",
            "100%|██████████| 79/79 [00:01<00:00, 63.79it/s]\n"
          ]
        },
        {
          "output_type": "stream",
          "name": "stdout",
          "text": [
            "Val Metrics: val loss: tensor(2.0488) val accuracy: tensor(0.4095)\n"
          ]
        },
        {
          "output_type": "stream",
          "name": "stderr",
          "text": [
            "  2%|▏         | 7/391 [00:00<00:05, 68.32it/s]"
          ]
        },
        {
          "output_type": "stream",
          "name": "stdout",
          "text": [
            "Iteration: 0, mean loss: 1.9925987720489502, train_accuracy:0.46875\n"
          ]
        },
        {
          "output_type": "stream",
          "name": "stderr",
          "text": [
            " 15%|█▍        | 58/391 [00:00<00:04, 66.69it/s]"
          ]
        },
        {
          "output_type": "stream",
          "name": "stdout",
          "text": [
            "Iteration: 50, mean loss: 2.041086435317993, train_accuracy:0.4195772111415863\n"
          ]
        },
        {
          "output_type": "stream",
          "name": "stderr",
          "text": [
            " 28%|██▊       | 109/391 [00:01<00:04, 67.77it/s]"
          ]
        },
        {
          "output_type": "stream",
          "name": "stdout",
          "text": [
            "Iteration: 100, mean loss: 2.0530359745025635, train_accuracy:0.41143256425857544\n"
          ]
        },
        {
          "output_type": "stream",
          "name": "stderr",
          "text": [
            " 40%|████      | 158/391 [00:02<00:03, 67.47it/s]"
          ]
        },
        {
          "output_type": "stream",
          "name": "stdout",
          "text": [
            "Iteration: 150, mean loss: 2.048722982406616, train_accuracy:0.41064777970314026\n"
          ]
        },
        {
          "output_type": "stream",
          "name": "stderr",
          "text": [
            " 53%|█████▎    | 208/391 [00:03<00:02, 67.42it/s]"
          ]
        },
        {
          "output_type": "stream",
          "name": "stdout",
          "text": [
            "Iteration: 200, mean loss: 2.03486967086792, train_accuracy:0.41386815905570984\n"
          ]
        },
        {
          "output_type": "stream",
          "name": "stderr",
          "text": [
            " 66%|██████▌   | 259/391 [00:03<00:01, 68.64it/s]"
          ]
        },
        {
          "output_type": "stream",
          "name": "stdout",
          "text": [
            "Iteration: 250, mean loss: 2.0445449352264404, train_accuracy:0.41331547498703003\n"
          ]
        },
        {
          "output_type": "stream",
          "name": "stderr",
          "text": [
            " 80%|███████▉  | 311/391 [00:04<00:01, 68.65it/s]"
          ]
        },
        {
          "output_type": "stream",
          "name": "stdout",
          "text": [
            "Iteration: 300, mean loss: 2.0502309799194336, train_accuracy:0.4119860827922821\n"
          ]
        },
        {
          "output_type": "stream",
          "name": "stderr",
          "text": [
            " 93%|█████████▎| 363/391 [00:05<00:00, 69.08it/s]"
          ]
        },
        {
          "output_type": "stream",
          "name": "stdout",
          "text": [
            "Iteration: 350, mean loss: 2.029956102371216, train_accuracy:0.4145299196243286\n"
          ]
        },
        {
          "output_type": "stream",
          "name": "stderr",
          "text": [
            "100%|██████████| 391/391 [00:05<00:00, 67.73it/s]\n",
            "100%|██████████| 79/79 [00:00<00:00, 80.58it/s]\n"
          ]
        },
        {
          "output_type": "stream",
          "name": "stdout",
          "text": [
            "Val Metrics: val loss: tensor(2.0276) val accuracy: tensor(0.4379)\n"
          ]
        },
        {
          "output_type": "stream",
          "name": "stderr",
          "text": [
            "  2%|▏         | 7/391 [00:00<00:05, 68.73it/s]"
          ]
        },
        {
          "output_type": "stream",
          "name": "stdout",
          "text": [
            "Iteration: 0, mean loss: 1.975805401802063, train_accuracy:0.5\n"
          ]
        },
        {
          "output_type": "stream",
          "name": "stderr",
          "text": [
            " 15%|█▍        | 58/391 [00:00<00:04, 67.43it/s]"
          ]
        },
        {
          "output_type": "stream",
          "name": "stdout",
          "text": [
            "Iteration: 50, mean loss: 2.0307178497314453, train_accuracy:0.43045341968536377\n"
          ]
        },
        {
          "output_type": "stream",
          "name": "stderr",
          "text": [
            " 29%|██▉       | 115/391 [00:01<00:03, 69.32it/s]"
          ]
        },
        {
          "output_type": "stream",
          "name": "stdout",
          "text": [
            "Iteration: 100, mean loss: 2.0323119163513184, train_accuracy:0.42744430899620056\n"
          ]
        },
        {
          "output_type": "stream",
          "name": "stderr",
          "text": [
            " 42%|████▏     | 165/391 [00:02<00:03, 68.93it/s]"
          ]
        },
        {
          "output_type": "stream",
          "name": "stdout",
          "text": [
            "Iteration: 150, mean loss: 2.030128240585327, train_accuracy:0.42798012495040894\n"
          ]
        },
        {
          "output_type": "stream",
          "name": "stderr",
          "text": [
            " 54%|█████▍    | 211/391 [00:03<00:03, 51.59it/s]"
          ]
        },
        {
          "output_type": "stream",
          "name": "stdout",
          "text": [
            "Iteration: 200, mean loss: 2.024393320083618, train_accuracy:0.4301927983760834\n"
          ]
        },
        {
          "output_type": "stream",
          "name": "stderr",
          "text": [
            " 66%|██████▌   | 257/391 [00:04<00:02, 47.93it/s]"
          ]
        },
        {
          "output_type": "stream",
          "name": "stdout",
          "text": [
            "Iteration: 250, mean loss: 2.0269346237182617, train_accuracy:0.43068352341651917\n"
          ]
        },
        {
          "output_type": "stream",
          "name": "stderr",
          "text": [
            " 80%|███████▉  | 312/391 [00:05<00:01, 63.71it/s]"
          ]
        },
        {
          "output_type": "stream",
          "name": "stdout",
          "text": [
            "Iteration: 300, mean loss: 2.035391330718994, train_accuracy:0.4290905296802521\n"
          ]
        },
        {
          "output_type": "stream",
          "name": "stderr",
          "text": [
            " 92%|█████████▏| 358/391 [00:05<00:00, 69.18it/s]"
          ]
        },
        {
          "output_type": "stream",
          "name": "stdout",
          "text": [
            "Iteration: 350, mean loss: 2.0174896717071533, train_accuracy:0.4307781457901001\n"
          ]
        },
        {
          "output_type": "stream",
          "name": "stderr",
          "text": [
            "100%|██████████| 391/391 [00:06<00:00, 61.38it/s]\n",
            "100%|██████████| 79/79 [00:00<00:00, 79.39it/s]\n"
          ]
        },
        {
          "output_type": "stream",
          "name": "stdout",
          "text": [
            "Val Metrics: val loss: tensor(2.0143) val accuracy: tensor(0.4478)\n"
          ]
        },
        {
          "output_type": "stream",
          "name": "stderr",
          "text": [
            "  2%|▏         | 7/391 [00:00<00:05, 68.18it/s]"
          ]
        },
        {
          "output_type": "stream",
          "name": "stdout",
          "text": [
            "Iteration: 0, mean loss: 1.9378688335418701, train_accuracy:0.5390625\n"
          ]
        },
        {
          "output_type": "stream",
          "name": "stderr",
          "text": [
            " 16%|█▋        | 64/391 [00:00<00:04, 67.47it/s]"
          ]
        },
        {
          "output_type": "stream",
          "name": "stdout",
          "text": [
            "Iteration: 50, mean loss: 2.0122716426849365, train_accuracy:0.44776347279548645\n"
          ]
        },
        {
          "output_type": "stream",
          "name": "stderr",
          "text": [
            " 28%|██▊       | 108/391 [00:01<00:04, 69.29it/s]"
          ]
        },
        {
          "output_type": "stream",
          "name": "stdout",
          "text": [
            "Iteration: 100, mean loss: 2.0185599327087402, train_accuracy:0.4439975321292877\n"
          ]
        },
        {
          "output_type": "stream",
          "name": "stderr",
          "text": [
            " 40%|████      | 158/391 [00:02<00:03, 68.90it/s]"
          ]
        },
        {
          "output_type": "stream",
          "name": "stdout",
          "text": [
            "Iteration: 150, mean loss: 2.014061450958252, train_accuracy:0.4452090263366699\n"
          ]
        },
        {
          "output_type": "stream",
          "name": "stderr",
          "text": [
            " 53%|█████▎    | 209/391 [00:03<00:02, 67.96it/s]"
          ]
        },
        {
          "output_type": "stream",
          "name": "stdout",
          "text": [
            "Iteration: 200, mean loss: 2.009427547454834, train_accuracy:0.446595162153244\n"
          ]
        },
        {
          "output_type": "stream",
          "name": "stderr",
          "text": [
            " 67%|██████▋   | 261/391 [00:03<00:01, 68.36it/s]"
          ]
        },
        {
          "output_type": "stream",
          "name": "stdout",
          "text": [
            "Iteration: 250, mean loss: 2.0106747150421143, train_accuracy:0.4470866620540619\n"
          ]
        },
        {
          "output_type": "stream",
          "name": "stderr",
          "text": [
            " 80%|███████▉  | 311/391 [00:04<00:01, 69.02it/s]"
          ]
        },
        {
          "output_type": "stream",
          "name": "stdout",
          "text": [
            "Iteration: 300, mean loss: 2.015723943710327, train_accuracy:0.4464026093482971\n"
          ]
        },
        {
          "output_type": "stream",
          "name": "stderr",
          "text": [
            " 92%|█████████▏| 361/391 [00:05<00:00, 68.58it/s]"
          ]
        },
        {
          "output_type": "stream",
          "name": "stdout",
          "text": [
            "Iteration: 350, mean loss: 2.0103871822357178, train_accuracy:0.44713765382766724\n"
          ]
        },
        {
          "output_type": "stream",
          "name": "stderr",
          "text": [
            "100%|██████████| 391/391 [00:05<00:00, 68.32it/s]\n",
            "100%|██████████| 79/79 [00:01<00:00, 77.94it/s]\n"
          ]
        },
        {
          "output_type": "stream",
          "name": "stdout",
          "text": [
            "Val Metrics: val loss: tensor(1.9973) val accuracy: tensor(0.4676)\n"
          ]
        },
        {
          "output_type": "stream",
          "name": "stderr",
          "text": [
            "  2%|▏         | 7/391 [00:00<00:05, 67.69it/s]"
          ]
        },
        {
          "output_type": "stream",
          "name": "stdout",
          "text": [
            "Iteration: 0, mean loss: 1.9573264122009277, train_accuracy:0.5234375\n"
          ]
        },
        {
          "output_type": "stream",
          "name": "stderr",
          "text": [
            " 14%|█▍        | 56/391 [00:00<00:06, 54.45it/s]"
          ]
        },
        {
          "output_type": "stream",
          "name": "stdout",
          "text": [
            "Iteration: 50, mean loss: 1.995784878730774, train_accuracy:0.46537989377975464\n"
          ]
        },
        {
          "output_type": "stream",
          "name": "stderr",
          "text": [
            " 28%|██▊       | 110/391 [00:01<00:05, 52.26it/s]"
          ]
        },
        {
          "output_type": "stream",
          "name": "stdout",
          "text": [
            "Iteration: 100, mean loss: 2.002943992614746, train_accuracy:0.4609375\n"
          ]
        },
        {
          "output_type": "stream",
          "name": "stderr",
          "text": [
            " 42%|████▏     | 164/391 [00:03<00:03, 60.80it/s]"
          ]
        },
        {
          "output_type": "stream",
          "name": "stdout",
          "text": [
            "Iteration: 150, mean loss: 1.9941688776016235, train_accuracy:0.4637831151485443\n"
          ]
        },
        {
          "output_type": "stream",
          "name": "stderr",
          "text": [
            " 53%|█████▎    | 208/391 [00:03<00:02, 67.54it/s]"
          ]
        },
        {
          "output_type": "stream",
          "name": "stdout",
          "text": [
            "Iteration: 200, mean loss: 1.9925601482391357, train_accuracy:0.46470770239830017\n"
          ]
        },
        {
          "output_type": "stream",
          "name": "stderr",
          "text": [
            " 66%|██████▌   | 258/391 [00:04<00:02, 65.86it/s]"
          ]
        },
        {
          "output_type": "stream",
          "name": "stdout",
          "text": [
            "Iteration: 250, mean loss: 1.9944548606872559, train_accuracy:0.4656374454498291\n"
          ]
        },
        {
          "output_type": "stream",
          "name": "stderr",
          "text": [
            " 79%|███████▉  | 310/391 [00:05<00:01, 69.28it/s]"
          ]
        },
        {
          "output_type": "stream",
          "name": "stdout",
          "text": [
            "Iteration: 300, mean loss: 1.999314546585083, train_accuracy:0.464778870344162\n"
          ]
        },
        {
          "output_type": "stream",
          "name": "stderr",
          "text": [
            " 92%|█████████▏| 360/391 [00:05<00:00, 68.97it/s]"
          ]
        },
        {
          "output_type": "stream",
          "name": "stdout",
          "text": [
            "Iteration: 350, mean loss: 2.000511884689331, train_accuracy:0.4637419879436493\n"
          ]
        },
        {
          "output_type": "stream",
          "name": "stderr",
          "text": [
            "100%|██████████| 391/391 [00:06<00:00, 61.60it/s]\n",
            "100%|██████████| 79/79 [00:00<00:00, 80.39it/s]\n"
          ]
        },
        {
          "output_type": "stream",
          "name": "stdout",
          "text": [
            "Val Metrics: val loss: tensor(2.0013) val accuracy: tensor(0.4607)\n"
          ]
        },
        {
          "output_type": "stream",
          "name": "stderr",
          "text": [
            "  2%|▏         | 7/391 [00:00<00:06, 62.68it/s]"
          ]
        },
        {
          "output_type": "stream",
          "name": "stdout",
          "text": [
            "Iteration: 0, mean loss: 1.9236457347869873, train_accuracy:0.5859375\n"
          ]
        },
        {
          "output_type": "stream",
          "name": "stderr",
          "text": [
            " 15%|█▍        | 58/391 [00:00<00:04, 68.76it/s]"
          ]
        },
        {
          "output_type": "stream",
          "name": "stdout",
          "text": [
            "Iteration: 50, mean loss: 1.9862284660339355, train_accuracy:0.4765625\n"
          ]
        },
        {
          "output_type": "stream",
          "name": "stderr",
          "text": [
            " 28%|██▊       | 111/391 [00:01<00:04, 69.32it/s]"
          ]
        },
        {
          "output_type": "stream",
          "name": "stdout",
          "text": [
            "Iteration: 100, mean loss: 1.9897637367248535, train_accuracy:0.4730043411254883\n"
          ]
        },
        {
          "output_type": "stream",
          "name": "stderr",
          "text": [
            " 41%|████▏     | 162/391 [00:02<00:03, 67.08it/s]"
          ]
        },
        {
          "output_type": "stream",
          "name": "stdout",
          "text": [
            "Iteration: 150, mean loss: 1.9889417886734009, train_accuracy:0.47221648693084717\n"
          ]
        },
        {
          "output_type": "stream",
          "name": "stderr",
          "text": [
            " 54%|█████▍    | 213/391 [00:03<00:02, 69.14it/s]"
          ]
        },
        {
          "output_type": "stream",
          "name": "stdout",
          "text": [
            "Iteration: 200, mean loss: 1.9793516397476196, train_accuracy:0.47353076934814453\n"
          ]
        },
        {
          "output_type": "stream",
          "name": "stderr",
          "text": [
            " 67%|██████▋   | 263/391 [00:03<00:01, 67.88it/s]"
          ]
        },
        {
          "output_type": "stream",
          "name": "stdout",
          "text": [
            "Iteration: 250, mean loss: 1.978183388710022, train_accuracy:0.47556647658348083\n"
          ]
        },
        {
          "output_type": "stream",
          "name": "stderr",
          "text": [
            " 81%|████████  | 315/391 [00:04<00:01, 68.67it/s]"
          ]
        },
        {
          "output_type": "stream",
          "name": "stdout",
          "text": [
            "Iteration: 300, mean loss: 1.9858999252319336, train_accuracy:0.4753166437149048\n"
          ]
        },
        {
          "output_type": "stream",
          "name": "stderr",
          "text": [
            " 92%|█████████▏| 358/391 [00:05<00:00, 67.25it/s]"
          ]
        },
        {
          "output_type": "stream",
          "name": "stdout",
          "text": [
            "Iteration: 350, mean loss: 1.985655665397644, train_accuracy:0.4750712215900421\n"
          ]
        },
        {
          "output_type": "stream",
          "name": "stderr",
          "text": [
            "100%|██████████| 391/391 [00:05<00:00, 66.12it/s]\n",
            "100%|██████████| 79/79 [00:01<00:00, 54.67it/s]\n"
          ]
        },
        {
          "output_type": "stream",
          "name": "stdout",
          "text": [
            "Val Metrics: val loss: tensor(1.9717) val accuracy: tensor(0.4948)\n"
          ]
        },
        {
          "output_type": "stream",
          "name": "stderr",
          "text": [
            "  1%|          | 4/391 [00:00<00:09, 39.09it/s]"
          ]
        },
        {
          "output_type": "stream",
          "name": "stdout",
          "text": [
            "Iteration: 0, mean loss: 1.902782678604126, train_accuracy:0.5390625\n"
          ]
        },
        {
          "output_type": "stream",
          "name": "stderr",
          "text": [
            " 16%|█▌        | 62/391 [00:00<00:04, 67.92it/s]"
          ]
        },
        {
          "output_type": "stream",
          "name": "stdout",
          "text": [
            "Iteration: 50, mean loss: 1.968845009803772, train_accuracy:0.4924938678741455\n"
          ]
        },
        {
          "output_type": "stream",
          "name": "stderr",
          "text": [
            " 28%|██▊       | 111/391 [00:01<00:04, 68.21it/s]"
          ]
        },
        {
          "output_type": "stream",
          "name": "stdout",
          "text": [
            "Iteration: 100, mean loss: 1.9793957471847534, train_accuracy:0.4877011179924011\n"
          ]
        },
        {
          "output_type": "stream",
          "name": "stderr",
          "text": [
            " 41%|████      | 161/391 [00:02<00:03, 67.81it/s]"
          ]
        },
        {
          "output_type": "stream",
          "name": "stdout",
          "text": [
            "Iteration: 150, mean loss: 1.9730279445648193, train_accuracy:0.4893418848514557\n"
          ]
        },
        {
          "output_type": "stream",
          "name": "stderr",
          "text": [
            " 54%|█████▍    | 211/391 [00:03<00:02, 66.66it/s]"
          ]
        },
        {
          "output_type": "stream",
          "name": "stdout",
          "text": [
            "Iteration: 200, mean loss: 1.9703161716461182, train_accuracy:0.489116907119751\n"
          ]
        },
        {
          "output_type": "stream",
          "name": "stderr",
          "text": [
            " 67%|██████▋   | 262/391 [00:03<00:01, 68.58it/s]"
          ]
        },
        {
          "output_type": "stream",
          "name": "stdout",
          "text": [
            "Iteration: 250, mean loss: 1.9705381393432617, train_accuracy:0.4891994595527649\n"
          ]
        },
        {
          "output_type": "stream",
          "name": "stderr",
          "text": [
            " 80%|███████▉  | 312/391 [00:04<00:01, 67.63it/s]"
          ]
        },
        {
          "output_type": "stream",
          "name": "stdout",
          "text": [
            "Iteration: 300, mean loss: 1.976508617401123, train_accuracy:0.4885278344154358\n"
          ]
        },
        {
          "output_type": "stream",
          "name": "stderr",
          "text": [
            " 93%|█████████▎| 363/391 [00:05<00:00, 67.89it/s]"
          ]
        },
        {
          "output_type": "stream",
          "name": "stdout",
          "text": [
            "Iteration: 350, mean loss: 1.973650336265564, train_accuracy:0.4880252778530121\n"
          ]
        },
        {
          "output_type": "stream",
          "name": "stderr",
          "text": [
            "100%|██████████| 391/391 [00:05<00:00, 67.57it/s]\n",
            "100%|██████████| 79/79 [00:01<00:00, 78.93it/s]\n"
          ]
        },
        {
          "output_type": "stream",
          "name": "stdout",
          "text": [
            "Val Metrics: val loss: tensor(1.9644) val accuracy: tensor(0.4972)\n"
          ]
        },
        {
          "output_type": "stream",
          "name": "stderr",
          "text": [
            "  2%|▏         | 7/391 [00:00<00:05, 69.83it/s]"
          ]
        },
        {
          "output_type": "stream",
          "name": "stdout",
          "text": [
            "Iteration: 0, mean loss: 1.8761708736419678, train_accuracy:0.5859375\n"
          ]
        },
        {
          "output_type": "stream",
          "name": "stderr",
          "text": [
            " 15%|█▍        | 57/391 [00:00<00:04, 67.91it/s]"
          ]
        },
        {
          "output_type": "stream",
          "name": "stdout",
          "text": [
            "Iteration: 50, mean loss: 1.956620216369629, train_accuracy:0.5070465803146362\n"
          ]
        },
        {
          "output_type": "stream",
          "name": "stderr",
          "text": [
            " 27%|██▋       | 107/391 [00:01<00:04, 66.61it/s]"
          ]
        },
        {
          "output_type": "stream",
          "name": "stdout",
          "text": [
            "Iteration: 100, mean loss: 1.9680382013320923, train_accuracy:0.5\n"
          ]
        },
        {
          "output_type": "stream",
          "name": "stderr",
          "text": [
            " 40%|████      | 158/391 [00:02<00:03, 69.16it/s]"
          ]
        },
        {
          "output_type": "stream",
          "name": "stdout",
          "text": [
            "Iteration: 150, mean loss: 1.9631052017211914, train_accuracy:0.49901697039604187\n"
          ]
        },
        {
          "output_type": "stream",
          "name": "stderr",
          "text": [
            " 53%|█████▎    | 208/391 [00:03<00:02, 68.81it/s]"
          ]
        },
        {
          "output_type": "stream",
          "name": "stdout",
          "text": [
            "Iteration: 200, mean loss: 1.9528663158416748, train_accuracy:0.5021766424179077\n"
          ]
        },
        {
          "output_type": "stream",
          "name": "stderr",
          "text": [
            " 66%|██████▋   | 260/391 [00:04<00:02, 51.85it/s]"
          ]
        },
        {
          "output_type": "stream",
          "name": "stdout",
          "text": [
            "Iteration: 250, mean loss: 1.9552093744277954, train_accuracy:0.5030814409255981\n"
          ]
        },
        {
          "output_type": "stream",
          "name": "stderr",
          "text": [
            " 79%|███████▉  | 308/391 [00:04<00:01, 48.98it/s]"
          ]
        },
        {
          "output_type": "stream",
          "name": "stdout",
          "text": [
            "Iteration: 300, mean loss: 1.9648864269256592, train_accuracy:0.5014016032218933\n"
          ]
        },
        {
          "output_type": "stream",
          "name": "stderr",
          "text": [
            " 93%|█████████▎| 362/391 [00:05<00:00, 63.17it/s]"
          ]
        },
        {
          "output_type": "stream",
          "name": "stdout",
          "text": [
            "Iteration: 350, mean loss: 1.9589333534240723, train_accuracy:0.5015580654144287\n"
          ]
        },
        {
          "output_type": "stream",
          "name": "stderr",
          "text": [
            "100%|██████████| 391/391 [00:06<00:00, 61.35it/s]\n",
            "100%|██████████| 79/79 [00:00<00:00, 80.25it/s]\n"
          ]
        },
        {
          "output_type": "stream",
          "name": "stdout",
          "text": [
            "Val Metrics: val loss: tensor(1.9561) val accuracy: tensor(0.5033)\n"
          ]
        },
        {
          "output_type": "stream",
          "name": "stderr",
          "text": [
            "  2%|▏         | 7/391 [00:00<00:05, 67.93it/s]"
          ]
        },
        {
          "output_type": "stream",
          "name": "stdout",
          "text": [
            "Iteration: 0, mean loss: 1.902122974395752, train_accuracy:0.5625\n"
          ]
        },
        {
          "output_type": "stream",
          "name": "stderr",
          "text": [
            " 16%|█▌        | 63/391 [00:00<00:04, 66.15it/s]"
          ]
        },
        {
          "output_type": "stream",
          "name": "stdout",
          "text": [
            "Iteration: 50, mean loss: 1.9486055374145508, train_accuracy:0.5140931606292725\n"
          ]
        },
        {
          "output_type": "stream",
          "name": "stderr",
          "text": [
            " 29%|██▊       | 112/391 [00:01<00:04, 67.57it/s]"
          ]
        },
        {
          "output_type": "stream",
          "name": "stdout",
          "text": [
            "Iteration: 100, mean loss: 1.9547991752624512, train_accuracy:0.5107518434524536\n"
          ]
        },
        {
          "output_type": "stream",
          "name": "stderr",
          "text": [
            " 42%|████▏     | 163/391 [00:02<00:03, 68.49it/s]"
          ]
        },
        {
          "output_type": "stream",
          "name": "stdout",
          "text": [
            "Iteration: 150, mean loss: 1.9472163915634155, train_accuracy:0.5126758813858032\n"
          ]
        },
        {
          "output_type": "stream",
          "name": "stderr",
          "text": [
            " 54%|█████▍    | 213/391 [00:03<00:02, 68.80it/s]"
          ]
        },
        {
          "output_type": "stream",
          "name": "stdout",
          "text": [
            "Iteration: 200, mean loss: 1.9529907703399658, train_accuracy:0.5113106369972229\n"
          ]
        },
        {
          "output_type": "stream",
          "name": "stderr",
          "text": [
            " 67%|██████▋   | 263/391 [00:03<00:01, 67.69it/s]"
          ]
        },
        {
          "output_type": "stream",
          "name": "stdout",
          "text": [
            "Iteration: 250, mean loss: 1.944342017173767, train_accuracy:0.5123257040977478\n"
          ]
        },
        {
          "output_type": "stream",
          "name": "stderr",
          "text": [
            " 80%|███████▉  | 312/391 [00:04<00:01, 65.80it/s]"
          ]
        },
        {
          "output_type": "stream",
          "name": "stdout",
          "text": [
            "Iteration: 300, mean loss: 1.9584829807281494, train_accuracy:0.5108752250671387\n"
          ]
        },
        {
          "output_type": "stream",
          "name": "stderr",
          "text": [
            " 93%|█████████▎| 363/391 [00:05<00:00, 65.70it/s]"
          ]
        },
        {
          "output_type": "stream",
          "name": "stdout",
          "text": [
            "Iteration: 350, mean loss: 1.958437442779541, train_accuracy:0.5095486044883728\n"
          ]
        },
        {
          "output_type": "stream",
          "name": "stderr",
          "text": [
            "100%|██████████| 391/391 [00:05<00:00, 67.31it/s]\n",
            "100%|██████████| 79/79 [00:01<00:00, 77.61it/s]\n"
          ]
        },
        {
          "output_type": "stream",
          "name": "stdout",
          "text": [
            "Val Metrics: val loss: tensor(1.9328) val accuracy: tensor(0.5326)\n"
          ]
        },
        {
          "output_type": "stream",
          "name": "stderr",
          "text": [
            "  2%|▏         | 6/391 [00:00<00:06, 59.19it/s]"
          ]
        },
        {
          "output_type": "stream",
          "name": "stdout",
          "text": [
            "Iteration: 0, mean loss: 1.8996025323867798, train_accuracy:0.546875\n"
          ]
        },
        {
          "output_type": "stream",
          "name": "stderr",
          "text": [
            " 16%|█▋        | 64/391 [00:00<00:04, 66.60it/s]"
          ]
        },
        {
          "output_type": "stream",
          "name": "stdout",
          "text": [
            "Iteration: 50, mean loss: 1.9378262758255005, train_accuracy:0.5271139740943909\n"
          ]
        },
        {
          "output_type": "stream",
          "name": "stderr",
          "text": [
            " 28%|██▊       | 110/391 [00:01<00:05, 51.81it/s]"
          ]
        },
        {
          "output_type": "stream",
          "name": "stdout",
          "text": [
            "Iteration: 100, mean loss: 1.9420057535171509, train_accuracy:0.5221998691558838\n"
          ]
        },
        {
          "output_type": "stream",
          "name": "stderr",
          "text": [
            " 40%|████      | 157/391 [00:02<00:04, 48.16it/s]"
          ]
        },
        {
          "output_type": "stream",
          "name": "stdout",
          "text": [
            "Iteration: 150, mean loss: 1.9396460056304932, train_accuracy:0.5222474932670593\n"
          ]
        },
        {
          "output_type": "stream",
          "name": "stderr",
          "text": [
            " 54%|█████▍    | 212/391 [00:03<00:02, 63.57it/s]"
          ]
        },
        {
          "output_type": "stream",
          "name": "stdout",
          "text": [
            "Iteration: 200, mean loss: 1.942257046699524, train_accuracy:0.5213775038719177\n"
          ]
        },
        {
          "output_type": "stream",
          "name": "stderr",
          "text": [
            " 67%|██████▋   | 261/391 [00:04<00:01, 66.71it/s]"
          ]
        },
        {
          "output_type": "stream",
          "name": "stdout",
          "text": [
            "Iteration: 250, mean loss: 1.9344985485076904, train_accuracy:0.5231884717941284\n"
          ]
        },
        {
          "output_type": "stream",
          "name": "stderr",
          "text": [
            " 80%|███████▉  | 311/391 [00:05<00:01, 67.67it/s]"
          ]
        },
        {
          "output_type": "stream",
          "name": "stdout",
          "text": [
            "Iteration: 300, mean loss: 1.9431043863296509, train_accuracy:0.522503137588501\n"
          ]
        },
        {
          "output_type": "stream",
          "name": "stderr",
          "text": [
            " 92%|█████████▏| 361/391 [00:06<00:00, 68.47it/s]"
          ]
        },
        {
          "output_type": "stream",
          "name": "stdout",
          "text": [
            "Iteration: 350, mean loss: 1.9389560222625732, train_accuracy:0.5226139426231384\n"
          ]
        },
        {
          "output_type": "stream",
          "name": "stderr",
          "text": [
            "100%|██████████| 391/391 [00:06<00:00, 60.45it/s]\n",
            "100%|██████████| 79/79 [00:01<00:00, 78.95it/s]\n"
          ]
        },
        {
          "output_type": "stream",
          "name": "stdout",
          "text": [
            "Val Metrics: val loss: tensor(1.9352) val accuracy: tensor(0.5270)\n"
          ]
        },
        {
          "output_type": "stream",
          "name": "stderr",
          "text": [
            "  2%|▏         | 7/391 [00:00<00:05, 67.28it/s]"
          ]
        },
        {
          "output_type": "stream",
          "name": "stdout",
          "text": [
            "Iteration: 0, mean loss: 1.9079933166503906, train_accuracy:0.546875\n"
          ]
        },
        {
          "output_type": "stream",
          "name": "stderr",
          "text": [
            " 16%|█▌        | 63/391 [00:00<00:04, 67.55it/s]"
          ]
        },
        {
          "output_type": "stream",
          "name": "stdout",
          "text": [
            "Iteration: 50, mean loss: 1.9255050420761108, train_accuracy:0.5386029481887817\n"
          ]
        },
        {
          "output_type": "stream",
          "name": "stderr",
          "text": [
            " 29%|██▉       | 113/391 [00:01<00:04, 68.10it/s]"
          ]
        },
        {
          "output_type": "stream",
          "name": "stdout",
          "text": [
            "Iteration: 100, mean loss: 1.933200716972351, train_accuracy:0.5330290794372559\n"
          ]
        },
        {
          "output_type": "stream",
          "name": "stderr",
          "text": [
            " 42%|████▏     | 164/391 [00:02<00:03, 67.78it/s]"
          ]
        },
        {
          "output_type": "stream",
          "name": "stdout",
          "text": [
            "Iteration: 150, mean loss: 1.9260163307189941, train_accuracy:0.5343543291091919\n"
          ]
        },
        {
          "output_type": "stream",
          "name": "stderr",
          "text": [
            " 55%|█████▍    | 214/391 [00:03<00:02, 67.96it/s]"
          ]
        },
        {
          "output_type": "stream",
          "name": "stdout",
          "text": [
            "Iteration: 200, mean loss: 1.9321315288543701, train_accuracy:0.5335432291030884\n"
          ]
        },
        {
          "output_type": "stream",
          "name": "stderr",
          "text": [
            " 67%|██████▋   | 263/391 [00:03<00:01, 67.15it/s]"
          ]
        },
        {
          "output_type": "stream",
          "name": "stdout",
          "text": [
            "Iteration: 250, mean loss: 1.9324358701705933, train_accuracy:0.5328373908996582\n"
          ]
        },
        {
          "output_type": "stream",
          "name": "stderr",
          "text": [
            " 81%|████████  | 315/391 [00:04<00:01, 69.19it/s]"
          ]
        },
        {
          "output_type": "stream",
          "name": "stdout",
          "text": [
            "Iteration: 300, mean loss: 1.9391437768936157, train_accuracy:0.5310942530632019\n"
          ]
        },
        {
          "output_type": "stream",
          "name": "stderr",
          "text": [
            " 92%|█████████▏| 358/391 [00:05<00:00, 68.64it/s]"
          ]
        },
        {
          "output_type": "stream",
          "name": "stdout",
          "text": [
            "Iteration: 350, mean loss: 1.9288946390151978, train_accuracy:0.5315616130828857\n"
          ]
        },
        {
          "output_type": "stream",
          "name": "stderr",
          "text": [
            "100%|██████████| 391/391 [00:05<00:00, 67.99it/s]\n",
            "100%|██████████| 79/79 [00:01<00:00, 56.60it/s]\n"
          ]
        },
        {
          "output_type": "stream",
          "name": "stdout",
          "text": [
            "Val Metrics: val loss: tensor(1.9290) val accuracy: tensor(0.5346)\n"
          ]
        },
        {
          "output_type": "stream",
          "name": "stderr",
          "text": [
            "  1%|▏         | 5/391 [00:00<00:09, 42.09it/s]"
          ]
        },
        {
          "output_type": "stream",
          "name": "stdout",
          "text": [
            "Iteration: 0, mean loss: 1.8446252346038818, train_accuracy:0.6171875\n"
          ]
        },
        {
          "output_type": "stream",
          "name": "stderr",
          "text": [
            " 16%|█▋        | 64/391 [00:01<00:05, 60.56it/s]"
          ]
        },
        {
          "output_type": "stream",
          "name": "stdout",
          "text": [
            "Iteration: 50, mean loss: 1.9190696477890015, train_accuracy:0.546875\n"
          ]
        },
        {
          "output_type": "stream",
          "name": "stderr",
          "text": [
            " 29%|██▉       | 114/391 [00:01<00:04, 66.54it/s]"
          ]
        },
        {
          "output_type": "stream",
          "name": "stdout",
          "text": [
            "Iteration: 100, mean loss: 1.9316433668136597, train_accuracy:0.5385984182357788\n"
          ]
        },
        {
          "output_type": "stream",
          "name": "stderr",
          "text": [
            " 42%|████▏     | 163/391 [00:02<00:03, 68.55it/s]"
          ]
        },
        {
          "output_type": "stream",
          "name": "stdout",
          "text": [
            "Iteration: 150, mean loss: 1.9172457456588745, train_accuracy:0.5396316051483154\n"
          ]
        },
        {
          "output_type": "stream",
          "name": "stderr",
          "text": [
            " 54%|█████▍    | 213/391 [00:03<00:02, 68.41it/s]"
          ]
        },
        {
          "output_type": "stream",
          "name": "stdout",
          "text": [
            "Iteration: 200, mean loss: 1.920401930809021, train_accuracy:0.5394511818885803\n"
          ]
        },
        {
          "output_type": "stream",
          "name": "stderr",
          "text": [
            " 67%|██████▋   | 262/391 [00:04<00:01, 67.63it/s]"
          ]
        },
        {
          "output_type": "stream",
          "name": "stdout",
          "text": [
            "Iteration: 250, mean loss: 1.916361689567566, train_accuracy:0.5408989191055298\n"
          ]
        },
        {
          "output_type": "stream",
          "name": "stderr",
          "text": [
            " 80%|████████  | 313/391 [00:04<00:01, 66.37it/s]"
          ]
        },
        {
          "output_type": "stream",
          "name": "stdout",
          "text": [
            "Iteration: 300, mean loss: 1.9307332038879395, train_accuracy:0.5392182469367981\n"
          ]
        },
        {
          "output_type": "stream",
          "name": "stderr",
          "text": [
            " 93%|█████████▎| 362/391 [00:05<00:00, 68.69it/s]"
          ]
        },
        {
          "output_type": "stream",
          "name": "stdout",
          "text": [
            "Iteration: 350, mean loss: 1.9211119413375854, train_accuracy:0.5397747755050659\n"
          ]
        },
        {
          "output_type": "stream",
          "name": "stderr",
          "text": [
            "100%|██████████| 391/391 [00:06<00:00, 64.24it/s]\n",
            "100%|██████████| 79/79 [00:00<00:00, 79.31it/s]\n"
          ]
        },
        {
          "output_type": "stream",
          "name": "stdout",
          "text": [
            "Val Metrics: val loss: tensor(1.9259) val accuracy: tensor(0.5356)\n"
          ]
        },
        {
          "output_type": "stream",
          "name": "stderr",
          "text": [
            "  2%|▏         | 7/391 [00:00<00:05, 67.84it/s]"
          ]
        },
        {
          "output_type": "stream",
          "name": "stdout",
          "text": [
            "Iteration: 0, mean loss: 1.8836854696273804, train_accuracy:0.5859375\n"
          ]
        },
        {
          "output_type": "stream",
          "name": "stderr",
          "text": [
            " 16%|█▌        | 63/391 [00:00<00:05, 64.76it/s]"
          ]
        },
        {
          "output_type": "stream",
          "name": "stdout",
          "text": [
            "Iteration: 50, mean loss: 1.9198530912399292, train_accuracy:0.5418198704719543\n"
          ]
        },
        {
          "output_type": "stream",
          "name": "stderr",
          "text": [
            " 29%|██▊       | 112/391 [00:01<00:04, 67.17it/s]"
          ]
        },
        {
          "output_type": "stream",
          "name": "stdout",
          "text": [
            "Iteration: 100, mean loss: 1.9243332147598267, train_accuracy:0.5381342768669128\n"
          ]
        },
        {
          "output_type": "stream",
          "name": "stderr",
          "text": [
            " 41%|████      | 161/391 [00:02<00:03, 63.18it/s]"
          ]
        },
        {
          "output_type": "stream",
          "name": "stdout",
          "text": [
            "Iteration: 150, mean loss: 1.910099983215332, train_accuracy:0.5437189340591431\n"
          ]
        },
        {
          "output_type": "stream",
          "name": "stderr",
          "text": [
            " 54%|█████▎    | 210/391 [00:03<00:02, 66.20it/s]"
          ]
        },
        {
          "output_type": "stream",
          "name": "stdout",
          "text": [
            "Iteration: 200, mean loss: 1.9161741733551025, train_accuracy:0.5445040464401245\n"
          ]
        },
        {
          "output_type": "stream",
          "name": "stderr",
          "text": [
            " 66%|██████▌   | 259/391 [00:03<00:02, 55.40it/s]"
          ]
        },
        {
          "output_type": "stream",
          "name": "stdout",
          "text": [
            "Iteration: 250, mean loss: 1.9063105583190918, train_accuracy:0.5465948581695557\n"
          ]
        },
        {
          "output_type": "stream",
          "name": "stderr",
          "text": [
            " 79%|███████▊  | 307/391 [00:04<00:01, 50.81it/s]"
          ]
        },
        {
          "output_type": "stream",
          "name": "stdout",
          "text": [
            "Iteration: 300, mean loss: 1.9158724546432495, train_accuracy:0.5460963249206543\n"
          ]
        },
        {
          "output_type": "stream",
          "name": "stderr",
          "text": [
            " 91%|█████████ | 354/391 [00:06<00:00, 40.37it/s]"
          ]
        },
        {
          "output_type": "stream",
          "name": "stdout",
          "text": [
            "Iteration: 350, mean loss: 1.9183833599090576, train_accuracy:0.5460514426231384\n"
          ]
        },
        {
          "output_type": "stream",
          "name": "stderr",
          "text": [
            "100%|██████████| 391/391 [00:06<00:00, 57.37it/s]\n",
            "100%|██████████| 79/79 [00:01<00:00, 58.34it/s]\n"
          ]
        },
        {
          "output_type": "stream",
          "name": "stdout",
          "text": [
            "Val Metrics: val loss: tensor(1.9239) val accuracy: tensor(0.5369)\n"
          ]
        },
        {
          "output_type": "stream",
          "name": "stderr",
          "text": [
            "  2%|▏         | 6/391 [00:00<00:06, 57.41it/s]"
          ]
        },
        {
          "output_type": "stream",
          "name": "stdout",
          "text": [
            "Iteration: 0, mean loss: 1.860339641571045, train_accuracy:0.6171875\n"
          ]
        },
        {
          "output_type": "stream",
          "name": "stderr",
          "text": [
            " 16%|█▌        | 63/391 [00:00<00:04, 68.31it/s]"
          ]
        },
        {
          "output_type": "stream",
          "name": "stdout",
          "text": [
            "Iteration: 50, mean loss: 1.9026899337768555, train_accuracy:0.5614277124404907\n"
          ]
        },
        {
          "output_type": "stream",
          "name": "stderr",
          "text": [
            " 29%|██▊       | 112/391 [00:01<00:04, 67.45it/s]"
          ]
        },
        {
          "output_type": "stream",
          "name": "stdout",
          "text": [
            "Iteration: 100, mean loss: 1.924781322479248, train_accuracy:0.5479578971862793\n"
          ]
        },
        {
          "output_type": "stream",
          "name": "stderr",
          "text": [
            " 41%|████▏     | 162/391 [00:02<00:03, 67.42it/s]"
          ]
        },
        {
          "output_type": "stream",
          "name": "stdout",
          "text": [
            "Iteration: 150, mean loss: 1.9096864461898804, train_accuracy:0.5489445328712463\n"
          ]
        },
        {
          "output_type": "stream",
          "name": "stderr",
          "text": [
            " 54%|█████▍    | 211/391 [00:03<00:02, 66.18it/s]"
          ]
        },
        {
          "output_type": "stream",
          "name": "stdout",
          "text": [
            "Iteration: 200, mean loss: 1.9090090990066528, train_accuracy:0.5505285859107971\n"
          ]
        },
        {
          "output_type": "stream",
          "name": "stderr",
          "text": [
            " 67%|██████▋   | 262/391 [00:03<00:01, 68.81it/s]"
          ]
        },
        {
          "output_type": "stream",
          "name": "stdout",
          "text": [
            "Iteration: 250, mean loss: 1.8956849575042725, train_accuracy:0.5540649890899658\n"
          ]
        },
        {
          "output_type": "stream",
          "name": "stderr",
          "text": [
            " 80%|███████▉  | 312/391 [00:04<00:01, 67.17it/s]"
          ]
        },
        {
          "output_type": "stream",
          "name": "stdout",
          "text": [
            "Iteration: 300, mean loss: 1.915486454963684, train_accuracy:0.5526111125946045\n"
          ]
        },
        {
          "output_type": "stream",
          "name": "stderr",
          "text": [
            " 93%|█████████▎| 362/391 [00:05<00:00, 66.89it/s]"
          ]
        },
        {
          "output_type": "stream",
          "name": "stdout",
          "text": [
            "Iteration: 350, mean loss: 1.9129185676574707, train_accuracy:0.5517494678497314\n"
          ]
        },
        {
          "output_type": "stream",
          "name": "stderr",
          "text": [
            "100%|██████████| 391/391 [00:05<00:00, 67.25it/s]\n",
            "100%|██████████| 79/79 [00:01<00:00, 78.76it/s]\n"
          ]
        },
        {
          "output_type": "stream",
          "name": "stdout",
          "text": [
            "Val Metrics: val loss: tensor(1.9012) val accuracy: tensor(0.5626)\n"
          ]
        },
        {
          "output_type": "stream",
          "name": "stderr",
          "text": [
            "  2%|▏         | 7/391 [00:00<00:05, 68.56it/s]"
          ]
        },
        {
          "output_type": "stream",
          "name": "stdout",
          "text": [
            "Iteration: 0, mean loss: 1.8043460845947266, train_accuracy:0.6796875\n"
          ]
        },
        {
          "output_type": "stream",
          "name": "stderr",
          "text": [
            " 16%|█▋        | 64/391 [00:00<00:04, 67.90it/s]"
          ]
        },
        {
          "output_type": "stream",
          "name": "stdout",
          "text": [
            "Iteration: 50, mean loss: 1.8973280191421509, train_accuracy:0.5655637383460999\n"
          ]
        },
        {
          "output_type": "stream",
          "name": "stderr",
          "text": [
            " 27%|██▋       | 105/391 [00:01<00:05, 53.97it/s]"
          ]
        },
        {
          "output_type": "stream",
          "name": "stdout",
          "text": [
            "Iteration: 100, mean loss: 1.9127933979034424, train_accuracy:0.5579362511634827\n"
          ]
        },
        {
          "output_type": "stream",
          "name": "stderr",
          "text": [
            " 41%|████      | 159/391 [00:02<00:04, 50.75it/s]"
          ]
        },
        {
          "output_type": "stream",
          "name": "stdout",
          "text": [
            "Iteration: 150, mean loss: 1.897250771522522, train_accuracy:0.560844361782074\n"
          ]
        },
        {
          "output_type": "stream",
          "name": "stderr",
          "text": [
            " 54%|█████▍    | 211/391 [00:03<00:03, 56.30it/s]"
          ]
        },
        {
          "output_type": "stream",
          "name": "stdout",
          "text": [
            "Iteration: 200, mean loss: 1.90598726272583, train_accuracy:0.55958491563797\n"
          ]
        },
        {
          "output_type": "stream",
          "name": "stderr",
          "text": [
            " 67%|██████▋   | 261/391 [00:04<00:01, 67.31it/s]"
          ]
        },
        {
          "output_type": "stream",
          "name": "stdout",
          "text": [
            "Iteration: 250, mean loss: 1.8850314617156982, train_accuracy:0.5635582804679871\n"
          ]
        },
        {
          "output_type": "stream",
          "name": "stderr",
          "text": [
            " 80%|███████▉  | 312/391 [00:05<00:01, 68.05it/s]"
          ]
        },
        {
          "output_type": "stream",
          "name": "stdout",
          "text": [
            "Iteration: 300, mean loss: 1.9063106775283813, train_accuracy:0.5624221563339233\n"
          ]
        },
        {
          "output_type": "stream",
          "name": "stderr",
          "text": [
            " 93%|█████████▎| 362/391 [00:06<00:00, 67.90it/s]"
          ]
        },
        {
          "output_type": "stream",
          "name": "stdout",
          "text": [
            "Iteration: 350, mean loss: 1.9002472162246704, train_accuracy:0.5625890493392944\n"
          ]
        },
        {
          "output_type": "stream",
          "name": "stderr",
          "text": [
            "100%|██████████| 391/391 [00:06<00:00, 60.44it/s]\n",
            "100%|██████████| 79/79 [00:00<00:00, 79.54it/s]\n"
          ]
        },
        {
          "output_type": "stream",
          "name": "stdout",
          "text": [
            "Val Metrics: val loss: tensor(1.9022) val accuracy: tensor(0.5608)\n"
          ]
        },
        {
          "output_type": "stream",
          "name": "stderr",
          "text": [
            "  2%|▏         | 7/391 [00:00<00:05, 69.09it/s]"
          ]
        },
        {
          "output_type": "stream",
          "name": "stdout",
          "text": [
            "Iteration: 0, mean loss: 1.8106648921966553, train_accuracy:0.671875\n"
          ]
        },
        {
          "output_type": "stream",
          "name": "stderr",
          "text": [
            " 16%|█▌        | 63/391 [00:00<00:04, 68.38it/s]"
          ]
        },
        {
          "output_type": "stream",
          "name": "stdout",
          "text": [
            "Iteration: 50, mean loss: 1.8968621492385864, train_accuracy:0.5666360259056091\n"
          ]
        },
        {
          "output_type": "stream",
          "name": "stderr",
          "text": [
            " 29%|██▊       | 112/391 [00:01<00:04, 68.05it/s]"
          ]
        },
        {
          "output_type": "stream",
          "name": "stdout",
          "text": [
            "Iteration: 100, mean loss: 1.8991175889968872, train_accuracy:0.5649752616882324\n"
          ]
        },
        {
          "output_type": "stream",
          "name": "stderr",
          "text": [
            " 42%|████▏     | 163/391 [00:02<00:03, 64.86it/s]"
          ]
        },
        {
          "output_type": "stream",
          "name": "stdout",
          "text": [
            "Iteration: 150, mean loss: 1.884605050086975, train_accuracy:0.5696916580200195\n"
          ]
        },
        {
          "output_type": "stream",
          "name": "stderr",
          "text": [
            " 54%|█████▍    | 212/391 [00:03<00:02, 68.26it/s]"
          ]
        },
        {
          "output_type": "stream",
          "name": "stdout",
          "text": [
            "Iteration: 200, mean loss: 1.8983638286590576, train_accuracy:0.5679804086685181\n"
          ]
        },
        {
          "output_type": "stream",
          "name": "stderr",
          "text": [
            " 67%|██████▋   | 262/391 [00:03<00:01, 67.84it/s]"
          ]
        },
        {
          "output_type": "stream",
          "name": "stdout",
          "text": [
            "Iteration: 250, mean loss: 1.8806543350219727, train_accuracy:0.5706859827041626\n"
          ]
        },
        {
          "output_type": "stream",
          "name": "stderr",
          "text": [
            " 80%|████████  | 314/391 [00:04<00:01, 68.79it/s]"
          ]
        },
        {
          "output_type": "stream",
          "name": "stdout",
          "text": [
            "Iteration: 300, mean loss: 1.8984477519989014, train_accuracy:0.5694559812545776\n"
          ]
        },
        {
          "output_type": "stream",
          "name": "stderr",
          "text": [
            " 93%|█████████▎| 364/391 [00:05<00:00, 69.16it/s]"
          ]
        },
        {
          "output_type": "stream",
          "name": "stdout",
          "text": [
            "Iteration: 350, mean loss: 1.8839575052261353, train_accuracy:0.5713363885879517\n"
          ]
        },
        {
          "output_type": "stream",
          "name": "stderr",
          "text": [
            "100%|██████████| 391/391 [00:05<00:00, 67.82it/s]\n",
            "100%|██████████| 79/79 [00:01<00:00, 60.67it/s]\n"
          ]
        },
        {
          "output_type": "stream",
          "name": "stdout",
          "text": [
            "Val Metrics: val loss: tensor(1.8990) val accuracy: tensor(0.5629)\n"
          ]
        },
        {
          "output_type": "stream",
          "name": "stderr",
          "text": [
            "  2%|▏         | 6/391 [00:00<00:07, 50.77it/s]"
          ]
        },
        {
          "output_type": "stream",
          "name": "stdout",
          "text": [
            "Iteration: 0, mean loss: 1.8325862884521484, train_accuracy:0.640625\n"
          ]
        },
        {
          "output_type": "stream",
          "name": "stderr",
          "text": [
            " 16%|█▌        | 63/391 [00:01<00:06, 54.47it/s]"
          ]
        },
        {
          "output_type": "stream",
          "name": "stdout",
          "text": [
            "Iteration: 50, mean loss: 1.881474256515503, train_accuracy:0.5821078419685364\n"
          ]
        },
        {
          "output_type": "stream",
          "name": "stderr",
          "text": [
            " 29%|██▉       | 113/391 [00:02<00:04, 66.98it/s]"
          ]
        },
        {
          "output_type": "stream",
          "name": "stdout",
          "text": [
            "Iteration: 100, mean loss: 1.8956801891326904, train_accuracy:0.5740253925323486\n"
          ]
        },
        {
          "output_type": "stream",
          "name": "stderr",
          "text": [
            " 42%|████▏     | 163/391 [00:02<00:03, 67.44it/s]"
          ]
        },
        {
          "output_type": "stream",
          "name": "stdout",
          "text": [
            "Iteration: 150, mean loss: 1.8777192831039429, train_accuracy:0.5778663158416748\n"
          ]
        },
        {
          "output_type": "stream",
          "name": "stderr",
          "text": [
            " 54%|█████▍    | 212/391 [00:03<00:02, 67.07it/s]"
          ]
        },
        {
          "output_type": "stream",
          "name": "stdout",
          "text": [
            "Iteration: 200, mean loss: 1.890536904335022, train_accuracy:0.5765702724456787\n"
          ]
        },
        {
          "output_type": "stream",
          "name": "stderr",
          "text": [
            " 67%|██████▋   | 261/391 [00:04<00:01, 68.39it/s]"
          ]
        },
        {
          "output_type": "stream",
          "name": "stdout",
          "text": [
            "Iteration: 250, mean loss: 1.8807379007339478, train_accuracy:0.578031599521637\n"
          ]
        },
        {
          "output_type": "stream",
          "name": "stderr",
          "text": [
            " 80%|███████▉  | 311/391 [00:04<00:01, 67.83it/s]"
          ]
        },
        {
          "output_type": "stream",
          "name": "stdout",
          "text": [
            "Iteration: 300, mean loss: 1.890945553779602, train_accuracy:0.5764378905296326\n"
          ]
        },
        {
          "output_type": "stream",
          "name": "stderr",
          "text": [
            " 92%|█████████▏| 361/391 [00:05<00:00, 64.93it/s]"
          ]
        },
        {
          "output_type": "stream",
          "name": "stdout",
          "text": [
            "Iteration: 350, mean loss: 1.8823760747909546, train_accuracy:0.576900839805603\n"
          ]
        },
        {
          "output_type": "stream",
          "name": "stderr",
          "text": [
            "100%|██████████| 391/391 [00:06<00:00, 63.27it/s]\n",
            "100%|██████████| 79/79 [00:00<00:00, 79.49it/s]\n"
          ]
        },
        {
          "output_type": "stream",
          "name": "stdout",
          "text": [
            "Val Metrics: val loss: tensor(1.8852) val accuracy: tensor(0.5777)\n"
          ]
        },
        {
          "output_type": "stream",
          "name": "stderr",
          "text": [
            "  2%|▏         | 7/391 [00:00<00:05, 68.82it/s]"
          ]
        },
        {
          "output_type": "stream",
          "name": "stdout",
          "text": [
            "Iteration: 0, mean loss: 1.815495491027832, train_accuracy:0.671875\n"
          ]
        },
        {
          "output_type": "stream",
          "name": "stderr",
          "text": [
            " 16%|█▌        | 63/391 [00:00<00:04, 67.82it/s]"
          ]
        },
        {
          "output_type": "stream",
          "name": "stdout",
          "text": [
            "Iteration: 50, mean loss: 1.8752796649932861, train_accuracy:0.587775707244873\n"
          ]
        },
        {
          "output_type": "stream",
          "name": "stderr",
          "text": [
            " 29%|██▊       | 112/391 [00:01<00:04, 65.94it/s]"
          ]
        },
        {
          "output_type": "stream",
          "name": "stdout",
          "text": [
            "Iteration: 100, mean loss: 1.8846075534820557, train_accuracy:0.5833075642585754\n"
          ]
        },
        {
          "output_type": "stream",
          "name": "stderr",
          "text": [
            " 41%|████      | 161/391 [00:02<00:03, 68.67it/s]"
          ]
        },
        {
          "output_type": "stream",
          "name": "stdout",
          "text": [
            "Iteration: 150, mean loss: 1.8777958154678345, train_accuracy:0.5849027037620544\n"
          ]
        },
        {
          "output_type": "stream",
          "name": "stderr",
          "text": [
            " 54%|█████▎    | 210/391 [00:03<00:02, 67.77it/s]"
          ]
        },
        {
          "output_type": "stream",
          "name": "stdout",
          "text": [
            "Iteration: 200, mean loss: 1.8917994499206543, train_accuracy:0.5810012221336365\n"
          ]
        },
        {
          "output_type": "stream",
          "name": "stderr",
          "text": [
            " 66%|██████▌   | 259/391 [00:03<00:01, 67.11it/s]"
          ]
        },
        {
          "output_type": "stream",
          "name": "stdout",
          "text": [
            "Iteration: 250, mean loss: 1.870820164680481, train_accuracy:0.5833229422569275\n"
          ]
        },
        {
          "output_type": "stream",
          "name": "stderr",
          "text": [
            " 79%|███████▉  | 308/391 [00:04<00:01, 49.00it/s]"
          ]
        },
        {
          "output_type": "stream",
          "name": "stdout",
          "text": [
            "Iteration: 300, mean loss: 1.8875508308410645, train_accuracy:0.5812655687332153\n"
          ]
        },
        {
          "output_type": "stream",
          "name": "stderr",
          "text": [
            " 92%|█████████▏| 358/391 [00:05<00:00, 43.76it/s]"
          ]
        },
        {
          "output_type": "stream",
          "name": "stdout",
          "text": [
            "Iteration: 350, mean loss: 1.876043677330017, train_accuracy:0.5817307829856873\n"
          ]
        },
        {
          "output_type": "stream",
          "name": "stderr",
          "text": [
            "100%|██████████| 391/391 [00:06<00:00, 60.74it/s]\n",
            "100%|██████████| 79/79 [00:00<00:00, 79.82it/s]\n"
          ]
        },
        {
          "output_type": "stream",
          "name": "stdout",
          "text": [
            "Val Metrics: val loss: tensor(1.8983) val accuracy: tensor(0.5648)\n"
          ]
        },
        {
          "output_type": "stream",
          "name": "stderr",
          "text": [
            "  2%|▏         | 7/391 [00:00<00:06, 62.51it/s]"
          ]
        },
        {
          "output_type": "stream",
          "name": "stdout",
          "text": [
            "Iteration: 0, mean loss: 1.8328213691711426, train_accuracy:0.640625\n"
          ]
        },
        {
          "output_type": "stream",
          "name": "stderr",
          "text": [
            " 16%|█▌        | 63/391 [00:00<00:04, 66.37it/s]"
          ]
        },
        {
          "output_type": "stream",
          "name": "stdout",
          "text": [
            "Iteration: 50, mean loss: 1.868098497390747, train_accuracy:0.5963541865348816\n"
          ]
        },
        {
          "output_type": "stream",
          "name": "stderr",
          "text": [
            " 29%|██▊       | 112/391 [00:01<00:04, 66.21it/s]"
          ]
        },
        {
          "output_type": "stream",
          "name": "stdout",
          "text": [
            "Iteration: 100, mean loss: 1.8868043422698975, train_accuracy:0.5857054591178894\n"
          ]
        },
        {
          "output_type": "stream",
          "name": "stderr",
          "text": [
            " 41%|████▏     | 162/391 [00:02<00:03, 66.03it/s]"
          ]
        },
        {
          "output_type": "stream",
          "name": "stdout",
          "text": [
            "Iteration: 150, mean loss: 1.8730647563934326, train_accuracy:0.5873344540596008\n"
          ]
        },
        {
          "output_type": "stream",
          "name": "stderr",
          "text": [
            " 54%|█████▍    | 211/391 [00:03<00:02, 68.18it/s]"
          ]
        },
        {
          "output_type": "stream",
          "name": "stdout",
          "text": [
            "Iteration: 200, mean loss: 1.879071831703186, train_accuracy:0.5861318111419678\n"
          ]
        },
        {
          "output_type": "stream",
          "name": "stderr",
          "text": [
            " 66%|██████▋   | 260/391 [00:03<00:01, 67.34it/s]"
          ]
        },
        {
          "output_type": "stream",
          "name": "stdout",
          "text": [
            "Iteration: 250, mean loss: 1.8736240863800049, train_accuracy:0.5866222381591797\n"
          ]
        },
        {
          "output_type": "stream",
          "name": "stderr",
          "text": [
            " 79%|███████▉  | 310/391 [00:04<00:01, 66.67it/s]"
          ]
        },
        {
          "output_type": "stream",
          "name": "stdout",
          "text": [
            "Iteration: 300, mean loss: 1.8890271186828613, train_accuracy:0.5842244625091553\n"
          ]
        },
        {
          "output_type": "stream",
          "name": "stderr",
          "text": [
            " 92%|█████████▏| 360/391 [00:05<00:00, 68.18it/s]"
          ]
        },
        {
          "output_type": "stream",
          "name": "stdout",
          "text": [
            "Iteration: 350, mean loss: 1.873682975769043, train_accuracy:0.5852697491645813\n"
          ]
        },
        {
          "output_type": "stream",
          "name": "stderr",
          "text": [
            "100%|██████████| 391/391 [00:05<00:00, 66.50it/s]\n",
            "100%|██████████| 79/79 [00:01<00:00, 78.90it/s]\n"
          ]
        },
        {
          "output_type": "stream",
          "name": "stdout",
          "text": [
            "Val Metrics: val loss: tensor(1.8838) val accuracy: tensor(0.5778)\n"
          ]
        },
        {
          "output_type": "stream",
          "name": "stderr",
          "text": [
            "  2%|▏         | 7/391 [00:00<00:05, 67.38it/s]"
          ]
        },
        {
          "output_type": "stream",
          "name": "stdout",
          "text": [
            "Iteration: 0, mean loss: 1.8142482042312622, train_accuracy:0.65625\n"
          ]
        },
        {
          "output_type": "stream",
          "name": "stderr",
          "text": [
            " 16%|█▋        | 64/391 [00:00<00:04, 67.84it/s]"
          ]
        },
        {
          "output_type": "stream",
          "name": "stdout",
          "text": [
            "Iteration: 50, mean loss: 1.8628671169281006, train_accuracy:0.5992646813392639\n"
          ]
        },
        {
          "output_type": "stream",
          "name": "stderr",
          "text": [
            " 29%|██▉       | 113/391 [00:01<00:04, 67.20it/s]"
          ]
        },
        {
          "output_type": "stream",
          "name": "stdout",
          "text": [
            "Iteration: 100, mean loss: 1.8688781261444092, train_accuracy:0.5966119766235352\n"
          ]
        },
        {
          "output_type": "stream",
          "name": "stderr",
          "text": [
            " 40%|████      | 157/391 [00:02<00:04, 52.18it/s]"
          ]
        },
        {
          "output_type": "stream",
          "name": "stdout",
          "text": [
            "Iteration: 150, mean loss: 1.8640179634094238, train_accuracy:0.5973199605941772\n"
          ]
        },
        {
          "output_type": "stream",
          "name": "stderr",
          "text": [
            " 53%|█████▎    | 209/391 [00:03<00:03, 47.12it/s]"
          ]
        },
        {
          "output_type": "stream",
          "name": "stdout",
          "text": [
            "Iteration: 200, mean loss: 1.8688675165176392, train_accuracy:0.5962764024734497\n"
          ]
        },
        {
          "output_type": "stream",
          "name": "stderr",
          "text": [
            " 66%|██████▋   | 260/391 [00:04<00:02, 63.12it/s]"
          ]
        },
        {
          "output_type": "stream",
          "name": "stdout",
          "text": [
            "Iteration: 250, mean loss: 1.8549407720565796, train_accuracy:0.5994148254394531\n"
          ]
        },
        {
          "output_type": "stream",
          "name": "stderr",
          "text": [
            " 79%|███████▉  | 310/391 [00:05<00:01, 66.70it/s]"
          ]
        },
        {
          "output_type": "stream",
          "name": "stdout",
          "text": [
            "Iteration: 300, mean loss: 1.870694637298584, train_accuracy:0.5982402563095093\n"
          ]
        },
        {
          "output_type": "stream",
          "name": "stderr",
          "text": [
            " 92%|█████████▏| 359/391 [00:05<00:00, 67.57it/s]"
          ]
        },
        {
          "output_type": "stream",
          "name": "stdout",
          "text": [
            "Iteration: 350, mean loss: 1.8699674606323242, train_accuracy:0.5975338220596313\n"
          ]
        },
        {
          "output_type": "stream",
          "name": "stderr",
          "text": [
            "100%|██████████| 391/391 [00:06<00:00, 60.73it/s]\n",
            "100%|██████████| 79/79 [00:00<00:00, 79.65it/s]\n"
          ]
        },
        {
          "output_type": "stream",
          "name": "stdout",
          "text": [
            "Val Metrics: val loss: tensor(1.8784) val accuracy: tensor(0.5836)\n"
          ]
        },
        {
          "output_type": "stream",
          "name": "stderr",
          "text": [
            "  2%|▏         | 7/391 [00:00<00:05, 67.65it/s]"
          ]
        },
        {
          "output_type": "stream",
          "name": "stdout",
          "text": [
            "Iteration: 0, mean loss: 1.792186975479126, train_accuracy:0.6796875\n"
          ]
        },
        {
          "output_type": "stream",
          "name": "stderr",
          "text": [
            " 16%|█▌        | 63/391 [00:00<00:05, 64.27it/s]"
          ]
        },
        {
          "output_type": "stream",
          "name": "stdout",
          "text": [
            "Iteration: 50, mean loss: 1.859837293624878, train_accuracy:0.6044730544090271\n"
          ]
        },
        {
          "output_type": "stream",
          "name": "stderr",
          "text": [
            " 29%|██▊       | 112/391 [00:01<00:04, 65.64it/s]"
          ]
        },
        {
          "output_type": "stream",
          "name": "stdout",
          "text": [
            "Iteration: 100, mean loss: 1.8671081066131592, train_accuracy:0.5995513796806335\n"
          ]
        },
        {
          "output_type": "stream",
          "name": "stderr",
          "text": [
            " 41%|████▏     | 162/391 [00:02<00:03, 67.96it/s]"
          ]
        },
        {
          "output_type": "stream",
          "name": "stdout",
          "text": [
            "Iteration: 150, mean loss: 1.8606191873550415, train_accuracy:0.6002690196037292\n"
          ]
        },
        {
          "output_type": "stream",
          "name": "stderr",
          "text": [
            " 54%|█████▍    | 211/391 [00:03<00:02, 67.55it/s]"
          ]
        },
        {
          "output_type": "stream",
          "name": "stdout",
          "text": [
            "Iteration: 200, mean loss: 1.863674521446228, train_accuracy:0.5997745394706726\n"
          ]
        },
        {
          "output_type": "stream",
          "name": "stderr",
          "text": [
            " 66%|██████▋   | 260/391 [00:03<00:01, 66.03it/s]"
          ]
        },
        {
          "output_type": "stream",
          "name": "stdout",
          "text": [
            "Iteration: 250, mean loss: 1.8484500646591187, train_accuracy:0.6024028658866882\n"
          ]
        },
        {
          "output_type": "stream",
          "name": "stderr",
          "text": [
            " 79%|███████▉  | 309/391 [00:04<00:01, 65.37it/s]"
          ]
        },
        {
          "output_type": "stream",
          "name": "stdout",
          "text": [
            "Iteration: 300, mean loss: 1.8705562353134155, train_accuracy:0.6005243062973022\n"
          ]
        },
        {
          "output_type": "stream",
          "name": "stderr",
          "text": [
            " 92%|█████████▏| 359/391 [00:05<00:00, 68.17it/s]"
          ]
        },
        {
          "output_type": "stream",
          "name": "stdout",
          "text": [
            "Iteration: 350, mean loss: 1.863053321838379, train_accuracy:0.6002938151359558\n"
          ]
        },
        {
          "output_type": "stream",
          "name": "stderr",
          "text": [
            "100%|██████████| 391/391 [00:05<00:00, 66.17it/s]\n",
            "100%|██████████| 79/79 [00:01<00:00, 66.85it/s]\n"
          ]
        },
        {
          "output_type": "stream",
          "name": "stdout",
          "text": [
            "Val Metrics: val loss: tensor(1.8673) val accuracy: tensor(0.5946)\n"
          ]
        },
        {
          "output_type": "stream",
          "name": "stderr",
          "text": [
            "  1%|▏         | 5/391 [00:00<00:08, 44.64it/s]"
          ]
        },
        {
          "output_type": "stream",
          "name": "stdout",
          "text": [
            "Iteration: 0, mean loss: 1.7629033327102661, train_accuracy:0.7109375\n"
          ]
        },
        {
          "output_type": "stream",
          "name": "stderr",
          "text": [
            " 15%|█▌        | 59/391 [00:01<00:07, 46.99it/s]"
          ]
        },
        {
          "output_type": "stream",
          "name": "stdout",
          "text": [
            "Iteration: 50, mean loss: 1.8474860191345215, train_accuracy:0.6205576062202454\n"
          ]
        },
        {
          "output_type": "stream",
          "name": "stderr",
          "text": [
            " 28%|██▊       | 108/391 [00:02<00:04, 62.20it/s]"
          ]
        },
        {
          "output_type": "stream",
          "name": "stdout",
          "text": [
            "Iteration: 100, mean loss: 1.8652255535125732, train_accuracy:0.6076732873916626\n"
          ]
        },
        {
          "output_type": "stream",
          "name": "stderr",
          "text": [
            " 40%|████      | 158/391 [00:02<00:03, 68.41it/s]"
          ]
        },
        {
          "output_type": "stream",
          "name": "stdout",
          "text": [
            "Iteration: 150, mean loss: 1.8537070751190186, train_accuracy:0.6067363619804382\n"
          ]
        },
        {
          "output_type": "stream",
          "name": "stderr",
          "text": [
            " 55%|█████▍    | 215/391 [00:03<00:02, 68.42it/s]"
          ]
        },
        {
          "output_type": "stream",
          "name": "stdout",
          "text": [
            "Iteration: 200, mean loss: 1.8600469827651978, train_accuracy:0.6055659055709839\n"
          ]
        },
        {
          "output_type": "stream",
          "name": "stderr",
          "text": [
            " 66%|██████▌   | 258/391 [00:04<00:01, 67.46it/s]"
          ]
        },
        {
          "output_type": "stream",
          "name": "stdout",
          "text": [
            "Iteration: 250, mean loss: 1.8443549871444702, train_accuracy:0.6082544922828674\n"
          ]
        },
        {
          "output_type": "stream",
          "name": "stderr",
          "text": [
            " 80%|████████  | 314/391 [00:05<00:01, 66.98it/s]"
          ]
        },
        {
          "output_type": "stream",
          "name": "stdout",
          "text": [
            "Iteration: 300, mean loss: 1.8673876523971558, train_accuracy:0.6060527563095093\n"
          ]
        },
        {
          "output_type": "stream",
          "name": "stderr",
          "text": [
            " 92%|█████████▏| 358/391 [00:05<00:00, 68.58it/s]"
          ]
        },
        {
          "output_type": "stream",
          "name": "stdout",
          "text": [
            "Iteration: 350, mean loss: 1.851986289024353, train_accuracy:0.6073272824287415\n"
          ]
        },
        {
          "output_type": "stream",
          "name": "stderr",
          "text": [
            "100%|██████████| 391/391 [00:06<00:00, 62.33it/s]\n",
            "100%|██████████| 79/79 [00:00<00:00, 79.99it/s]\n"
          ]
        },
        {
          "output_type": "stream",
          "name": "stdout",
          "text": [
            "Val Metrics: val loss: tensor(1.8668) val accuracy: tensor(0.5955)\n"
          ]
        },
        {
          "output_type": "stream",
          "name": "stderr",
          "text": [
            "  2%|▏         | 7/391 [00:00<00:05, 66.92it/s]"
          ]
        },
        {
          "output_type": "stream",
          "name": "stdout",
          "text": [
            "Iteration: 0, mean loss: 1.7404154539108276, train_accuracy:0.7421875\n"
          ]
        },
        {
          "output_type": "stream",
          "name": "stderr",
          "text": [
            " 16%|█▋        | 64/391 [00:00<00:04, 66.79it/s]"
          ]
        },
        {
          "output_type": "stream",
          "name": "stdout",
          "text": [
            "Iteration: 50, mean loss: 1.847263216972351, train_accuracy:0.6155024766921997\n"
          ]
        },
        {
          "output_type": "stream",
          "name": "stderr",
          "text": [
            " 29%|██▉       | 114/391 [00:01<00:04, 67.14it/s]"
          ]
        },
        {
          "output_type": "stream",
          "name": "stdout",
          "text": [
            "Iteration: 100, mean loss: 1.8540693521499634, train_accuracy:0.6118502616882324\n"
          ]
        },
        {
          "output_type": "stream",
          "name": "stderr",
          "text": [
            " 42%|████▏     | 164/391 [00:02<00:03, 68.48it/s]"
          ]
        },
        {
          "output_type": "stream",
          "name": "stdout",
          "text": [
            "Iteration: 150, mean loss: 1.847385287284851, train_accuracy:0.6125310659408569\n"
          ]
        },
        {
          "output_type": "stream",
          "name": "stderr",
          "text": [
            " 55%|█████▍    | 214/391 [00:03<00:02, 66.48it/s]"
          ]
        },
        {
          "output_type": "stream",
          "name": "stdout",
          "text": [
            "Iteration: 200, mean loss: 1.8536560535430908, train_accuracy:0.6112406849861145\n"
          ]
        },
        {
          "output_type": "stream",
          "name": "stderr",
          "text": [
            " 66%|██████▌   | 257/391 [00:03<00:01, 67.89it/s]"
          ]
        },
        {
          "output_type": "stream",
          "name": "stdout",
          "text": [
            "Iteration: 250, mean loss: 1.8394420146942139, train_accuracy:0.6138882040977478\n"
          ]
        },
        {
          "output_type": "stream",
          "name": "stderr",
          "text": [
            " 78%|███████▊  | 305/391 [00:04<00:01, 54.63it/s]"
          ]
        },
        {
          "output_type": "stream",
          "name": "stdout",
          "text": [
            "Iteration: 300, mean loss: 1.8553966283798218, train_accuracy:0.6126972436904907\n"
          ]
        },
        {
          "output_type": "stream",
          "name": "stderr",
          "text": [
            " 92%|█████████▏| 359/391 [00:05<00:00, 51.50it/s]"
          ]
        },
        {
          "output_type": "stream",
          "name": "stdout",
          "text": [
            "Iteration: 350, mean loss: 1.8517526388168335, train_accuracy:0.612913966178894\n"
          ]
        },
        {
          "output_type": "stream",
          "name": "stderr",
          "text": [
            "100%|██████████| 391/391 [00:06<00:00, 60.91it/s]\n",
            "100%|██████████| 79/79 [00:01<00:00, 76.93it/s]\n"
          ]
        },
        {
          "output_type": "stream",
          "name": "stdout",
          "text": [
            "Val Metrics: val loss: tensor(1.8749) val accuracy: tensor(0.5869)\n"
          ]
        },
        {
          "output_type": "stream",
          "name": "stderr",
          "text": [
            "  2%|▏         | 7/391 [00:00<00:05, 65.32it/s]"
          ]
        },
        {
          "output_type": "stream",
          "name": "stdout",
          "text": [
            "Iteration: 0, mean loss: 1.8066473007202148, train_accuracy:0.65625\n"
          ]
        },
        {
          "output_type": "stream",
          "name": "stderr",
          "text": [
            " 16%|█▌        | 63/391 [00:00<00:04, 68.09it/s]"
          ]
        },
        {
          "output_type": "stream",
          "name": "stdout",
          "text": [
            "Iteration: 50, mean loss: 1.8470137119293213, train_accuracy:0.6156556606292725\n"
          ]
        },
        {
          "output_type": "stream",
          "name": "stderr",
          "text": [
            " 29%|██▊       | 112/391 [00:01<00:04, 65.60it/s]"
          ]
        },
        {
          "output_type": "stream",
          "name": "stdout",
          "text": [
            "Iteration: 100, mean loss: 1.8588151931762695, train_accuracy:0.6088335514068604\n"
          ]
        },
        {
          "output_type": "stream",
          "name": "stderr",
          "text": [
            " 41%|████▏     | 162/391 [00:02<00:03, 68.78it/s]"
          ]
        },
        {
          "output_type": "stream",
          "name": "stdout",
          "text": [
            "Iteration: 150, mean loss: 1.8470054864883423, train_accuracy:0.6108236908912659\n"
          ]
        },
        {
          "output_type": "stream",
          "name": "stderr",
          "text": [
            " 54%|█████▍    | 211/391 [00:03<00:02, 67.98it/s]"
          ]
        },
        {
          "output_type": "stream",
          "name": "stdout",
          "text": [
            "Iteration: 200, mean loss: 1.8480818271636963, train_accuracy:0.6110851764678955\n"
          ]
        },
        {
          "output_type": "stream",
          "name": "stderr",
          "text": [
            " 66%|██████▋   | 260/391 [00:03<00:01, 66.16it/s]"
          ]
        },
        {
          "output_type": "stream",
          "name": "stdout",
          "text": [
            "Iteration: 250, mean loss: 1.8366104364395142, train_accuracy:0.6140749454498291\n"
          ]
        },
        {
          "output_type": "stream",
          "name": "stderr",
          "text": [
            " 79%|███████▉  | 310/391 [00:04<00:01, 67.89it/s]"
          ]
        },
        {
          "output_type": "stream",
          "name": "stdout",
          "text": [
            "Iteration: 300, mean loss: 1.857898235321045, train_accuracy:0.612463653087616\n"
          ]
        },
        {
          "output_type": "stream",
          "name": "stderr",
          "text": [
            " 92%|█████████▏| 361/391 [00:05<00:00, 68.40it/s]"
          ]
        },
        {
          "output_type": "stream",
          "name": "stdout",
          "text": [
            "Iteration: 350, mean loss: 1.8472834825515747, train_accuracy:0.6132478713989258\n"
          ]
        },
        {
          "output_type": "stream",
          "name": "stderr",
          "text": [
            "100%|██████████| 391/391 [00:05<00:00, 67.34it/s]\n",
            "100%|██████████| 79/79 [00:01<00:00, 78.97it/s]\n"
          ]
        },
        {
          "output_type": "stream",
          "name": "stdout",
          "text": [
            "Val Metrics: val loss: tensor(1.8663) val accuracy: tensor(0.5953)\n"
          ]
        },
        {
          "output_type": "stream",
          "name": "stderr",
          "text": [
            "  2%|▏         | 7/391 [00:00<00:05, 67.84it/s]"
          ]
        },
        {
          "output_type": "stream",
          "name": "stdout",
          "text": [
            "Iteration: 0, mean loss: 1.796576738357544, train_accuracy:0.671875\n"
          ]
        },
        {
          "output_type": "stream",
          "name": "stderr",
          "text": [
            " 16%|█▋        | 64/391 [00:00<00:04, 68.15it/s]"
          ]
        },
        {
          "output_type": "stream",
          "name": "stdout",
          "text": [
            "Iteration: 50, mean loss: 1.8324346542358398, train_accuracy:0.6335784196853638\n"
          ]
        },
        {
          "output_type": "stream",
          "name": "stderr",
          "text": [
            " 29%|██▉       | 114/391 [00:01<00:04, 67.61it/s]"
          ]
        },
        {
          "output_type": "stream",
          "name": "stdout",
          "text": [
            "Iteration: 100, mean loss: 1.8469880819320679, train_accuracy:0.6240717768669128\n"
          ]
        },
        {
          "output_type": "stream",
          "name": "stderr",
          "text": [
            " 40%|███▉      | 156/391 [00:02<00:04, 56.17it/s]"
          ]
        },
        {
          "output_type": "stream",
          "name": "stdout",
          "text": [
            "Iteration: 150, mean loss: 1.8347643613815308, train_accuracy:0.6252069473266602\n"
          ]
        },
        {
          "output_type": "stream",
          "name": "stderr",
          "text": [
            " 54%|█████▎    | 210/391 [00:03<00:03, 51.44it/s]"
          ]
        },
        {
          "output_type": "stream",
          "name": "stdout",
          "text": [
            "Iteration: 200, mean loss: 1.8456071615219116, train_accuracy:0.6236007213592529\n"
          ]
        },
        {
          "output_type": "stream",
          "name": "stderr",
          "text": [
            " 67%|██████▋   | 261/391 [00:04<00:02, 54.37it/s]"
          ]
        },
        {
          "output_type": "stream",
          "name": "stdout",
          "text": [
            "Iteration: 250, mean loss: 1.833091139793396, train_accuracy:0.6251245141029358\n"
          ]
        },
        {
          "output_type": "stream",
          "name": "stderr",
          "text": [
            " 79%|███████▉  | 310/391 [00:05<00:01, 64.81it/s]"
          ]
        },
        {
          "output_type": "stream",
          "name": "stdout",
          "text": [
            "Iteration: 300, mean loss: 1.850183129310608, train_accuracy:0.622715950012207\n"
          ]
        },
        {
          "output_type": "stream",
          "name": "stderr",
          "text": [
            " 92%|█████████▏| 360/391 [00:05<00:00, 68.27it/s]"
          ]
        },
        {
          "output_type": "stream",
          "name": "stdout",
          "text": [
            "Iteration: 350, mean loss: 1.8443866968154907, train_accuracy:0.6219061613082886\n"
          ]
        },
        {
          "output_type": "stream",
          "name": "stderr",
          "text": [
            "100%|██████████| 391/391 [00:06<00:00, 60.31it/s]\n",
            "100%|██████████| 79/79 [00:00<00:00, 79.67it/s]\n"
          ]
        },
        {
          "output_type": "stream",
          "name": "stdout",
          "text": [
            "Val Metrics: val loss: tensor(1.8604) val accuracy: tensor(0.6012)\n"
          ]
        },
        {
          "output_type": "stream",
          "name": "stderr",
          "text": [
            "  2%|▏         | 7/391 [00:00<00:05, 65.20it/s]"
          ]
        },
        {
          "output_type": "stream",
          "name": "stdout",
          "text": [
            "Iteration: 0, mean loss: 1.7768456935882568, train_accuracy:0.6953125\n"
          ]
        },
        {
          "output_type": "stream",
          "name": "stderr",
          "text": [
            " 16%|█▌        | 63/391 [00:00<00:04, 65.94it/s]"
          ]
        },
        {
          "output_type": "stream",
          "name": "stdout",
          "text": [
            "Iteration: 50, mean loss: 1.832910418510437, train_accuracy:0.6276041865348816\n"
          ]
        },
        {
          "output_type": "stream",
          "name": "stderr",
          "text": [
            " 29%|██▉       | 113/391 [00:01<00:04, 68.22it/s]"
          ]
        },
        {
          "output_type": "stream",
          "name": "stdout",
          "text": [
            "Iteration: 100, mean loss: 1.8382214307785034, train_accuracy:0.6267790794372559\n"
          ]
        },
        {
          "output_type": "stream",
          "name": "stderr",
          "text": [
            " 41%|████▏     | 162/391 [00:02<00:03, 67.58it/s]"
          ]
        },
        {
          "output_type": "stream",
          "name": "stdout",
          "text": [
            "Iteration: 150, mean loss: 1.8351227045059204, train_accuracy:0.6259830594062805\n"
          ]
        },
        {
          "output_type": "stream",
          "name": "stderr",
          "text": [
            " 54%|█████▍    | 212/391 [00:03<00:02, 66.46it/s]"
          ]
        },
        {
          "output_type": "stream",
          "name": "stdout",
          "text": [
            "Iteration: 200, mean loss: 1.8398280143737793, train_accuracy:0.6250777244567871\n"
          ]
        },
        {
          "output_type": "stream",
          "name": "stderr",
          "text": [
            " 67%|██████▋   | 261/391 [00:03<00:01, 68.19it/s]"
          ]
        },
        {
          "output_type": "stream",
          "name": "stdout",
          "text": [
            "Iteration: 250, mean loss: 1.8239327669143677, train_accuracy:0.6275834441184998\n"
          ]
        },
        {
          "output_type": "stream",
          "name": "stderr",
          "text": [
            " 80%|███████▉  | 311/391 [00:04<00:01, 68.89it/s]"
          ]
        },
        {
          "output_type": "stream",
          "name": "stdout",
          "text": [
            "Iteration: 300, mean loss: 1.8467202186584473, train_accuracy:0.625804603099823\n"
          ]
        },
        {
          "output_type": "stream",
          "name": "stderr",
          "text": [
            " 92%|█████████▏| 360/391 [00:05<00:00, 67.80it/s]"
          ]
        },
        {
          "output_type": "stream",
          "name": "stdout",
          "text": [
            "Iteration: 350, mean loss: 1.8352078199386597, train_accuracy:0.6261128783226013\n"
          ]
        },
        {
          "output_type": "stream",
          "name": "stderr",
          "text": [
            "100%|██████████| 391/391 [00:05<00:00, 67.15it/s]\n",
            "100%|██████████| 79/79 [00:00<00:00, 79.17it/s]\n"
          ]
        },
        {
          "output_type": "stream",
          "name": "stdout",
          "text": [
            "Val Metrics: val loss: tensor(1.8568) val accuracy: tensor(0.6064)\n"
          ]
        },
        {
          "output_type": "stream",
          "name": "stderr",
          "text": [
            "  1%|▏         | 5/391 [00:00<00:09, 41.60it/s]"
          ]
        },
        {
          "output_type": "stream",
          "name": "stdout",
          "text": [
            "Iteration: 0, mean loss: 1.7326533794403076, train_accuracy:0.7421875\n"
          ]
        },
        {
          "output_type": "stream",
          "name": "stderr",
          "text": [
            " 15%|█▍        | 58/391 [00:01<00:06, 51.65it/s]"
          ]
        },
        {
          "output_type": "stream",
          "name": "stdout",
          "text": [
            "Iteration: 50, mean loss: 1.8270841836929321, train_accuracy:0.6367953419685364\n"
          ]
        },
        {
          "output_type": "stream",
          "name": "stderr",
          "text": [
            " 28%|██▊       | 108/391 [00:02<00:06, 45.77it/s]"
          ]
        },
        {
          "output_type": "stream",
          "name": "stdout",
          "text": [
            "Iteration: 100, mean loss: 1.8328857421875, train_accuracy:0.633121907711029\n"
          ]
        },
        {
          "output_type": "stream",
          "name": "stderr",
          "text": [
            " 42%|████▏     | 164/391 [00:03<00:03, 66.42it/s]"
          ]
        },
        {
          "output_type": "stream",
          "name": "stdout",
          "text": [
            "Iteration: 150, mean loss: 1.8289637565612793, train_accuracy:0.6329159736633301\n"
          ]
        },
        {
          "output_type": "stream",
          "name": "stderr",
          "text": [
            " 54%|█████▍    | 213/391 [00:03<00:02, 67.16it/s]"
          ]
        },
        {
          "output_type": "stream",
          "name": "stdout",
          "text": [
            "Iteration: 200, mean loss: 1.8330638408660889, train_accuracy:0.6317630410194397\n"
          ]
        },
        {
          "output_type": "stream",
          "name": "stderr",
          "text": [
            " 67%|██████▋   | 263/391 [00:04<00:01, 66.97it/s]"
          ]
        },
        {
          "output_type": "stream",
          "name": "stdout",
          "text": [
            "Iteration: 250, mean loss: 1.822116732597351, train_accuracy:0.633777379989624\n"
          ]
        },
        {
          "output_type": "stream",
          "name": "stderr",
          "text": [
            " 80%|███████▉  | 312/391 [00:05<00:01, 65.77it/s]"
          ]
        },
        {
          "output_type": "stream",
          "name": "stdout",
          "text": [
            "Iteration: 300, mean loss: 1.844252109527588, train_accuracy:0.631203293800354\n"
          ]
        },
        {
          "output_type": "stream",
          "name": "stderr",
          "text": [
            " 93%|█████████▎| 362/391 [00:06<00:00, 67.89it/s]"
          ]
        },
        {
          "output_type": "stream",
          "name": "stdout",
          "text": [
            "Iteration: 350, mean loss: 1.8397691249847412, train_accuracy:0.6297408938407898\n"
          ]
        },
        {
          "output_type": "stream",
          "name": "stderr",
          "text": [
            "100%|██████████| 391/391 [00:06<00:00, 60.09it/s]\n",
            "100%|██████████| 79/79 [00:00<00:00, 79.20it/s]\n"
          ]
        },
        {
          "output_type": "stream",
          "name": "stdout",
          "text": [
            "Val Metrics: val loss: tensor(1.8454) val accuracy: tensor(0.6163)\n"
          ]
        },
        {
          "output_type": "stream",
          "name": "stderr",
          "text": [
            "  2%|▏         | 7/391 [00:00<00:05, 66.86it/s]"
          ]
        },
        {
          "output_type": "stream",
          "name": "stdout",
          "text": [
            "Iteration: 0, mean loss: 1.7439273595809937, train_accuracy:0.7109375\n"
          ]
        },
        {
          "output_type": "stream",
          "name": "stderr",
          "text": [
            " 16%|█▋        | 64/391 [00:00<00:04, 68.22it/s]"
          ]
        },
        {
          "output_type": "stream",
          "name": "stdout",
          "text": [
            "Iteration: 50, mean loss: 1.8238348960876465, train_accuracy:0.641850471496582\n"
          ]
        },
        {
          "output_type": "stream",
          "name": "stderr",
          "text": [
            " 29%|██▉       | 113/391 [00:01<00:04, 67.70it/s]"
          ]
        },
        {
          "output_type": "stream",
          "name": "stdout",
          "text": [
            "Iteration: 100, mean loss: 1.831498622894287, train_accuracy:0.6353651285171509\n"
          ]
        },
        {
          "output_type": "stream",
          "name": "stderr",
          "text": [
            " 41%|████▏     | 162/391 [00:02<00:03, 67.54it/s]"
          ]
        },
        {
          "output_type": "stream",
          "name": "stdout",
          "text": [
            "Iteration: 150, mean loss: 1.8269293308258057, train_accuracy:0.636123776435852\n"
          ]
        },
        {
          "output_type": "stream",
          "name": "stderr",
          "text": [
            " 54%|█████▍    | 211/391 [00:03<00:02, 65.67it/s]"
          ]
        },
        {
          "output_type": "stream",
          "name": "stdout",
          "text": [
            "Iteration: 200, mean loss: 1.832371473312378, train_accuracy:0.6342506408691406\n"
          ]
        },
        {
          "output_type": "stream",
          "name": "stderr",
          "text": [
            " 66%|██████▋   | 260/391 [00:03<00:01, 67.13it/s]"
          ]
        },
        {
          "output_type": "stream",
          "name": "stdout",
          "text": [
            "Iteration: 250, mean loss: 1.8178695440292358, train_accuracy:0.6362674236297607\n"
          ]
        },
        {
          "output_type": "stream",
          "name": "stderr",
          "text": [
            " 79%|███████▉  | 309/391 [00:04<00:01, 66.71it/s]"
          ]
        },
        {
          "output_type": "stream",
          "name": "stdout",
          "text": [
            "Iteration: 300, mean loss: 1.8416247367858887, train_accuracy:0.633487343788147\n"
          ]
        },
        {
          "output_type": "stream",
          "name": "stderr",
          "text": [
            " 92%|█████████▏| 359/391 [00:05<00:00, 50.10it/s]"
          ]
        },
        {
          "output_type": "stream",
          "name": "stdout",
          "text": [
            "Iteration: 350, mean loss: 1.82893705368042, train_accuracy:0.6334802508354187\n"
          ]
        },
        {
          "output_type": "stream",
          "name": "stderr",
          "text": [
            "100%|██████████| 391/391 [00:06<00:00, 61.91it/s]\n",
            "100%|██████████| 79/79 [00:01<00:00, 66.03it/s]\n"
          ]
        },
        {
          "output_type": "stream",
          "name": "stdout",
          "text": [
            "Val Metrics: val loss: tensor(1.8476) val accuracy: tensor(0.6130)\n"
          ]
        },
        {
          "output_type": "stream",
          "name": "stderr",
          "text": [
            "  2%|▏         | 7/391 [00:00<00:05, 66.17it/s]"
          ]
        },
        {
          "output_type": "stream",
          "name": "stdout",
          "text": [
            "Iteration: 0, mean loss: 1.71089506149292, train_accuracy:0.765625\n"
          ]
        },
        {
          "output_type": "stream",
          "name": "stderr",
          "text": [
            " 16%|█▌        | 63/391 [00:00<00:05, 64.73it/s]"
          ]
        },
        {
          "output_type": "stream",
          "name": "stdout",
          "text": [
            "Iteration: 50, mean loss: 1.8160232305526733, train_accuracy:0.6493566036224365\n"
          ]
        },
        {
          "output_type": "stream",
          "name": "stderr",
          "text": [
            " 29%|██▊       | 112/391 [00:01<00:04, 68.36it/s]"
          ]
        },
        {
          "output_type": "stream",
          "name": "stdout",
          "text": [
            "Iteration: 100, mean loss: 1.8284066915512085, train_accuracy:0.6416305899620056\n"
          ]
        },
        {
          "output_type": "stream",
          "name": "stderr",
          "text": [
            " 41%|████      | 161/391 [00:02<00:03, 67.24it/s]"
          ]
        },
        {
          "output_type": "stream",
          "name": "stdout",
          "text": [
            "Iteration: 150, mean loss: 1.8216395378112793, train_accuracy:0.6412458419799805\n"
          ]
        },
        {
          "output_type": "stream",
          "name": "stderr",
          "text": [
            " 54%|█████▎    | 210/391 [00:03<00:02, 67.22it/s]"
          ]
        },
        {
          "output_type": "stream",
          "name": "stdout",
          "text": [
            "Iteration: 200, mean loss: 1.8317060470581055, train_accuracy:0.6380208134651184\n"
          ]
        },
        {
          "output_type": "stream",
          "name": "stderr",
          "text": [
            " 66%|██████▌   | 259/391 [00:03<00:02, 65.37it/s]"
          ]
        },
        {
          "output_type": "stream",
          "name": "stdout",
          "text": [
            "Iteration: 250, mean loss: 1.8114248514175415, train_accuracy:0.6403137445449829\n"
          ]
        },
        {
          "output_type": "stream",
          "name": "stderr",
          "text": [
            " 79%|███████▉  | 308/391 [00:04<00:01, 65.83it/s]"
          ]
        },
        {
          "output_type": "stream",
          "name": "stdout",
          "text": [
            "Iteration: 300, mean loss: 1.8310528993606567, train_accuracy:0.6384707093238831\n"
          ]
        },
        {
          "output_type": "stream",
          "name": "stderr",
          "text": [
            " 93%|█████████▎| 362/391 [00:05<00:00, 63.22it/s]"
          ]
        },
        {
          "output_type": "stream",
          "name": "stdout",
          "text": [
            "Iteration: 350, mean loss: 1.8224154710769653, train_accuracy:0.6386218070983887\n"
          ]
        },
        {
          "output_type": "stream",
          "name": "stderr",
          "text": [
            "100%|██████████| 391/391 [00:06<00:00, 64.10it/s]\n",
            "100%|██████████| 79/79 [00:01<00:00, 77.36it/s]\n"
          ]
        },
        {
          "output_type": "stream",
          "name": "stdout",
          "text": [
            "Val Metrics: val loss: tensor(1.8434) val accuracy: tensor(0.6213)\n"
          ]
        },
        {
          "output_type": "stream",
          "name": "stderr",
          "text": [
            "  2%|▏         | 7/391 [00:00<00:05, 64.62it/s]"
          ]
        },
        {
          "output_type": "stream",
          "name": "stdout",
          "text": [
            "Iteration: 0, mean loss: 1.7251617908477783, train_accuracy:0.7421875\n"
          ]
        },
        {
          "output_type": "stream",
          "name": "stderr",
          "text": [
            " 16%|█▌        | 63/391 [00:00<00:04, 65.78it/s]"
          ]
        },
        {
          "output_type": "stream",
          "name": "stdout",
          "text": [
            "Iteration: 50, mean loss: 1.817152738571167, train_accuracy:0.6455269455909729\n"
          ]
        },
        {
          "output_type": "stream",
          "name": "stderr",
          "text": [
            " 29%|██▉       | 113/391 [00:01<00:04, 67.77it/s]"
          ]
        },
        {
          "output_type": "stream",
          "name": "stdout",
          "text": [
            "Iteration: 100, mean loss: 1.8154314756393433, train_accuracy:0.6475092768669128\n"
          ]
        },
        {
          "output_type": "stream",
          "name": "stderr",
          "text": [
            " 40%|████      | 157/391 [00:02<00:04, 57.39it/s]"
          ]
        },
        {
          "output_type": "stream",
          "name": "stdout",
          "text": [
            "Iteration: 150, mean loss: 1.8183571100234985, train_accuracy:0.6462127566337585\n"
          ]
        },
        {
          "output_type": "stream",
          "name": "stderr",
          "text": [
            " 54%|█████▍    | 211/391 [00:03<00:03, 52.14it/s]"
          ]
        },
        {
          "output_type": "stream",
          "name": "stdout",
          "text": [
            "Iteration: 200, mean loss: 1.8182235956192017, train_accuracy:0.6457555890083313\n"
          ]
        },
        {
          "output_type": "stream",
          "name": "stderr",
          "text": [
            " 66%|██████▋   | 260/391 [00:04<00:02, 44.28it/s]"
          ]
        },
        {
          "output_type": "stream",
          "name": "stdout",
          "text": [
            "Iteration: 250, mean loss: 1.8139557838439941, train_accuracy:0.6458540558815002\n"
          ]
        },
        {
          "output_type": "stream",
          "name": "stderr",
          "text": [
            " 80%|███████▉  | 312/391 [00:05<00:01, 63.28it/s]"
          ]
        },
        {
          "output_type": "stream",
          "name": "stdout",
          "text": [
            "Iteration: 300, mean loss: 1.8262301683425903, train_accuracy:0.6442846655845642\n"
          ]
        },
        {
          "output_type": "stream",
          "name": "stderr",
          "text": [
            " 92%|█████████▏| 361/391 [00:06<00:00, 66.61it/s]"
          ]
        },
        {
          "output_type": "stream",
          "name": "stdout",
          "text": [
            "Iteration: 350, mean loss: 1.8140133619308472, train_accuracy:0.6449875235557556\n"
          ]
        },
        {
          "output_type": "stream",
          "name": "stderr",
          "text": [
            "100%|██████████| 391/391 [00:06<00:00, 58.51it/s]\n",
            "100%|██████████| 79/79 [00:01<00:00, 78.82it/s]\n"
          ]
        },
        {
          "output_type": "stream",
          "name": "stdout",
          "text": [
            "Val Metrics: val loss: tensor(1.8330) val accuracy: tensor(0.6315)\n"
          ]
        },
        {
          "output_type": "stream",
          "name": "stderr",
          "text": [
            "  2%|▏         | 7/391 [00:00<00:05, 64.32it/s]"
          ]
        },
        {
          "output_type": "stream",
          "name": "stdout",
          "text": [
            "Iteration: 0, mean loss: 1.7261854410171509, train_accuracy:0.7421875\n"
          ]
        },
        {
          "output_type": "stream",
          "name": "stderr",
          "text": [
            " 16%|█▌        | 63/391 [00:00<00:04, 67.73it/s]"
          ]
        },
        {
          "output_type": "stream",
          "name": "stdout",
          "text": [
            "Iteration: 50, mean loss: 1.8120770454406738, train_accuracy:0.6515012383460999\n"
          ]
        },
        {
          "output_type": "stream",
          "name": "stderr",
          "text": [
            " 27%|██▋       | 105/391 [00:01<00:04, 62.21it/s]"
          ]
        },
        {
          "output_type": "stream",
          "name": "stdout",
          "text": [
            "Iteration: 100, mean loss: 1.8215546607971191, train_accuracy:0.6446473002433777\n"
          ]
        },
        {
          "output_type": "stream",
          "name": "stderr",
          "text": [
            " 42%|████▏     | 165/391 [00:02<00:03, 62.78it/s]"
          ]
        },
        {
          "output_type": "stream",
          "name": "stdout",
          "text": [
            "Iteration: 150, mean loss: 1.8126327991485596, train_accuracy:0.6465231776237488\n"
          ]
        },
        {
          "output_type": "stream",
          "name": "stderr",
          "text": [
            " 51%|█████     | 200/391 [00:03<00:03, 57.87it/s]"
          ]
        },
        {
          "output_type": "stream",
          "name": "stdout",
          "text": [
            "Iteration: 200, mean loss: 1.8196897506713867, train_accuracy:0.6457944512367249\n"
          ]
        },
        {
          "output_type": "stream",
          "name": "stderr",
          "text": [
            " 67%|██████▋   | 263/391 [00:04<00:01, 65.93it/s]"
          ]
        },
        {
          "output_type": "stream",
          "name": "stdout",
          "text": [
            "Iteration: 250, mean loss: 1.8069251775741577, train_accuracy:0.6480640172958374\n"
          ]
        },
        {
          "output_type": "stream",
          "name": "stderr",
          "text": [
            " 80%|███████▉  | 312/391 [00:05<00:01, 68.10it/s]"
          ]
        },
        {
          "output_type": "stream",
          "name": "stdout",
          "text": [
            "Iteration: 300, mean loss: 1.829723834991455, train_accuracy:0.6454266905784607\n"
          ]
        },
        {
          "output_type": "stream",
          "name": "stderr",
          "text": [
            " 93%|█████████▎| 363/391 [00:05<00:00, 67.37it/s]"
          ]
        },
        {
          "output_type": "stream",
          "name": "stdout",
          "text": [
            "Iteration: 350, mean loss: 1.8136674165725708, train_accuracy:0.6458556056022644\n"
          ]
        },
        {
          "output_type": "stream",
          "name": "stderr",
          "text": [
            "100%|██████████| 391/391 [00:06<00:00, 61.00it/s]\n",
            "100%|██████████| 79/79 [00:01<00:00, 59.39it/s]\n"
          ]
        },
        {
          "output_type": "stream",
          "name": "stdout",
          "text": [
            "Val Metrics: val loss: tensor(1.8462) val accuracy: tensor(0.6155)\n"
          ]
        },
        {
          "output_type": "stream",
          "name": "stderr",
          "text": [
            "  1%|▏         | 5/391 [00:00<00:08, 46.21it/s]"
          ]
        },
        {
          "output_type": "stream",
          "name": "stdout",
          "text": [
            "Iteration: 0, mean loss: 1.73957097530365, train_accuracy:0.7421875\n"
          ]
        },
        {
          "output_type": "stream",
          "name": "stderr",
          "text": [
            " 16%|█▌        | 61/391 [00:01<00:06, 51.72it/s]"
          ]
        },
        {
          "output_type": "stream",
          "name": "stdout",
          "text": [
            "Iteration: 50, mean loss: 1.8040900230407715, train_accuracy:0.6594669222831726\n"
          ]
        },
        {
          "output_type": "stream",
          "name": "stderr",
          "text": [
            " 28%|██▊       | 109/391 [00:02<00:04, 65.80it/s]"
          ]
        },
        {
          "output_type": "stream",
          "name": "stdout",
          "text": [
            "Iteration: 100, mean loss: 1.8121516704559326, train_accuracy:0.6533106565475464\n"
          ]
        },
        {
          "output_type": "stream",
          "name": "stderr",
          "text": [
            " 40%|████      | 158/391 [00:02<00:03, 67.42it/s]"
          ]
        },
        {
          "output_type": "stream",
          "name": "stdout",
          "text": [
            "Iteration: 150, mean loss: 1.8048008680343628, train_accuracy:0.6552152037620544\n"
          ]
        },
        {
          "output_type": "stream",
          "name": "stderr",
          "text": [
            " 55%|█████▍    | 214/391 [00:03<00:02, 68.22it/s]"
          ]
        },
        {
          "output_type": "stream",
          "name": "stdout",
          "text": [
            "Iteration: 200, mean loss: 1.813448190689087, train_accuracy:0.6537235975265503\n"
          ]
        },
        {
          "output_type": "stream",
          "name": "stderr",
          "text": [
            " 67%|██████▋   | 263/391 [00:04<00:01, 67.03it/s]"
          ]
        },
        {
          "output_type": "stream",
          "name": "stdout",
          "text": [
            "Iteration: 250, mean loss: 1.7973712682724, train_accuracy:0.6558142304420471\n"
          ]
        },
        {
          "output_type": "stream",
          "name": "stderr",
          "text": [
            " 80%|███████▉  | 312/391 [00:05<00:01, 60.72it/s]"
          ]
        },
        {
          "output_type": "stream",
          "name": "stdout",
          "text": [
            "Iteration: 300, mean loss: 1.822417140007019, train_accuracy:0.6528239250183105\n"
          ]
        },
        {
          "output_type": "stream",
          "name": "stderr",
          "text": [
            " 91%|█████████ | 354/391 [00:05<00:00, 63.55it/s]"
          ]
        },
        {
          "output_type": "stream",
          "name": "stdout",
          "text": [
            "Iteration: 350, mean loss: 1.8116812705993652, train_accuracy:0.6526442170143127\n"
          ]
        },
        {
          "output_type": "stream",
          "name": "stderr",
          "text": [
            "100%|██████████| 391/391 [00:06<00:00, 59.61it/s]\n",
            "100%|██████████| 79/79 [00:01<00:00, 78.94it/s]\n"
          ]
        },
        {
          "output_type": "stream",
          "name": "stdout",
          "text": [
            "Val Metrics: val loss: tensor(1.8415) val accuracy: tensor(0.6212)\n"
          ]
        },
        {
          "output_type": "stream",
          "name": "stderr",
          "text": [
            "  2%|▏         | 7/391 [00:00<00:05, 66.25it/s]"
          ]
        },
        {
          "output_type": "stream",
          "name": "stdout",
          "text": [
            "Iteration: 0, mean loss: 1.7176618576049805, train_accuracy:0.7421875\n"
          ]
        },
        {
          "output_type": "stream",
          "name": "stderr",
          "text": [
            " 16%|█▌        | 63/391 [00:00<00:04, 66.47it/s]"
          ]
        },
        {
          "output_type": "stream",
          "name": "stdout",
          "text": [
            "Iteration: 50, mean loss: 1.8008373975753784, train_accuracy:0.6603860259056091\n"
          ]
        },
        {
          "output_type": "stream",
          "name": "stderr",
          "text": [
            " 29%|██▊       | 112/391 [00:01<00:04, 64.01it/s]"
          ]
        },
        {
          "output_type": "stream",
          "name": "stdout",
          "text": [
            "Iteration: 100, mean loss: 1.8078029155731201, train_accuracy:0.6576423048973083\n"
          ]
        },
        {
          "output_type": "stream",
          "name": "stderr",
          "text": [
            " 41%|████      | 161/391 [00:02<00:03, 67.66it/s]"
          ]
        },
        {
          "output_type": "stream",
          "name": "stdout",
          "text": [
            "Iteration: 150, mean loss: 1.8014805316925049, train_accuracy:0.6594060659408569\n"
          ]
        },
        {
          "output_type": "stream",
          "name": "stderr",
          "text": [
            " 54%|█████▎    | 210/391 [00:03<00:02, 67.31it/s]"
          ]
        },
        {
          "output_type": "stream",
          "name": "stdout",
          "text": [
            "Iteration: 200, mean loss: 1.8099206686019897, train_accuracy:0.6583488583564758\n"
          ]
        },
        {
          "output_type": "stream",
          "name": "stderr",
          "text": [
            " 66%|██████▌   | 258/391 [00:04<00:02, 51.37it/s]"
          ]
        },
        {
          "output_type": "stream",
          "name": "stdout",
          "text": [
            "Iteration: 250, mean loss: 1.7988896369934082, train_accuracy:0.6593314409255981\n"
          ]
        },
        {
          "output_type": "stream",
          "name": "stderr",
          "text": [
            " 79%|███████▉  | 310/391 [00:05<00:01, 48.83it/s]"
          ]
        },
        {
          "output_type": "stream",
          "name": "stdout",
          "text": [
            "Iteration: 300, mean loss: 1.8202122449874878, train_accuracy:0.6566652655601501\n"
          ]
        },
        {
          "output_type": "stream",
          "name": "stderr",
          "text": [
            " 92%|█████████▏| 361/391 [00:06<00:00, 58.65it/s]"
          ]
        },
        {
          "output_type": "stream",
          "name": "stdout",
          "text": [
            "Iteration: 350, mean loss: 1.8061814308166504, train_accuracy:0.6567174196243286\n"
          ]
        },
        {
          "output_type": "stream",
          "name": "stderr",
          "text": [
            "100%|██████████| 391/391 [00:06<00:00, 59.79it/s]\n",
            "100%|██████████| 79/79 [00:01<00:00, 77.24it/s]\n"
          ]
        },
        {
          "output_type": "stream",
          "name": "stdout",
          "text": [
            "Val Metrics: val loss: tensor(1.8336) val accuracy: tensor(0.6293)\n"
          ]
        },
        {
          "output_type": "stream",
          "name": "stderr",
          "text": [
            "  2%|▏         | 7/391 [00:00<00:05, 66.05it/s]"
          ]
        },
        {
          "output_type": "stream",
          "name": "stdout",
          "text": [
            "Iteration: 0, mean loss: 1.7331180572509766, train_accuracy:0.7265625\n"
          ]
        },
        {
          "output_type": "stream",
          "name": "stderr",
          "text": [
            " 16%|█▋        | 64/391 [00:00<00:04, 67.23it/s]"
          ]
        },
        {
          "output_type": "stream",
          "name": "stdout",
          "text": [
            "Iteration: 50, mean loss: 1.7946577072143555, train_accuracy:0.6695771813392639\n"
          ]
        },
        {
          "output_type": "stream",
          "name": "stderr",
          "text": [
            " 29%|██▉       | 113/391 [00:01<00:04, 66.36it/s]"
          ]
        },
        {
          "output_type": "stream",
          "name": "stdout",
          "text": [
            "Iteration: 100, mean loss: 1.8043735027313232, train_accuracy:0.6636757254600525\n"
          ]
        },
        {
          "output_type": "stream",
          "name": "stderr",
          "text": [
            " 41%|████▏     | 162/391 [00:02<00:03, 65.74it/s]"
          ]
        },
        {
          "output_type": "stream",
          "name": "stdout",
          "text": [
            "Iteration: 150, mean loss: 1.7942358255386353, train_accuracy:0.6654077172279358\n"
          ]
        },
        {
          "output_type": "stream",
          "name": "stderr",
          "text": [
            " 54%|█████▍    | 212/391 [00:03<00:02, 68.13it/s]"
          ]
        },
        {
          "output_type": "stream",
          "name": "stdout",
          "text": [
            "Iteration: 200, mean loss: 1.8036214113235474, train_accuracy:0.6635960936546326\n"
          ]
        },
        {
          "output_type": "stream",
          "name": "stderr",
          "text": [
            " 67%|██████▋   | 261/391 [00:03<00:01, 67.66it/s]"
          ]
        },
        {
          "output_type": "stream",
          "name": "stdout",
          "text": [
            "Iteration: 250, mean loss: 1.7897686958312988, train_accuracy:0.6655253767967224\n"
          ]
        },
        {
          "output_type": "stream",
          "name": "stderr",
          "text": [
            " 79%|███████▉  | 310/391 [00:04<00:01, 66.35it/s]"
          ]
        },
        {
          "output_type": "stream",
          "name": "stdout",
          "text": [
            "Iteration: 300, mean loss: 1.8136595487594604, train_accuracy:0.6630502343177795\n"
          ]
        },
        {
          "output_type": "stream",
          "name": "stderr",
          "text": [
            " 92%|█████████▏| 359/391 [00:05<00:00, 68.36it/s]"
          ]
        },
        {
          "output_type": "stream",
          "name": "stdout",
          "text": [
            "Iteration: 350, mean loss: 1.8035829067230225, train_accuracy:0.6628605723381042\n"
          ]
        },
        {
          "output_type": "stream",
          "name": "stderr",
          "text": [
            "100%|██████████| 391/391 [00:05<00:00, 66.95it/s]\n",
            "100%|██████████| 79/79 [00:01<00:00, 77.86it/s]\n"
          ]
        },
        {
          "output_type": "stream",
          "name": "stdout",
          "text": [
            "Val Metrics: val loss: tensor(1.8255) val accuracy: tensor(0.6363)\n"
          ]
        },
        {
          "output_type": "stream",
          "name": "stderr",
          "text": [
            "  2%|▏         | 7/391 [00:00<00:06, 63.64it/s]"
          ]
        },
        {
          "output_type": "stream",
          "name": "stdout",
          "text": [
            "Iteration: 0, mean loss: 1.7040984630584717, train_accuracy:0.75\n"
          ]
        },
        {
          "output_type": "stream",
          "name": "stderr",
          "text": [
            " 16%|█▌        | 63/391 [00:00<00:04, 66.54it/s]"
          ]
        },
        {
          "output_type": "stream",
          "name": "stdout",
          "text": [
            "Iteration: 50, mean loss: 1.793450951576233, train_accuracy:0.671262264251709\n"
          ]
        },
        {
          "output_type": "stream",
          "name": "stderr",
          "text": [
            " 28%|██▊       | 110/391 [00:01<00:05, 51.56it/s]"
          ]
        },
        {
          "output_type": "stream",
          "name": "stdout",
          "text": [
            "Iteration: 100, mean loss: 1.8122671842575073, train_accuracy:0.661355197429657\n"
          ]
        },
        {
          "output_type": "stream",
          "name": "stderr",
          "text": [
            " 40%|████      | 158/391 [00:02<00:04, 50.80it/s]"
          ]
        },
        {
          "output_type": "stream",
          "name": "stdout",
          "text": [
            "Iteration: 150, mean loss: 1.7950904369354248, train_accuracy:0.6634416580200195\n"
          ]
        },
        {
          "output_type": "stream",
          "name": "stderr",
          "text": [
            " 53%|█████▎    | 209/391 [00:03<00:03, 55.18it/s]"
          ]
        },
        {
          "output_type": "stream",
          "name": "stdout",
          "text": [
            "Iteration: 200, mean loss: 1.8044358491897583, train_accuracy:0.6618858575820923\n"
          ]
        },
        {
          "output_type": "stream",
          "name": "stderr",
          "text": [
            " 68%|██████▊   | 264/391 [00:04<00:01, 67.03it/s]"
          ]
        },
        {
          "output_type": "stream",
          "name": "stdout",
          "text": [
            "Iteration: 250, mean loss: 1.7908750772476196, train_accuracy:0.6638757586479187\n"
          ]
        },
        {
          "output_type": "stream",
          "name": "stderr",
          "text": [
            " 80%|████████  | 313/391 [00:05<00:01, 65.19it/s]"
          ]
        },
        {
          "output_type": "stream",
          "name": "stdout",
          "text": [
            "Iteration: 300, mean loss: 1.812644362449646, train_accuracy:0.6614151000976562\n"
          ]
        },
        {
          "output_type": "stream",
          "name": "stderr",
          "text": [
            " 93%|█████████▎| 362/391 [00:06<00:00, 66.54it/s]"
          ]
        },
        {
          "output_type": "stream",
          "name": "stdout",
          "text": [
            "Iteration: 350, mean loss: 1.8080257177352905, train_accuracy:0.660523533821106\n"
          ]
        },
        {
          "output_type": "stream",
          "name": "stderr",
          "text": [
            "100%|██████████| 391/391 [00:06<00:00, 59.59it/s]\n",
            "100%|██████████| 79/79 [00:01<00:00, 78.53it/s]\n"
          ]
        },
        {
          "output_type": "stream",
          "name": "stdout",
          "text": [
            "Val Metrics: val loss: tensor(1.8381) val accuracy: tensor(0.6243)\n"
          ]
        },
        {
          "output_type": "stream",
          "name": "stderr",
          "text": [
            "  2%|▏         | 7/391 [00:00<00:05, 66.98it/s]"
          ]
        },
        {
          "output_type": "stream",
          "name": "stdout",
          "text": [
            "Iteration: 0, mean loss: 1.67916738986969, train_accuracy:0.7890625\n"
          ]
        },
        {
          "output_type": "stream",
          "name": "stderr",
          "text": [
            " 16%|█▌        | 63/391 [00:00<00:04, 67.22it/s]"
          ]
        },
        {
          "output_type": "stream",
          "name": "stdout",
          "text": [
            "Iteration: 50, mean loss: 1.7963645458221436, train_accuracy:0.6681985259056091\n"
          ]
        },
        {
          "output_type": "stream",
          "name": "stderr",
          "text": [
            " 29%|██▊       | 112/391 [00:01<00:04, 66.33it/s]"
          ]
        },
        {
          "output_type": "stream",
          "name": "stdout",
          "text": [
            "Iteration: 100, mean loss: 1.8036030530929565, train_accuracy:0.664371907711029\n"
          ]
        },
        {
          "output_type": "stream",
          "name": "stderr",
          "text": [
            " 41%|████      | 161/391 [00:02<00:03, 67.76it/s]"
          ]
        },
        {
          "output_type": "stream",
          "name": "stdout",
          "text": [
            "Iteration: 150, mean loss: 1.7935293912887573, train_accuracy:0.6664424538612366\n"
          ]
        },
        {
          "output_type": "stream",
          "name": "stderr",
          "text": [
            " 54%|█████▎    | 210/391 [00:03<00:02, 66.46it/s]"
          ]
        },
        {
          "output_type": "stream",
          "name": "stdout",
          "text": [
            "Iteration: 200, mean loss: 1.8005086183547974, train_accuracy:0.6653062701225281\n"
          ]
        },
        {
          "output_type": "stream",
          "name": "stderr",
          "text": [
            " 66%|██████▌   | 259/391 [00:03<00:01, 67.46it/s]"
          ]
        },
        {
          "output_type": "stream",
          "name": "stdout",
          "text": [
            "Iteration: 250, mean loss: 1.7868359088897705, train_accuracy:0.6669883131980896\n"
          ]
        },
        {
          "output_type": "stream",
          "name": "stderr",
          "text": [
            " 79%|███████▉  | 308/391 [00:04<00:01, 65.60it/s]"
          ]
        },
        {
          "output_type": "stream",
          "name": "stdout",
          "text": [
            "Iteration: 300, mean loss: 1.8082026243209839, train_accuracy:0.6645296812057495\n"
          ]
        },
        {
          "output_type": "stream",
          "name": "stderr",
          "text": [
            " 93%|█████████▎| 364/391 [00:05<00:00, 68.38it/s]"
          ]
        },
        {
          "output_type": "stream",
          "name": "stdout",
          "text": [
            "Iteration: 350, mean loss: 1.7909839153289795, train_accuracy:0.6657095551490784\n"
          ]
        },
        {
          "output_type": "stream",
          "name": "stderr",
          "text": [
            "100%|██████████| 391/391 [00:05<00:00, 66.60it/s]\n",
            "100%|██████████| 79/79 [00:01<00:00, 56.42it/s]\n"
          ]
        },
        {
          "output_type": "stream",
          "name": "stdout",
          "text": [
            "Val Metrics: val loss: tensor(1.8234) val accuracy: tensor(0.6391)\n"
          ]
        },
        {
          "output_type": "stream",
          "name": "stderr",
          "text": [
            "  1%|▏         | 5/391 [00:00<00:08, 46.15it/s]"
          ]
        },
        {
          "output_type": "stream",
          "name": "stdout",
          "text": [
            "Iteration: 0, mean loss: 1.6989681720733643, train_accuracy:0.7734375\n"
          ]
        },
        {
          "output_type": "stream",
          "name": "stderr",
          "text": [
            " 16%|█▌        | 63/391 [00:01<00:05, 61.46it/s]"
          ]
        },
        {
          "output_type": "stream",
          "name": "stdout",
          "text": [
            "Iteration: 50, mean loss: 1.786997675895691, train_accuracy:0.6769301295280457\n"
          ]
        },
        {
          "output_type": "stream",
          "name": "stderr",
          "text": [
            " 29%|██▊       | 112/391 [00:01<00:04, 66.67it/s]"
          ]
        },
        {
          "output_type": "stream",
          "name": "stdout",
          "text": [
            "Iteration: 100, mean loss: 1.7965774536132812, train_accuracy:0.6708694100379944\n"
          ]
        },
        {
          "output_type": "stream",
          "name": "stderr",
          "text": [
            " 41%|████      | 161/391 [00:02<00:03, 65.76it/s]"
          ]
        },
        {
          "output_type": "stream",
          "name": "stdout",
          "text": [
            "Iteration: 150, mean loss: 1.789643406867981, train_accuracy:0.6714093685150146\n"
          ]
        },
        {
          "output_type": "stream",
          "name": "stderr",
          "text": [
            " 54%|█████▎    | 210/391 [00:03<00:02, 68.06it/s]"
          ]
        },
        {
          "output_type": "stream",
          "name": "stdout",
          "text": [
            "Iteration: 200, mean loss: 1.7894781827926636, train_accuracy:0.671875\n"
          ]
        },
        {
          "output_type": "stream",
          "name": "stderr",
          "text": [
            " 66%|██████▌   | 259/391 [00:04<00:01, 67.00it/s]"
          ]
        },
        {
          "output_type": "stream",
          "name": "stdout",
          "text": [
            "Iteration: 250, mean loss: 1.7790887355804443, train_accuracy:0.6740226745605469\n"
          ]
        },
        {
          "output_type": "stream",
          "name": "stderr",
          "text": [
            " 79%|███████▉  | 308/391 [00:04<00:01, 64.78it/s]"
          ]
        },
        {
          "output_type": "stream",
          "name": "stdout",
          "text": [
            "Iteration: 300, mean loss: 1.8013205528259277, train_accuracy:0.6720826625823975\n"
          ]
        },
        {
          "output_type": "stream",
          "name": "stderr",
          "text": [
            " 92%|█████████▏| 360/391 [00:05<00:00, 51.34it/s]"
          ]
        },
        {
          "output_type": "stream",
          "name": "stdout",
          "text": [
            "Iteration: 350, mean loss: 1.7876052856445312, train_accuracy:0.6728098392486572\n"
          ]
        },
        {
          "output_type": "stream",
          "name": "stderr",
          "text": [
            "100%|██████████| 391/391 [00:06<00:00, 60.00it/s]\n",
            "100%|██████████| 79/79 [00:01<00:00, 58.25it/s]\n"
          ]
        },
        {
          "output_type": "stream",
          "name": "stdout",
          "text": [
            "Val Metrics: val loss: tensor(1.8281) val accuracy: tensor(0.6351)\n"
          ]
        },
        {
          "output_type": "stream",
          "name": "stderr",
          "text": [
            "  2%|▏         | 7/391 [00:00<00:06, 62.85it/s]"
          ]
        },
        {
          "output_type": "stream",
          "name": "stdout",
          "text": [
            "Iteration: 0, mean loss: 1.7074217796325684, train_accuracy:0.7578125\n"
          ]
        },
        {
          "output_type": "stream",
          "name": "stderr",
          "text": [
            " 16%|█▌        | 63/391 [00:00<00:05, 64.07it/s]"
          ]
        },
        {
          "output_type": "stream",
          "name": "stdout",
          "text": [
            "Iteration: 50, mean loss: 1.7793916463851929, train_accuracy:0.6832107901573181\n"
          ]
        },
        {
          "output_type": "stream",
          "name": "stderr",
          "text": [
            " 29%|██▊       | 112/391 [00:01<00:04, 67.65it/s]"
          ]
        },
        {
          "output_type": "stream",
          "name": "stdout",
          "text": [
            "Iteration: 100, mean loss: 1.7958372831344604, train_accuracy:0.6749690771102905\n"
          ]
        },
        {
          "output_type": "stream",
          "name": "stderr",
          "text": [
            " 41%|████      | 161/391 [00:02<00:03, 67.12it/s]"
          ]
        },
        {
          "output_type": "stream",
          "name": "stdout",
          "text": [
            "Iteration: 150, mean loss: 1.784377098083496, train_accuracy:0.6752380132675171\n"
          ]
        },
        {
          "output_type": "stream",
          "name": "stderr",
          "text": [
            " 53%|█████▎    | 209/391 [00:03<00:03, 53.04it/s]"
          ]
        },
        {
          "output_type": "stream",
          "name": "stdout",
          "text": [
            "Iteration: 200, mean loss: 1.7842026948928833, train_accuracy:0.675606369972229\n"
          ]
        },
        {
          "output_type": "stream",
          "name": "stderr",
          "text": [
            " 65%|██████▌   | 256/391 [00:04<00:02, 49.83it/s]"
          ]
        },
        {
          "output_type": "stream",
          "name": "stdout",
          "text": [
            "Iteration: 250, mean loss: 1.771742343902588, train_accuracy:0.6790961027145386\n"
          ]
        },
        {
          "output_type": "stream",
          "name": "stderr",
          "text": [
            " 79%|███████▉  | 310/391 [00:05<00:01, 55.31it/s]"
          ]
        },
        {
          "output_type": "stream",
          "name": "stdout",
          "text": [
            "Iteration: 300, mean loss: 1.8022434711456299, train_accuracy:0.6756644248962402\n"
          ]
        },
        {
          "output_type": "stream",
          "name": "stderr",
          "text": [
            " 92%|█████████▏| 359/391 [00:06<00:00, 66.75it/s]"
          ]
        },
        {
          "output_type": "stream",
          "name": "stdout",
          "text": [
            "Iteration: 350, mean loss: 1.7890617847442627, train_accuracy:0.6751024127006531\n"
          ]
        },
        {
          "output_type": "stream",
          "name": "stderr",
          "text": [
            "100%|██████████| 391/391 [00:06<00:00, 59.52it/s]\n",
            "100%|██████████| 79/79 [00:01<00:00, 77.90it/s]\n"
          ]
        },
        {
          "output_type": "stream",
          "name": "stdout",
          "text": [
            "Val Metrics: val loss: tensor(1.8344) val accuracy: tensor(0.6259)\n"
          ]
        },
        {
          "output_type": "stream",
          "name": "stderr",
          "text": [
            "  2%|▏         | 7/391 [00:00<00:06, 63.71it/s]"
          ]
        },
        {
          "output_type": "stream",
          "name": "stdout",
          "text": [
            "Iteration: 0, mean loss: 1.6852467060089111, train_accuracy:0.78125\n"
          ]
        },
        {
          "output_type": "stream",
          "name": "stderr",
          "text": [
            " 16%|█▌        | 63/391 [00:00<00:04, 66.13it/s]"
          ]
        },
        {
          "output_type": "stream",
          "name": "stdout",
          "text": [
            "Iteration: 50, mean loss: 1.7761297225952148, train_accuracy:0.6901041865348816\n"
          ]
        },
        {
          "output_type": "stream",
          "name": "stderr",
          "text": [
            " 29%|██▊       | 112/391 [00:01<00:04, 65.53it/s]"
          ]
        },
        {
          "output_type": "stream",
          "name": "stdout",
          "text": [
            "Iteration: 100, mean loss: 1.7887214422225952, train_accuracy:0.6823174357414246\n"
          ]
        },
        {
          "output_type": "stream",
          "name": "stderr",
          "text": [
            " 41%|████      | 161/391 [00:02<00:03, 67.31it/s]"
          ]
        },
        {
          "output_type": "stream",
          "name": "stdout",
          "text": [
            "Iteration: 150, mean loss: 1.7851392030715942, train_accuracy:0.6810327172279358\n"
          ]
        },
        {
          "output_type": "stream",
          "name": "stderr",
          "text": [
            " 54%|█████▍    | 211/391 [00:03<00:02, 67.66it/s]"
          ]
        },
        {
          "output_type": "stream",
          "name": "stdout",
          "text": [
            "Iteration: 200, mean loss: 1.7913844585418701, train_accuracy:0.6782104969024658\n"
          ]
        },
        {
          "output_type": "stream",
          "name": "stderr",
          "text": [
            " 66%|██████▋   | 260/391 [00:03<00:02, 65.42it/s]"
          ]
        },
        {
          "output_type": "stream",
          "name": "stdout",
          "text": [
            "Iteration: 250, mean loss: 1.7698254585266113, train_accuracy:0.6807457804679871\n"
          ]
        },
        {
          "output_type": "stream",
          "name": "stderr",
          "text": [
            " 79%|███████▉  | 309/391 [00:04<00:01, 67.01it/s]"
          ]
        },
        {
          "output_type": "stream",
          "name": "stdout",
          "text": [
            "Iteration: 300, mean loss: 1.7922297716140747, train_accuracy:0.6789867281913757\n"
          ]
        },
        {
          "output_type": "stream",
          "name": "stderr",
          "text": [
            " 92%|█████████▏| 358/391 [00:05<00:00, 68.16it/s]"
          ]
        },
        {
          "output_type": "stream",
          "name": "stdout",
          "text": [
            "Iteration: 350, mean loss: 1.7824041843414307, train_accuracy:0.6790865659713745\n"
          ]
        },
        {
          "output_type": "stream",
          "name": "stderr",
          "text": [
            "100%|██████████| 391/391 [00:05<00:00, 66.38it/s]\n",
            "100%|██████████| 79/79 [00:01<00:00, 78.46it/s]\n"
          ]
        },
        {
          "output_type": "stream",
          "name": "stdout",
          "text": [
            "Val Metrics: val loss: tensor(1.8301) val accuracy: tensor(0.6317)\n"
          ]
        },
        {
          "output_type": "stream",
          "name": "stderr",
          "text": [
            "  2%|▏         | 7/391 [00:00<00:05, 64.42it/s]"
          ]
        },
        {
          "output_type": "stream",
          "name": "stdout",
          "text": [
            "Iteration: 0, mean loss: 1.6852531433105469, train_accuracy:0.78125\n"
          ]
        },
        {
          "output_type": "stream",
          "name": "stderr",
          "text": [
            " 14%|█▍        | 55/391 [00:00<00:06, 53.51it/s]"
          ]
        },
        {
          "output_type": "stream",
          "name": "stdout",
          "text": [
            "Iteration: 50, mean loss: 1.7763915061950684, train_accuracy:0.6884191036224365\n"
          ]
        },
        {
          "output_type": "stream",
          "name": "stderr",
          "text": [
            " 28%|██▊       | 109/391 [00:02<00:05, 51.09it/s]"
          ]
        },
        {
          "output_type": "stream",
          "name": "stdout",
          "text": [
            "Iteration: 100, mean loss: 1.784666895866394, train_accuracy:0.6837098002433777\n"
          ]
        },
        {
          "output_type": "stream",
          "name": "stderr",
          "text": [
            " 41%|████      | 159/391 [00:03<00:04, 54.82it/s]"
          ]
        },
        {
          "output_type": "stream",
          "name": "stdout",
          "text": [
            "Iteration: 150, mean loss: 1.7850192785263062, train_accuracy:0.681239664554596\n"
          ]
        },
        {
          "output_type": "stream",
          "name": "stderr",
          "text": [
            " 55%|█████▍    | 214/391 [00:03<00:02, 67.06it/s]"
          ]
        },
        {
          "output_type": "stream",
          "name": "stdout",
          "text": [
            "Iteration: 200, mean loss: 1.7869834899902344, train_accuracy:0.6794931888580322\n"
          ]
        },
        {
          "output_type": "stream",
          "name": "stderr",
          "text": [
            " 67%|██████▋   | 263/391 [00:04<00:01, 66.91it/s]"
          ]
        },
        {
          "output_type": "stream",
          "name": "stdout",
          "text": [
            "Iteration: 250, mean loss: 1.7710515260696411, train_accuracy:0.6820530295372009\n"
          ]
        },
        {
          "output_type": "stream",
          "name": "stderr",
          "text": [
            " 80%|███████▉  | 312/391 [00:05<00:01, 66.09it/s]"
          ]
        },
        {
          "output_type": "stream",
          "name": "stdout",
          "text": [
            "Iteration: 300, mean loss: 1.79360032081604, train_accuracy:0.6799470782279968\n"
          ]
        },
        {
          "output_type": "stream",
          "name": "stderr",
          "text": [
            " 92%|█████████▏| 361/391 [00:06<00:00, 67.24it/s]"
          ]
        },
        {
          "output_type": "stream",
          "name": "stdout",
          "text": [
            "Iteration: 350, mean loss: 1.776493787765503, train_accuracy:0.6812232732772827\n"
          ]
        },
        {
          "output_type": "stream",
          "name": "stderr",
          "text": [
            "100%|██████████| 391/391 [00:06<00:00, 59.73it/s]\n",
            "100%|██████████| 79/79 [00:01<00:00, 78.95it/s]\n"
          ]
        },
        {
          "output_type": "stream",
          "name": "stdout",
          "text": [
            "Val Metrics: val loss: tensor(1.8345) val accuracy: tensor(0.6247)\n"
          ]
        },
        {
          "output_type": "stream",
          "name": "stderr",
          "text": [
            "  2%|▏         | 7/391 [00:00<00:05, 64.35it/s]"
          ]
        },
        {
          "output_type": "stream",
          "name": "stdout",
          "text": [
            "Iteration: 0, mean loss: 1.697606086730957, train_accuracy:0.796875\n"
          ]
        },
        {
          "output_type": "stream",
          "name": "stderr",
          "text": [
            " 16%|█▌        | 63/391 [00:00<00:04, 66.42it/s]"
          ]
        },
        {
          "output_type": "stream",
          "name": "stdout",
          "text": [
            "Iteration: 50, mean loss: 1.7755191326141357, train_accuracy:0.6888786554336548\n"
          ]
        },
        {
          "output_type": "stream",
          "name": "stderr",
          "text": [
            " 29%|██▊       | 112/391 [00:01<00:04, 65.82it/s]"
          ]
        },
        {
          "output_type": "stream",
          "name": "stdout",
          "text": [
            "Iteration: 100, mean loss: 1.780128836631775, train_accuracy:0.6864171028137207\n"
          ]
        },
        {
          "output_type": "stream",
          "name": "stderr",
          "text": [
            " 41%|████      | 161/391 [00:02<00:03, 65.65it/s]"
          ]
        },
        {
          "output_type": "stream",
          "name": "stdout",
          "text": [
            "Iteration: 150, mean loss: 1.7782256603240967, train_accuracy:0.6852752566337585\n"
          ]
        },
        {
          "output_type": "stream",
          "name": "stderr",
          "text": [
            " 54%|█████▎    | 210/391 [00:03<00:02, 66.93it/s]"
          ]
        },
        {
          "output_type": "stream",
          "name": "stdout",
          "text": [
            "Iteration: 200, mean loss: 1.7809735536575317, train_accuracy:0.6843516826629639\n"
          ]
        },
        {
          "output_type": "stream",
          "name": "stderr",
          "text": [
            " 66%|██████▌   | 259/391 [00:03<00:02, 65.00it/s]"
          ]
        },
        {
          "output_type": "stream",
          "name": "stdout",
          "text": [
            "Iteration: 250, mean loss: 1.7677863836288452, train_accuracy:0.6866284608840942\n"
          ]
        },
        {
          "output_type": "stream",
          "name": "stderr",
          "text": [
            " 79%|███████▉  | 308/391 [00:04<00:01, 66.88it/s]"
          ]
        },
        {
          "output_type": "stream",
          "name": "stdout",
          "text": [
            "Iteration: 300, mean loss: 1.792921781539917, train_accuracy:0.6837365031242371\n"
          ]
        },
        {
          "output_type": "stream",
          "name": "stderr",
          "text": [
            " 91%|█████████▏| 357/391 [00:05<00:00, 55.34it/s]"
          ]
        },
        {
          "output_type": "stream",
          "name": "stdout",
          "text": [
            "Iteration: 350, mean loss: 1.7818748950958252, train_accuracy:0.6833822727203369\n"
          ]
        },
        {
          "output_type": "stream",
          "name": "stderr",
          "text": [
            "100%|██████████| 391/391 [00:06<00:00, 63.17it/s]\n",
            "100%|██████████| 79/79 [00:01<00:00, 54.86it/s]\n"
          ]
        },
        {
          "output_type": "stream",
          "name": "stdout",
          "text": [
            "Val Metrics: val loss: tensor(1.8436) val accuracy: tensor(0.6191)\n"
          ]
        },
        {
          "output_type": "stream",
          "name": "stderr",
          "text": [
            "  2%|▏         | 7/391 [00:00<00:06, 61.42it/s]"
          ]
        },
        {
          "output_type": "stream",
          "name": "stdout",
          "text": [
            "Iteration: 0, mean loss: 1.7179126739501953, train_accuracy:0.7421875\n"
          ]
        },
        {
          "output_type": "stream",
          "name": "stderr",
          "text": [
            " 16%|█▌        | 63/391 [00:00<00:05, 62.82it/s]"
          ]
        },
        {
          "output_type": "stream",
          "name": "stdout",
          "text": [
            "Iteration: 50, mean loss: 1.7722653150558472, train_accuracy:0.6922487616539001\n"
          ]
        },
        {
          "output_type": "stream",
          "name": "stderr",
          "text": [
            " 29%|██▊       | 112/391 [00:01<00:04, 65.99it/s]"
          ]
        },
        {
          "output_type": "stream",
          "name": "stdout",
          "text": [
            "Iteration: 100, mean loss: 1.7728474140167236, train_accuracy:0.6921411156654358\n"
          ]
        },
        {
          "output_type": "stream",
          "name": "stderr",
          "text": [
            " 41%|████      | 161/391 [00:02<00:03, 64.04it/s]"
          ]
        },
        {
          "output_type": "stream",
          "name": "stdout",
          "text": [
            "Iteration: 150, mean loss: 1.7796558141708374, train_accuracy:0.6890004277229309\n"
          ]
        },
        {
          "output_type": "stream",
          "name": "stderr",
          "text": [
            " 54%|█████▎    | 210/391 [00:03<00:02, 64.62it/s]"
          ]
        },
        {
          "output_type": "stream",
          "name": "stdout",
          "text": [
            "Iteration: 200, mean loss: 1.7751961946487427, train_accuracy:0.6883162260055542\n"
          ]
        },
        {
          "output_type": "stream",
          "name": "stderr",
          "text": [
            " 66%|██████▌   | 259/391 [00:03<00:01, 66.61it/s]"
          ]
        },
        {
          "output_type": "stream",
          "name": "stdout",
          "text": [
            "Iteration: 250, mean loss: 1.7631856203079224, train_accuracy:0.6902078986167908\n"
          ]
        },
        {
          "output_type": "stream",
          "name": "stderr",
          "text": [
            " 79%|███████▉  | 308/391 [00:04<00:01, 62.70it/s]"
          ]
        },
        {
          "output_type": "stream",
          "name": "stdout",
          "text": [
            "Iteration: 300, mean loss: 1.7826005220413208, train_accuracy:0.6885381937026978\n"
          ]
        },
        {
          "output_type": "stream",
          "name": "stderr",
          "text": [
            " 91%|█████████▏| 357/391 [00:05<00:00, 67.35it/s]"
          ]
        },
        {
          "output_type": "stream",
          "name": "stdout",
          "text": [
            "Iteration: 350, mean loss: 1.7705665826797485, train_accuracy:0.6891248226165771\n"
          ]
        },
        {
          "output_type": "stream",
          "name": "stderr",
          "text": [
            "100%|██████████| 391/391 [00:06<00:00, 64.99it/s]\n",
            "100%|██████████| 79/79 [00:01<00:00, 78.41it/s]\n"
          ]
        },
        {
          "output_type": "stream",
          "name": "stdout",
          "text": [
            "Val Metrics: val loss: tensor(1.8196) val accuracy: tensor(0.6429)\n"
          ]
        },
        {
          "output_type": "stream",
          "name": "stderr",
          "text": [
            "  2%|▏         | 7/391 [00:00<00:05, 64.91it/s]"
          ]
        },
        {
          "output_type": "stream",
          "name": "stdout",
          "text": [
            "Iteration: 0, mean loss: 1.6774580478668213, train_accuracy:0.8046875\n"
          ]
        },
        {
          "output_type": "stream",
          "name": "stderr",
          "text": [
            " 16%|█▌        | 63/391 [00:00<00:04, 65.95it/s]"
          ]
        },
        {
          "output_type": "stream",
          "name": "stdout",
          "text": [
            "Iteration: 50, mean loss: 1.7627469301223755, train_accuracy:0.7029718160629272\n"
          ]
        },
        {
          "output_type": "stream",
          "name": "stderr",
          "text": [
            " 29%|██▊       | 112/391 [00:01<00:04, 65.21it/s]"
          ]
        },
        {
          "output_type": "stream",
          "name": "stdout",
          "text": [
            "Iteration: 100, mean loss: 1.773783564567566, train_accuracy:0.6951578259468079\n"
          ]
        },
        {
          "output_type": "stream",
          "name": "stderr",
          "text": [
            " 41%|████      | 161/391 [00:02<00:03, 67.97it/s]"
          ]
        },
        {
          "output_type": "stream",
          "name": "stdout",
          "text": [
            "Iteration: 150, mean loss: 1.7736616134643555, train_accuracy:0.6934499144554138\n"
          ]
        },
        {
          "output_type": "stream",
          "name": "stderr",
          "text": [
            " 53%|█████▎    | 207/391 [00:03<00:03, 51.68it/s]"
          ]
        },
        {
          "output_type": "stream",
          "name": "stdout",
          "text": [
            "Iteration: 200, mean loss: 1.7742434740066528, train_accuracy:0.6916589140892029\n"
          ]
        },
        {
          "output_type": "stream",
          "name": "stderr",
          "text": [
            " 65%|██████▌   | 255/391 [00:04<00:02, 50.40it/s]"
          ]
        },
        {
          "output_type": "stream",
          "name": "stdout",
          "text": [
            "Iteration: 250, mean loss: 1.7641483545303345, train_accuracy:0.6929469704627991\n"
          ]
        },
        {
          "output_type": "stream",
          "name": "stderr",
          "text": [
            " 80%|████████  | 313/391 [00:05<00:01, 59.80it/s]"
          ]
        },
        {
          "output_type": "stream",
          "name": "stdout",
          "text": [
            "Iteration: 300, mean loss: 1.7825785875320435, train_accuracy:0.6904588937759399\n"
          ]
        },
        {
          "output_type": "stream",
          "name": "stderr",
          "text": [
            " 93%|█████████▎| 362/391 [00:06<00:00, 66.00it/s]"
          ]
        },
        {
          "output_type": "stream",
          "name": "stdout",
          "text": [
            "Iteration: 350, mean loss: 1.7648121118545532, train_accuracy:0.6916844844818115\n"
          ]
        },
        {
          "output_type": "stream",
          "name": "stderr",
          "text": [
            "100%|██████████| 391/391 [00:06<00:00, 59.61it/s]\n",
            "100%|██████████| 79/79 [00:01<00:00, 77.23it/s]\n"
          ]
        },
        {
          "output_type": "stream",
          "name": "stdout",
          "text": [
            "Val Metrics: val loss: tensor(1.8109) val accuracy: tensor(0.6524)\n"
          ]
        },
        {
          "output_type": "stream",
          "name": "stderr",
          "text": [
            "  2%|▏         | 7/391 [00:00<00:05, 66.32it/s]"
          ]
        },
        {
          "output_type": "stream",
          "name": "stdout",
          "text": [
            "Iteration: 0, mean loss: 1.6598707437515259, train_accuracy:0.796875\n"
          ]
        },
        {
          "output_type": "stream",
          "name": "stderr",
          "text": [
            " 16%|█▌        | 63/391 [00:00<00:04, 67.58it/s]"
          ]
        },
        {
          "output_type": "stream",
          "name": "stdout",
          "text": [
            "Iteration: 50, mean loss: 1.7656409740447998, train_accuracy:0.6991421580314636\n"
          ]
        },
        {
          "output_type": "stream",
          "name": "stderr",
          "text": [
            " 29%|██▊       | 112/391 [00:01<00:04, 66.52it/s]"
          ]
        },
        {
          "output_type": "stream",
          "name": "stdout",
          "text": [
            "Iteration: 100, mean loss: 1.7738484144210815, train_accuracy:0.6936880946159363\n"
          ]
        },
        {
          "output_type": "stream",
          "name": "stderr",
          "text": [
            " 41%|████      | 161/391 [00:02<00:03, 64.07it/s]"
          ]
        },
        {
          "output_type": "stream",
          "name": "stdout",
          "text": [
            "Iteration: 150, mean loss: 1.7627227306365967, train_accuracy:0.6959333419799805\n"
          ]
        },
        {
          "output_type": "stream",
          "name": "stderr",
          "text": [
            " 54%|█████▎    | 210/391 [00:03<00:02, 67.07it/s]"
          ]
        },
        {
          "output_type": "stream",
          "name": "stdout",
          "text": [
            "Iteration: 200, mean loss: 1.7671289443969727, train_accuracy:0.6956623196601868\n"
          ]
        },
        {
          "output_type": "stream",
          "name": "stderr",
          "text": [
            " 66%|██████▌   | 259/391 [00:03<00:01, 67.44it/s]"
          ]
        },
        {
          "output_type": "stream",
          "name": "stdout",
          "text": [
            "Iteration: 250, mean loss: 1.760093092918396, train_accuracy:0.6970555186271667\n"
          ]
        },
        {
          "output_type": "stream",
          "name": "stderr",
          "text": [
            " 79%|███████▉  | 308/391 [00:04<00:01, 66.43it/s]"
          ]
        },
        {
          "output_type": "stream",
          "name": "stdout",
          "text": [
            "Iteration: 300, mean loss: 1.7816067934036255, train_accuracy:0.6940666437149048\n"
          ]
        },
        {
          "output_type": "stream",
          "name": "stderr",
          "text": [
            " 91%|█████████▏| 357/391 [00:05<00:00, 66.28it/s]"
          ]
        },
        {
          "output_type": "stream",
          "name": "stdout",
          "text": [
            "Iteration: 350, mean loss: 1.7730516195297241, train_accuracy:0.6933315396308899\n"
          ]
        },
        {
          "output_type": "stream",
          "name": "stderr",
          "text": [
            "100%|██████████| 391/391 [00:05<00:00, 66.01it/s]\n",
            "100%|██████████| 79/79 [00:01<00:00, 78.15it/s]\n"
          ]
        },
        {
          "output_type": "stream",
          "name": "stdout",
          "text": [
            "Val Metrics: val loss: tensor(1.8206) val accuracy: tensor(0.6400)\n"
          ]
        },
        {
          "output_type": "stream",
          "name": "stderr",
          "text": [
            "  2%|▏         | 7/391 [00:00<00:05, 64.72it/s]"
          ]
        },
        {
          "output_type": "stream",
          "name": "stdout",
          "text": [
            "Iteration: 0, mean loss: 1.6919100284576416, train_accuracy:0.78125\n"
          ]
        },
        {
          "output_type": "stream",
          "name": "stderr",
          "text": [
            " 15%|█▌        | 60/391 [00:01<00:06, 51.77it/s]"
          ]
        },
        {
          "output_type": "stream",
          "name": "stdout",
          "text": [
            "Iteration: 50, mean loss: 1.7611451148986816, train_accuracy:0.7026654481887817\n"
          ]
        },
        {
          "output_type": "stream",
          "name": "stderr",
          "text": [
            " 28%|██▊       | 108/391 [00:02<00:05, 49.26it/s]"
          ]
        },
        {
          "output_type": "stream",
          "name": "stdout",
          "text": [
            "Iteration: 100, mean loss: 1.7729686498641968, train_accuracy:0.6961633563041687\n"
          ]
        },
        {
          "output_type": "stream",
          "name": "stderr",
          "text": [
            " 41%|████      | 161/391 [00:03<00:03, 58.00it/s]"
          ]
        },
        {
          "output_type": "stream",
          "name": "stdout",
          "text": [
            "Iteration: 150, mean loss: 1.7647814750671387, train_accuracy:0.6960368156433105\n"
          ]
        },
        {
          "output_type": "stream",
          "name": "stderr",
          "text": [
            " 54%|█████▎    | 210/391 [00:03<00:02, 63.96it/s]"
          ]
        },
        {
          "output_type": "stream",
          "name": "stdout",
          "text": [
            "Iteration: 200, mean loss: 1.7697581052780151, train_accuracy:0.6947295069694519\n"
          ]
        },
        {
          "output_type": "stream",
          "name": "stderr",
          "text": [
            " 66%|██████▌   | 259/391 [00:04<00:01, 67.04it/s]"
          ]
        },
        {
          "output_type": "stream",
          "name": "stdout",
          "text": [
            "Iteration: 250, mean loss: 1.7634395360946655, train_accuracy:0.6951568722724915\n"
          ]
        },
        {
          "output_type": "stream",
          "name": "stderr",
          "text": [
            " 79%|███████▉  | 308/391 [00:05<00:01, 67.16it/s]"
          ]
        },
        {
          "output_type": "stream",
          "name": "stdout",
          "text": [
            "Iteration: 300, mean loss: 1.7781373262405396, train_accuracy:0.693002462387085\n"
          ]
        },
        {
          "output_type": "stream",
          "name": "stderr",
          "text": [
            " 93%|█████████▎| 364/391 [00:06<00:00, 65.22it/s]"
          ]
        },
        {
          "output_type": "stream",
          "name": "stdout",
          "text": [
            "Iteration: 350, mean loss: 1.7707666158676147, train_accuracy:0.6930644512176514\n"
          ]
        },
        {
          "output_type": "stream",
          "name": "stderr",
          "text": [
            "100%|██████████| 391/391 [00:06<00:00, 59.49it/s]\n",
            "100%|██████████| 79/79 [00:01<00:00, 78.99it/s]\n"
          ]
        },
        {
          "output_type": "stream",
          "name": "stdout",
          "text": [
            "Val Metrics: val loss: tensor(1.8163) val accuracy: tensor(0.6459)\n"
          ]
        },
        {
          "output_type": "stream",
          "name": "stderr",
          "text": [
            "  2%|▏         | 7/391 [00:00<00:06, 63.25it/s]"
          ]
        },
        {
          "output_type": "stream",
          "name": "stdout",
          "text": [
            "Iteration: 0, mean loss: 1.664710283279419, train_accuracy:0.796875\n"
          ]
        },
        {
          "output_type": "stream",
          "name": "stderr",
          "text": [
            " 16%|█▌        | 63/391 [00:00<00:04, 65.90it/s]"
          ]
        },
        {
          "output_type": "stream",
          "name": "stdout",
          "text": [
            "Iteration: 50, mean loss: 1.761816382408142, train_accuracy:0.7020527124404907\n"
          ]
        },
        {
          "output_type": "stream",
          "name": "stderr",
          "text": [
            " 29%|██▊       | 112/391 [00:01<00:04, 66.70it/s]"
          ]
        },
        {
          "output_type": "stream",
          "name": "stdout",
          "text": [
            "Iteration: 100, mean loss: 1.7761825323104858, train_accuracy:0.695003092288971\n"
          ]
        },
        {
          "output_type": "stream",
          "name": "stderr",
          "text": [
            " 41%|████      | 161/391 [00:02<00:03, 64.68it/s]"
          ]
        },
        {
          "output_type": "stream",
          "name": "stdout",
          "text": [
            "Iteration: 150, mean loss: 1.7691161632537842, train_accuracy:0.6938638091087341\n"
          ]
        },
        {
          "output_type": "stream",
          "name": "stderr",
          "text": [
            " 54%|█████▎    | 210/391 [00:03<00:02, 67.04it/s]"
          ]
        },
        {
          "output_type": "stream",
          "name": "stdout",
          "text": [
            "Iteration: 200, mean loss: 1.7677013874053955, train_accuracy:0.6937189102172852\n"
          ]
        },
        {
          "output_type": "stream",
          "name": "stderr",
          "text": [
            " 66%|██████▌   | 259/391 [00:03<00:01, 66.20it/s]"
          ]
        },
        {
          "output_type": "stream",
          "name": "stdout",
          "text": [
            "Iteration: 250, mean loss: 1.752924919128418, train_accuracy:0.6971800327301025\n"
          ]
        },
        {
          "output_type": "stream",
          "name": "stderr",
          "text": [
            " 79%|███████▉  | 308/391 [00:04<00:01, 66.44it/s]"
          ]
        },
        {
          "output_type": "stream",
          "name": "stdout",
          "text": [
            "Iteration: 300, mean loss: 1.7709112167358398, train_accuracy:0.6962209343910217\n"
          ]
        },
        {
          "output_type": "stream",
          "name": "stderr",
          "text": [
            " 92%|█████████▏| 361/391 [00:05<00:00, 51.35it/s]"
          ]
        },
        {
          "output_type": "stream",
          "name": "stdout",
          "text": [
            "Iteration: 350, mean loss: 1.766996145248413, train_accuracy:0.6961582899093628\n"
          ]
        },
        {
          "output_type": "stream",
          "name": "stderr",
          "text": [
            "100%|██████████| 391/391 [00:06<00:00, 62.47it/s]\n",
            "100%|██████████| 79/79 [00:01<00:00, 56.56it/s]\n"
          ]
        },
        {
          "output_type": "stream",
          "name": "stdout",
          "text": [
            "Val Metrics: val loss: tensor(1.8138) val accuracy: tensor(0.6474)\n"
          ]
        },
        {
          "output_type": "stream",
          "name": "stderr",
          "text": [
            "  2%|▏         | 7/391 [00:00<00:05, 64.20it/s]"
          ]
        },
        {
          "output_type": "stream",
          "name": "stdout",
          "text": [
            "Iteration: 0, mean loss: 1.7072484493255615, train_accuracy:0.7421875\n"
          ]
        },
        {
          "output_type": "stream",
          "name": "stderr",
          "text": [
            " 16%|█▌        | 63/391 [00:00<00:04, 65.86it/s]"
          ]
        },
        {
          "output_type": "stream",
          "name": "stdout",
          "text": [
            "Iteration: 50, mean loss: 1.7557142972946167, train_accuracy:0.7068014740943909\n"
          ]
        },
        {
          "output_type": "stream",
          "name": "stderr",
          "text": [
            " 29%|██▊       | 112/391 [00:01<00:04, 67.52it/s]"
          ]
        },
        {
          "output_type": "stream",
          "name": "stdout",
          "text": [
            "Iteration: 100, mean loss: 1.7677016258239746, train_accuracy:0.7009591460227966\n"
          ]
        },
        {
          "output_type": "stream",
          "name": "stderr",
          "text": [
            " 41%|████      | 161/391 [00:02<00:03, 66.92it/s]"
          ]
        },
        {
          "output_type": "stream",
          "name": "stdout",
          "text": [
            "Iteration: 150, mean loss: 1.7605459690093994, train_accuracy:0.7009519934654236\n"
          ]
        },
        {
          "output_type": "stream",
          "name": "stderr",
          "text": [
            " 54%|█████▎    | 210/391 [00:03<00:02, 65.38it/s]"
          ]
        },
        {
          "output_type": "stream",
          "name": "stdout",
          "text": [
            "Iteration: 200, mean loss: 1.7629024982452393, train_accuracy:0.7004042267799377\n"
          ]
        },
        {
          "output_type": "stream",
          "name": "stderr",
          "text": [
            " 66%|██████▌   | 259/391 [00:03<00:01, 67.53it/s]"
          ]
        },
        {
          "output_type": "stream",
          "name": "stdout",
          "text": [
            "Iteration: 250, mean loss: 1.7494758367538452, train_accuracy:0.7025647163391113\n"
          ]
        },
        {
          "output_type": "stream",
          "name": "stderr",
          "text": [
            " 79%|███████▉  | 308/391 [00:04<00:01, 67.53it/s]"
          ]
        },
        {
          "output_type": "stream",
          "name": "stdout",
          "text": [
            "Iteration: 300, mean loss: 1.7701771259307861, train_accuracy:0.7010745406150818\n"
          ]
        },
        {
          "output_type": "stream",
          "name": "stderr",
          "text": [
            " 92%|█████████▏| 358/391 [00:05<00:00, 66.67it/s]"
          ]
        },
        {
          "output_type": "stream",
          "name": "stdout",
          "text": [
            "Iteration: 350, mean loss: 1.7592573165893555, train_accuracy:0.7012330889701843\n"
          ]
        },
        {
          "output_type": "stream",
          "name": "stderr",
          "text": [
            "100%|██████████| 391/391 [00:05<00:00, 66.71it/s]\n",
            "100%|██████████| 79/79 [00:01<00:00, 77.99it/s]\n"
          ]
        },
        {
          "output_type": "stream",
          "name": "stdout",
          "text": [
            "Val Metrics: val loss: tensor(1.8094) val accuracy: tensor(0.6525)\n"
          ]
        },
        {
          "output_type": "stream",
          "name": "stderr",
          "text": [
            "  2%|▏         | 7/391 [00:00<00:05, 64.06it/s]"
          ]
        },
        {
          "output_type": "stream",
          "name": "stdout",
          "text": [
            "Iteration: 0, mean loss: 1.6588331460952759, train_accuracy:0.8125\n"
          ]
        },
        {
          "output_type": "stream",
          "name": "stderr",
          "text": [
            " 16%|█▌        | 63/391 [00:00<00:04, 67.24it/s]"
          ]
        },
        {
          "output_type": "stream",
          "name": "stdout",
          "text": [
            "Iteration: 50, mean loss: 1.755286693572998, train_accuracy:0.7092524766921997\n"
          ]
        },
        {
          "output_type": "stream",
          "name": "stderr",
          "text": [
            " 29%|██▊       | 112/391 [00:01<00:04, 64.65it/s]"
          ]
        },
        {
          "output_type": "stream",
          "name": "stdout",
          "text": [
            "Iteration: 100, mean loss: 1.7597802877426147, train_accuracy:0.705522894859314\n"
          ]
        },
        {
          "output_type": "stream",
          "name": "stderr",
          "text": [
            " 41%|████      | 161/391 [00:02<00:03, 64.76it/s]"
          ]
        },
        {
          "output_type": "stream",
          "name": "stdout",
          "text": [
            "Iteration: 150, mean loss: 1.7532840967178345, train_accuracy:0.706436276435852\n"
          ]
        },
        {
          "output_type": "stream",
          "name": "stderr",
          "text": [
            " 53%|█████▎    | 208/391 [00:03<00:03, 50.94it/s]"
          ]
        },
        {
          "output_type": "stream",
          "name": "stdout",
          "text": [
            "Iteration: 200, mean loss: 1.7604072093963623, train_accuracy:0.70604008436203\n"
          ]
        },
        {
          "output_type": "stream",
          "name": "stderr",
          "text": [
            " 65%|██████▌   | 256/391 [00:04<00:02, 50.10it/s]"
          ]
        },
        {
          "output_type": "stream",
          "name": "stdout",
          "text": [
            "Iteration: 250, mean loss: 1.7434393167495728, train_accuracy:0.7085719704627991\n"
          ]
        },
        {
          "output_type": "stream",
          "name": "stderr",
          "text": [
            " 80%|████████  | 314/391 [00:05<00:01, 59.83it/s]"
          ]
        },
        {
          "output_type": "stream",
          "name": "stdout",
          "text": [
            "Iteration: 300, mean loss: 1.7648354768753052, train_accuracy:0.7067327499389648\n"
          ]
        },
        {
          "output_type": "stream",
          "name": "stderr",
          "text": [
            " 93%|█████████▎| 363/391 [00:06<00:00, 66.20it/s]"
          ]
        },
        {
          "output_type": "stream",
          "name": "stdout",
          "text": [
            "Iteration: 350, mean loss: 1.7588828802108765, train_accuracy:0.7063301205635071\n"
          ]
        },
        {
          "output_type": "stream",
          "name": "stderr",
          "text": [
            "100%|██████████| 391/391 [00:06<00:00, 59.34it/s]\n",
            "100%|██████████| 79/79 [00:01<00:00, 77.96it/s]\n"
          ]
        },
        {
          "output_type": "stream",
          "name": "stdout",
          "text": [
            "Val Metrics: val loss: tensor(1.8187) val accuracy: tensor(0.6411)\n"
          ]
        },
        {
          "output_type": "stream",
          "name": "stderr",
          "text": [
            "  2%|▏         | 7/391 [00:00<00:06, 63.47it/s]"
          ]
        },
        {
          "output_type": "stream",
          "name": "stdout",
          "text": [
            "Iteration: 0, mean loss: 1.6989740133285522, train_accuracy:0.7578125\n"
          ]
        },
        {
          "output_type": "stream",
          "name": "stderr",
          "text": [
            " 16%|█▌        | 63/391 [00:00<00:04, 65.68it/s]"
          ]
        },
        {
          "output_type": "stream",
          "name": "stdout",
          "text": [
            "Iteration: 50, mean loss: 1.7504229545593262, train_accuracy:0.7113970518112183\n"
          ]
        },
        {
          "output_type": "stream",
          "name": "stderr",
          "text": [
            " 29%|██▊       | 112/391 [00:01<00:04, 67.41it/s]"
          ]
        },
        {
          "output_type": "stream",
          "name": "stdout",
          "text": [
            "Iteration: 100, mean loss: 1.7556060552597046, train_accuracy:0.7091584205627441\n"
          ]
        },
        {
          "output_type": "stream",
          "name": "stderr",
          "text": [
            " 41%|████      | 161/391 [00:02<00:03, 67.14it/s]"
          ]
        },
        {
          "output_type": "stream",
          "name": "stdout",
          "text": [
            "Iteration: 150, mean loss: 1.7542446851730347, train_accuracy:0.7078331708908081\n"
          ]
        },
        {
          "output_type": "stream",
          "name": "stderr",
          "text": [
            " 54%|█████▎    | 210/391 [00:03<00:02, 65.37it/s]"
          ]
        },
        {
          "output_type": "stream",
          "name": "stdout",
          "text": [
            "Iteration: 200, mean loss: 1.7525802850723267, train_accuracy:0.7079446315765381\n"
          ]
        },
        {
          "output_type": "stream",
          "name": "stderr",
          "text": [
            " 66%|██████▌   | 259/391 [00:03<00:01, 67.70it/s]"
          ]
        },
        {
          "output_type": "stream",
          "name": "stdout",
          "text": [
            "Iteration: 250, mean loss: 1.7473148107528687, train_accuracy:0.709318995475769\n"
          ]
        },
        {
          "output_type": "stream",
          "name": "stderr",
          "text": [
            " 79%|███████▉  | 308/391 [00:04<00:01, 66.45it/s]"
          ]
        },
        {
          "output_type": "stream",
          "name": "stdout",
          "text": [
            "Iteration: 300, mean loss: 1.759427785873413, train_accuracy:0.7088351249694824\n"
          ]
        },
        {
          "output_type": "stream",
          "name": "stderr",
          "text": [
            " 93%|█████████▎| 364/391 [00:05<00:00, 66.01it/s]"
          ]
        },
        {
          "output_type": "stream",
          "name": "stdout",
          "text": [
            "Iteration: 350, mean loss: 1.758254885673523, train_accuracy:0.70826655626297\n"
          ]
        },
        {
          "output_type": "stream",
          "name": "stderr",
          "text": [
            "100%|██████████| 391/391 [00:05<00:00, 66.11it/s]\n",
            "100%|██████████| 79/79 [00:01<00:00, 77.97it/s]\n"
          ]
        },
        {
          "output_type": "stream",
          "name": "stdout",
          "text": [
            "Val Metrics: val loss: tensor(1.8203) val accuracy: tensor(0.6395)\n"
          ]
        },
        {
          "output_type": "stream",
          "name": "stderr",
          "text": [
            "  2%|▏         | 7/391 [00:00<00:06, 62.62it/s]"
          ]
        },
        {
          "output_type": "stream",
          "name": "stdout",
          "text": [
            "Iteration: 0, mean loss: 1.6857781410217285, train_accuracy:0.78125\n"
          ]
        },
        {
          "output_type": "stream",
          "name": "stderr",
          "text": [
            " 15%|█▌        | 59/391 [00:01<00:06, 51.83it/s]"
          ]
        },
        {
          "output_type": "stream",
          "name": "stdout",
          "text": [
            "Iteration: 50, mean loss: 1.7517777681350708, train_accuracy:0.7138480544090271\n"
          ]
        },
        {
          "output_type": "stream",
          "name": "stderr",
          "text": [
            " 27%|██▋       | 106/391 [00:02<00:05, 48.41it/s]"
          ]
        },
        {
          "output_type": "stream",
          "name": "stdout",
          "text": [
            "Iteration: 100, mean loss: 1.749226689338684, train_accuracy:0.7148824334144592\n"
          ]
        },
        {
          "output_type": "stream",
          "name": "stderr",
          "text": [
            " 42%|████▏     | 163/391 [00:03<00:03, 57.64it/s]"
          ]
        },
        {
          "output_type": "stream",
          "name": "stdout",
          "text": [
            "Iteration: 150, mean loss: 1.7489629983901978, train_accuracy:0.7143005132675171\n"
          ]
        },
        {
          "output_type": "stream",
          "name": "stderr",
          "text": [
            " 54%|█████▍    | 212/391 [00:03<00:02, 65.91it/s]"
          ]
        },
        {
          "output_type": "stream",
          "name": "stdout",
          "text": [
            "Iteration: 200, mean loss: 1.7536635398864746, train_accuracy:0.712764322757721\n"
          ]
        },
        {
          "output_type": "stream",
          "name": "stderr",
          "text": [
            " 67%|██████▋   | 261/391 [00:04<00:01, 65.03it/s]"
          ]
        },
        {
          "output_type": "stream",
          "name": "stdout",
          "text": [
            "Iteration: 250, mean loss: 1.7496426105499268, train_accuracy:0.7128984332084656\n"
          ]
        },
        {
          "output_type": "stream",
          "name": "stderr",
          "text": [
            " 79%|███████▉  | 310/391 [00:05<00:01, 66.61it/s]"
          ]
        },
        {
          "output_type": "stream",
          "name": "stdout",
          "text": [
            "Iteration: 300, mean loss: 1.7609280347824097, train_accuracy:0.7108596563339233\n"
          ]
        },
        {
          "output_type": "stream",
          "name": "stderr",
          "text": [
            " 92%|█████████▏| 359/391 [00:06<00:00, 66.99it/s]"
          ]
        },
        {
          "output_type": "stream",
          "name": "stdout",
          "text": [
            "Iteration: 350, mean loss: 1.7535667419433594, train_accuracy:0.7106704115867615\n"
          ]
        },
        {
          "output_type": "stream",
          "name": "stderr",
          "text": [
            "100%|██████████| 391/391 [00:06<00:00, 59.30it/s]\n",
            "100%|██████████| 79/79 [00:01<00:00, 77.01it/s]\n"
          ]
        },
        {
          "output_type": "stream",
          "name": "stdout",
          "text": [
            "Val Metrics: val loss: tensor(1.8040) val accuracy: tensor(0.6584)\n"
          ]
        },
        {
          "output_type": "stream",
          "name": "stderr",
          "text": [
            "  2%|▏         | 7/391 [00:00<00:06, 62.30it/s]"
          ]
        },
        {
          "output_type": "stream",
          "name": "stdout",
          "text": [
            "Iteration: 0, mean loss: 1.68746018409729, train_accuracy:0.78125\n"
          ]
        },
        {
          "output_type": "stream",
          "name": "stderr",
          "text": [
            " 16%|█▌        | 63/391 [00:00<00:05, 64.11it/s]"
          ]
        },
        {
          "output_type": "stream",
          "name": "stdout",
          "text": [
            "Iteration: 50, mean loss: 1.746016263961792, train_accuracy:0.7178308963775635\n"
          ]
        },
        {
          "output_type": "stream",
          "name": "stderr",
          "text": [
            " 29%|██▊       | 112/391 [00:01<00:04, 67.31it/s]"
          ]
        },
        {
          "output_type": "stream",
          "name": "stdout",
          "text": [
            "Iteration: 100, mean loss: 1.7577100992202759, train_accuracy:0.7117109894752502\n"
          ]
        },
        {
          "output_type": "stream",
          "name": "stderr",
          "text": [
            " 41%|████      | 161/391 [00:02<00:03, 66.15it/s]"
          ]
        },
        {
          "output_type": "stream",
          "name": "stdout",
          "text": [
            "Iteration: 150, mean loss: 1.7519164085388184, train_accuracy:0.7114031314849854\n"
          ]
        },
        {
          "output_type": "stream",
          "name": "stderr",
          "text": [
            " 54%|█████▎    | 210/391 [00:03<00:02, 63.62it/s]"
          ]
        },
        {
          "output_type": "stream",
          "name": "stdout",
          "text": [
            "Iteration: 200, mean loss: 1.7495793104171753, train_accuracy:0.7115594148635864\n"
          ]
        },
        {
          "output_type": "stream",
          "name": "stderr",
          "text": [
            " 66%|██████▌   | 259/391 [00:03<00:01, 67.03it/s]"
          ]
        },
        {
          "output_type": "stream",
          "name": "stdout",
          "text": [
            "Iteration: 250, mean loss: 1.7411271333694458, train_accuracy:0.7135831713676453\n"
          ]
        },
        {
          "output_type": "stream",
          "name": "stderr",
          "text": [
            " 79%|███████▉  | 308/391 [00:04<00:01, 67.14it/s]"
          ]
        },
        {
          "output_type": "stream",
          "name": "stdout",
          "text": [
            "Iteration: 300, mean loss: 1.7616157531738281, train_accuracy:0.7115085124969482\n"
          ]
        },
        {
          "output_type": "stream",
          "name": "stderr",
          "text": [
            " 91%|█████████ | 355/391 [00:05<00:00, 49.61it/s]"
          ]
        },
        {
          "output_type": "stream",
          "name": "stdout",
          "text": [
            "Iteration: 350, mean loss: 1.751800537109375, train_accuracy:0.7114049196243286\n"
          ]
        },
        {
          "output_type": "stream",
          "name": "stderr",
          "text": [
            "100%|██████████| 391/391 [00:06<00:00, 62.62it/s]\n",
            "100%|██████████| 79/79 [00:01<00:00, 57.32it/s]\n"
          ]
        },
        {
          "output_type": "stream",
          "name": "stdout",
          "text": [
            "Val Metrics: val loss: tensor(1.8124) val accuracy: tensor(0.6497)\n"
          ]
        },
        {
          "output_type": "stream",
          "name": "stderr",
          "text": [
            "  2%|▏         | 7/391 [00:00<00:05, 65.78it/s]"
          ]
        },
        {
          "output_type": "stream",
          "name": "stdout",
          "text": [
            "Iteration: 0, mean loss: 1.6604816913604736, train_accuracy:0.8046875\n"
          ]
        },
        {
          "output_type": "stream",
          "name": "stderr",
          "text": [
            " 16%|█▌        | 63/391 [00:00<00:04, 67.27it/s]"
          ]
        },
        {
          "output_type": "stream",
          "name": "stdout",
          "text": [
            "Iteration: 50, mean loss: 1.750870704650879, train_accuracy:0.7124693393707275\n"
          ]
        },
        {
          "output_type": "stream",
          "name": "stderr",
          "text": [
            " 29%|██▊       | 112/391 [00:01<00:04, 63.68it/s]"
          ]
        },
        {
          "output_type": "stream",
          "name": "stdout",
          "text": [
            "Iteration: 100, mean loss: 1.7523980140686035, train_accuracy:0.7114789485931396\n"
          ]
        },
        {
          "output_type": "stream",
          "name": "stderr",
          "text": [
            " 41%|████      | 161/391 [00:02<00:03, 64.99it/s]"
          ]
        },
        {
          "output_type": "stream",
          "name": "stdout",
          "text": [
            "Iteration: 150, mean loss: 1.750795841217041, train_accuracy:0.7114548683166504\n"
          ]
        },
        {
          "output_type": "stream",
          "name": "stderr",
          "text": [
            " 54%|█████▎    | 210/391 [00:03<00:02, 66.57it/s]"
          ]
        },
        {
          "output_type": "stream",
          "name": "stdout",
          "text": [
            "Iteration: 200, mean loss: 1.7519230842590332, train_accuracy:0.7110929489135742\n"
          ]
        },
        {
          "output_type": "stream",
          "name": "stderr",
          "text": [
            " 66%|██████▌   | 259/391 [00:03<00:02, 65.70it/s]"
          ]
        },
        {
          "output_type": "stream",
          "name": "stdout",
          "text": [
            "Iteration: 250, mean loss: 1.736845850944519, train_accuracy:0.7137387990951538\n"
          ]
        },
        {
          "output_type": "stream",
          "name": "stderr",
          "text": [
            " 79%|███████▉  | 308/391 [00:04<00:01, 67.80it/s]"
          ]
        },
        {
          "output_type": "stream",
          "name": "stdout",
          "text": [
            "Iteration: 300, mean loss: 1.7534698247909546, train_accuracy:0.7129101157188416\n"
          ]
        },
        {
          "output_type": "stream",
          "name": "stderr",
          "text": [
            " 93%|█████████▎| 364/391 [00:05<00:00, 67.72it/s]"
          ]
        },
        {
          "output_type": "stream",
          "name": "stdout",
          "text": [
            "Iteration: 350, mean loss: 1.7484086751937866, train_accuracy:0.7133190631866455\n"
          ]
        },
        {
          "output_type": "stream",
          "name": "stderr",
          "text": [
            "100%|██████████| 391/391 [00:05<00:00, 66.06it/s]\n",
            "100%|██████████| 79/79 [00:01<00:00, 78.49it/s]\n"
          ]
        },
        {
          "output_type": "stream",
          "name": "stdout",
          "text": [
            "Val Metrics: val loss: tensor(1.8111) val accuracy: tensor(0.6489)\n"
          ]
        },
        {
          "output_type": "stream",
          "name": "stderr",
          "text": [
            "  2%|▏         | 7/391 [00:00<00:05, 65.71it/s]"
          ]
        },
        {
          "output_type": "stream",
          "name": "stdout",
          "text": [
            "Iteration: 0, mean loss: 1.684268593788147, train_accuracy:0.7890625\n"
          ]
        },
        {
          "output_type": "stream",
          "name": "stderr",
          "text": [
            " 16%|█▌        | 63/391 [00:00<00:05, 65.01it/s]"
          ]
        },
        {
          "output_type": "stream",
          "name": "stdout",
          "text": [
            "Iteration: 50, mean loss: 1.7363934516906738, train_accuracy:0.7276347875595093\n"
          ]
        },
        {
          "output_type": "stream",
          "name": "stderr",
          "text": [
            " 29%|██▊       | 112/391 [00:01<00:04, 67.33it/s]"
          ]
        },
        {
          "output_type": "stream",
          "name": "stdout",
          "text": [
            "Iteration: 100, mean loss: 1.747117280960083, train_accuracy:0.721147894859314\n"
          ]
        },
        {
          "output_type": "stream",
          "name": "stderr",
          "text": [
            " 41%|████      | 161/391 [00:02<00:03, 66.41it/s]"
          ]
        },
        {
          "output_type": "stream",
          "name": "stdout",
          "text": [
            "Iteration: 150, mean loss: 1.7429323196411133, train_accuracy:0.720353901386261\n"
          ]
        },
        {
          "output_type": "stream",
          "name": "stderr",
          "text": [
            " 53%|█████▎    | 207/391 [00:03<00:03, 50.75it/s]"
          ]
        },
        {
          "output_type": "stream",
          "name": "stdout",
          "text": [
            "Iteration: 200, mean loss: 1.7435096502304077, train_accuracy:0.7199937701225281\n"
          ]
        },
        {
          "output_type": "stream",
          "name": "stderr",
          "text": [
            " 66%|██████▌   | 259/391 [00:04<00:02, 46.80it/s]"
          ]
        },
        {
          "output_type": "stream",
          "name": "stdout",
          "text": [
            "Iteration: 250, mean loss: 1.7336094379425049, train_accuracy:0.7218936681747437\n"
          ]
        },
        {
          "output_type": "stream",
          "name": "stderr",
          "text": [
            " 80%|███████▉  | 311/391 [00:05<00:01, 60.04it/s]"
          ]
        },
        {
          "output_type": "stream",
          "name": "stdout",
          "text": [
            "Iteration: 300, mean loss: 1.7542519569396973, train_accuracy:0.7193210124969482\n"
          ]
        },
        {
          "output_type": "stream",
          "name": "stderr",
          "text": [
            " 92%|█████████▏| 360/391 [00:06<00:00, 65.34it/s]"
          ]
        },
        {
          "output_type": "stream",
          "name": "stdout",
          "text": [
            "Iteration: 350, mean loss: 1.7426012754440308, train_accuracy:0.7195512652397156\n"
          ]
        },
        {
          "output_type": "stream",
          "name": "stderr",
          "text": [
            "100%|██████████| 391/391 [00:06<00:00, 59.58it/s]\n",
            "100%|██████████| 79/79 [00:01<00:00, 71.20it/s]\n"
          ]
        },
        {
          "output_type": "stream",
          "name": "stdout",
          "text": [
            "Val Metrics: val loss: tensor(1.8128) val accuracy: tensor(0.6483)\n"
          ]
        },
        {
          "output_type": "stream",
          "name": "stderr",
          "text": [
            "  2%|▏         | 6/391 [00:00<00:06, 59.93it/s]"
          ]
        },
        {
          "output_type": "stream",
          "name": "stdout",
          "text": [
            "Iteration: 0, mean loss: 1.6956278085708618, train_accuracy:0.765625\n"
          ]
        },
        {
          "output_type": "stream",
          "name": "stderr",
          "text": [
            " 16%|█▌        | 62/391 [00:00<00:04, 66.39it/s]"
          ]
        },
        {
          "output_type": "stream",
          "name": "stdout",
          "text": [
            "Iteration: 50, mean loss: 1.7451077699661255, train_accuracy:0.7182904481887817\n"
          ]
        },
        {
          "output_type": "stream",
          "name": "stderr",
          "text": [
            " 28%|██▊       | 111/391 [00:01<00:04, 65.47it/s]"
          ]
        },
        {
          "output_type": "stream",
          "name": "stdout",
          "text": [
            "Iteration: 100, mean loss: 1.7435922622680664, train_accuracy:0.71875\n"
          ]
        },
        {
          "output_type": "stream",
          "name": "stderr",
          "text": [
            " 41%|████      | 160/391 [00:02<00:03, 67.03it/s]"
          ]
        },
        {
          "output_type": "stream",
          "name": "stdout",
          "text": [
            "Iteration: 150, mean loss: 1.7425150871276855, train_accuracy:0.7192673683166504\n"
          ]
        },
        {
          "output_type": "stream",
          "name": "stderr",
          "text": [
            " 53%|█████▎    | 209/391 [00:03<00:02, 67.16it/s]"
          ]
        },
        {
          "output_type": "stream",
          "name": "stdout",
          "text": [
            "Iteration: 200, mean loss: 1.7481096982955933, train_accuracy:0.7184001803398132\n"
          ]
        },
        {
          "output_type": "stream",
          "name": "stderr",
          "text": [
            " 66%|██████▌   | 259/391 [00:03<00:02, 64.82it/s]"
          ]
        },
        {
          "output_type": "stream",
          "name": "stdout",
          "text": [
            "Iteration: 250, mean loss: 1.7293798923492432, train_accuracy:0.7213022708892822\n"
          ]
        },
        {
          "output_type": "stream",
          "name": "stderr",
          "text": [
            " 79%|███████▉  | 308/391 [00:04<00:01, 64.66it/s]"
          ]
        },
        {
          "output_type": "stream",
          "name": "stdout",
          "text": [
            "Iteration: 300, mean loss: 1.7506252527236938, train_accuracy:0.7197622656822205\n"
          ]
        },
        {
          "output_type": "stream",
          "name": "stderr",
          "text": [
            " 93%|█████████▎| 364/391 [00:05<00:00, 66.69it/s]"
          ]
        },
        {
          "output_type": "stream",
          "name": "stdout",
          "text": [
            "Iteration: 350, mean loss: 1.7437657117843628, train_accuracy:0.7196625471115112\n"
          ]
        },
        {
          "output_type": "stream",
          "name": "stderr",
          "text": [
            "100%|██████████| 391/391 [00:05<00:00, 65.77it/s]\n",
            "100%|██████████| 79/79 [00:01<00:00, 78.89it/s]\n"
          ]
        },
        {
          "output_type": "stream",
          "name": "stdout",
          "text": [
            "Val Metrics: val loss: tensor(1.8077) val accuracy: tensor(0.6532)\n"
          ]
        },
        {
          "output_type": "stream",
          "name": "stderr",
          "text": [
            "  2%|▏         | 7/391 [00:00<00:06, 62.46it/s]"
          ]
        },
        {
          "output_type": "stream",
          "name": "stdout",
          "text": [
            "Iteration: 0, mean loss: 1.6711738109588623, train_accuracy:0.796875\n"
          ]
        },
        {
          "output_type": "stream",
          "name": "stderr",
          "text": [
            " 15%|█▍        | 58/391 [00:01<00:06, 50.77it/s]"
          ]
        },
        {
          "output_type": "stream",
          "name": "stdout",
          "text": [
            "Iteration: 50, mean loss: 1.7357149124145508, train_accuracy:0.728400707244873\n"
          ]
        },
        {
          "output_type": "stream",
          "name": "stderr",
          "text": [
            " 28%|██▊       | 108/391 [00:02<00:05, 47.19it/s]"
          ]
        },
        {
          "output_type": "stream",
          "name": "stdout",
          "text": [
            "Iteration: 100, mean loss: 1.7452586889266968, train_accuracy:0.7237005233764648\n"
          ]
        },
        {
          "output_type": "stream",
          "name": "stderr",
          "text": [
            " 42%|████▏     | 164/391 [00:03<00:03, 61.20it/s]"
          ]
        },
        {
          "output_type": "stream",
          "name": "stdout",
          "text": [
            "Iteration: 150, mean loss: 1.743666410446167, train_accuracy:0.7219060659408569\n"
          ]
        },
        {
          "output_type": "stream",
          "name": "stderr",
          "text": [
            " 55%|█████▍    | 214/391 [00:03<00:02, 67.19it/s]"
          ]
        },
        {
          "output_type": "stream",
          "name": "stdout",
          "text": [
            "Iteration: 200, mean loss: 1.7497076988220215, train_accuracy:0.7189443111419678\n"
          ]
        },
        {
          "output_type": "stream",
          "name": "stderr",
          "text": [
            " 67%|██████▋   | 263/391 [00:04<00:01, 67.66it/s]"
          ]
        },
        {
          "output_type": "stream",
          "name": "stdout",
          "text": [
            "Iteration: 250, mean loss: 1.7292931079864502, train_accuracy:0.7220492959022522\n"
          ]
        },
        {
          "output_type": "stream",
          "name": "stderr",
          "text": [
            " 80%|███████▉  | 312/391 [00:05<00:01, 66.76it/s]"
          ]
        },
        {
          "output_type": "stream",
          "name": "stdout",
          "text": [
            "Iteration: 300, mean loss: 1.7441248893737793, train_accuracy:0.7213714718818665\n"
          ]
        },
        {
          "output_type": "stream",
          "name": "stderr",
          "text": [
            " 93%|█████████▎| 362/391 [00:06<00:00, 65.12it/s]"
          ]
        },
        {
          "output_type": "stream",
          "name": "stdout",
          "text": [
            "Iteration: 350, mean loss: 1.740937352180481, train_accuracy:0.7214431762695312\n"
          ]
        },
        {
          "output_type": "stream",
          "name": "stderr",
          "text": [
            "100%|██████████| 391/391 [00:06<00:00, 59.84it/s]\n",
            "100%|██████████| 79/79 [00:01<00:00, 77.36it/s]\n"
          ]
        },
        {
          "output_type": "stream",
          "name": "stdout",
          "text": [
            "Val Metrics: val loss: tensor(1.8132) val accuracy: tensor(0.6507)\n"
          ]
        },
        {
          "output_type": "stream",
          "name": "stderr",
          "text": [
            "  2%|▏         | 7/391 [00:00<00:05, 64.38it/s]"
          ]
        },
        {
          "output_type": "stream",
          "name": "stdout",
          "text": [
            "Iteration: 0, mean loss: 1.6488454341888428, train_accuracy:0.8125\n"
          ]
        },
        {
          "output_type": "stream",
          "name": "stderr",
          "text": [
            " 16%|█▌        | 63/391 [00:00<00:04, 66.89it/s]"
          ]
        },
        {
          "output_type": "stream",
          "name": "stdout",
          "text": [
            "Iteration: 50, mean loss: 1.7361961603164673, train_accuracy:0.7296262383460999\n"
          ]
        },
        {
          "output_type": "stream",
          "name": "stderr",
          "text": [
            " 29%|██▊       | 112/391 [00:01<00:04, 65.34it/s]"
          ]
        },
        {
          "output_type": "stream",
          "name": "stdout",
          "text": [
            "Iteration: 100, mean loss: 1.7427173852920532, train_accuracy:0.723855197429657\n"
          ]
        },
        {
          "output_type": "stream",
          "name": "stderr",
          "text": [
            " 41%|████      | 161/391 [00:02<00:03, 67.30it/s]"
          ]
        },
        {
          "output_type": "stream",
          "name": "stdout",
          "text": [
            "Iteration: 150, mean loss: 1.7436776161193848, train_accuracy:0.7218543291091919\n"
          ]
        },
        {
          "output_type": "stream",
          "name": "stderr",
          "text": [
            " 54%|█████▎    | 210/391 [00:03<00:02, 66.31it/s]"
          ]
        },
        {
          "output_type": "stream",
          "name": "stdout",
          "text": [
            "Iteration: 200, mean loss: 1.7398992776870728, train_accuracy:0.7221704125404358\n"
          ]
        },
        {
          "output_type": "stream",
          "name": "stderr",
          "text": [
            " 66%|██████▌   | 259/391 [00:03<00:02, 64.83it/s]"
          ]
        },
        {
          "output_type": "stream",
          "name": "stdout",
          "text": [
            "Iteration: 250, mean loss: 1.7251228094100952, train_accuracy:0.7248194813728333\n"
          ]
        },
        {
          "output_type": "stream",
          "name": "stderr",
          "text": [
            " 79%|███████▉  | 308/391 [00:04<00:01, 62.97it/s]"
          ]
        },
        {
          "output_type": "stream",
          "name": "stdout",
          "text": [
            "Iteration: 300, mean loss: 1.7482519149780273, train_accuracy:0.7227470874786377\n"
          ]
        },
        {
          "output_type": "stream",
          "name": "stderr",
          "text": [
            " 92%|█████████▏| 360/391 [00:05<00:00, 50.38it/s]"
          ]
        },
        {
          "output_type": "stream",
          "name": "stdout",
          "text": [
            "Iteration: 350, mean loss: 1.7352067232131958, train_accuracy:0.7236022353172302\n"
          ]
        },
        {
          "output_type": "stream",
          "name": "stderr",
          "text": [
            "100%|██████████| 391/391 [00:06<00:00, 62.07it/s]\n",
            "100%|██████████| 79/79 [00:01<00:00, 59.25it/s]\n"
          ]
        },
        {
          "output_type": "stream",
          "name": "stdout",
          "text": [
            "Val Metrics: val loss: tensor(1.8117) val accuracy: tensor(0.6474)\n"
          ]
        },
        {
          "output_type": "stream",
          "name": "stderr",
          "text": [
            "  2%|▏         | 6/391 [00:00<00:06, 57.68it/s]"
          ]
        },
        {
          "output_type": "stream",
          "name": "stdout",
          "text": [
            "Iteration: 0, mean loss: 1.6772974729537964, train_accuracy:0.78125\n"
          ]
        },
        {
          "output_type": "stream",
          "name": "stderr",
          "text": [
            " 16%|█▌        | 61/391 [00:00<00:04, 66.95it/s]"
          ]
        },
        {
          "output_type": "stream",
          "name": "stdout",
          "text": [
            "Iteration: 50, mean loss: 1.7362053394317627, train_accuracy:0.725949764251709\n"
          ]
        },
        {
          "output_type": "stream",
          "name": "stderr",
          "text": [
            " 28%|██▊       | 111/391 [00:01<00:04, 67.48it/s]"
          ]
        },
        {
          "output_type": "stream",
          "name": "stdout",
          "text": [
            "Iteration: 100, mean loss: 1.738337755203247, train_accuracy:0.7252475023269653\n"
          ]
        },
        {
          "output_type": "stream",
          "name": "stderr",
          "text": [
            " 41%|████      | 160/391 [00:02<00:03, 66.40it/s]"
          ]
        },
        {
          "output_type": "stream",
          "name": "stdout",
          "text": [
            "Iteration: 150, mean loss: 1.7347495555877686, train_accuracy:0.7263038158416748\n"
          ]
        },
        {
          "output_type": "stream",
          "name": "stderr",
          "text": [
            " 53%|█████▎    | 209/391 [00:03<00:02, 67.24it/s]"
          ]
        },
        {
          "output_type": "stream",
          "name": "stdout",
          "text": [
            "Iteration: 200, mean loss: 1.7368338108062744, train_accuracy:0.7264459133148193\n"
          ]
        },
        {
          "output_type": "stream",
          "name": "stderr",
          "text": [
            " 66%|██████▌   | 258/391 [00:03<00:02, 65.61it/s]"
          ]
        },
        {
          "output_type": "stream",
          "name": "stdout",
          "text": [
            "Iteration: 250, mean loss: 1.7266616821289062, train_accuracy:0.728367805480957\n"
          ]
        },
        {
          "output_type": "stream",
          "name": "stderr",
          "text": [
            " 80%|████████  | 314/391 [00:04<00:01, 67.20it/s]"
          ]
        },
        {
          "output_type": "stream",
          "name": "stdout",
          "text": [
            "Iteration: 300, mean loss: 1.744025468826294, train_accuracy:0.7267441749572754\n"
          ]
        },
        {
          "output_type": "stream",
          "name": "stderr",
          "text": [
            " 93%|█████████▎| 363/391 [00:05<00:00, 66.01it/s]"
          ]
        },
        {
          "output_type": "stream",
          "name": "stdout",
          "text": [
            "Iteration: 350, mean loss: 1.735898733139038, train_accuracy:0.7267850637435913\n"
          ]
        },
        {
          "output_type": "stream",
          "name": "stderr",
          "text": [
            "100%|██████████| 391/391 [00:05<00:00, 65.94it/s]\n",
            "100%|██████████| 79/79 [00:01<00:00, 77.49it/s]\n"
          ]
        },
        {
          "output_type": "stream",
          "name": "stdout",
          "text": [
            "Val Metrics: val loss: tensor(1.8149) val accuracy: tensor(0.6462)\n"
          ]
        },
        {
          "output_type": "stream",
          "name": "stderr",
          "text": [
            "  2%|▏         | 6/391 [00:00<00:06, 59.59it/s]"
          ]
        },
        {
          "output_type": "stream",
          "name": "stdout",
          "text": [
            "Iteration: 0, mean loss: 1.6628528833389282, train_accuracy:0.8046875\n"
          ]
        },
        {
          "output_type": "stream",
          "name": "stderr",
          "text": [
            " 16%|█▌        | 62/391 [00:00<00:04, 67.44it/s]"
          ]
        },
        {
          "output_type": "stream",
          "name": "stdout",
          "text": [
            "Iteration: 50, mean loss: 1.7265968322753906, train_accuracy:0.7392769455909729\n"
          ]
        },
        {
          "output_type": "stream",
          "name": "stderr",
          "text": [
            " 28%|██▊       | 111/391 [00:01<00:04, 65.80it/s]"
          ]
        },
        {
          "output_type": "stream",
          "name": "stdout",
          "text": [
            "Iteration: 100, mean loss: 1.7310758829116821, train_accuracy:0.7359220385551453\n"
          ]
        },
        {
          "output_type": "stream",
          "name": "stderr",
          "text": [
            " 41%|████      | 160/391 [00:02<00:03, 66.38it/s]"
          ]
        },
        {
          "output_type": "stream",
          "name": "stdout",
          "text": [
            "Iteration: 150, mean loss: 1.7300854921340942, train_accuracy:0.7349441051483154\n"
          ]
        },
        {
          "output_type": "stream",
          "name": "stderr",
          "text": [
            " 54%|█████▎    | 210/391 [00:03<00:03, 49.89it/s]"
          ]
        },
        {
          "output_type": "stream",
          "name": "stdout",
          "text": [
            "Iteration: 200, mean loss: 1.7301217317581177, train_accuracy:0.7344915866851807\n"
          ]
        },
        {
          "output_type": "stream",
          "name": "stderr",
          "text": [
            " 65%|██████▌   | 256/391 [00:04<00:02, 45.87it/s]"
          ]
        },
        {
          "output_type": "stream",
          "name": "stdout",
          "text": [
            "Iteration: 250, mean loss: 1.7207231521606445, train_accuracy:0.7362425327301025\n"
          ]
        },
        {
          "output_type": "stream",
          "name": "stderr",
          "text": [
            " 80%|████████  | 313/391 [00:05<00:01, 63.94it/s]"
          ]
        },
        {
          "output_type": "stream",
          "name": "stdout",
          "text": [
            "Iteration: 300, mean loss: 1.7368618249893188, train_accuracy:0.7340635657310486\n"
          ]
        },
        {
          "output_type": "stream",
          "name": "stderr",
          "text": [
            " 93%|█████████▎| 362/391 [00:06<00:00, 64.89it/s]"
          ]
        },
        {
          "output_type": "stream",
          "name": "stdout",
          "text": [
            "Iteration: 350, mean loss: 1.7351341247558594, train_accuracy:0.7329950332641602\n"
          ]
        },
        {
          "output_type": "stream",
          "name": "stderr",
          "text": [
            "100%|██████████| 391/391 [00:06<00:00, 58.88it/s]\n",
            "100%|██████████| 79/79 [00:01<00:00, 77.81it/s]\n"
          ]
        },
        {
          "output_type": "stream",
          "name": "stdout",
          "text": [
            "Val Metrics: val loss: tensor(1.7998) val accuracy: tensor(0.6629)\n"
          ]
        },
        {
          "output_type": "stream",
          "name": "stderr",
          "text": [
            "  2%|▏         | 6/391 [00:00<00:06, 56.02it/s]"
          ]
        },
        {
          "output_type": "stream",
          "name": "stdout",
          "text": [
            "Iteration: 0, mean loss: 1.6476716995239258, train_accuracy:0.8046875\n"
          ]
        },
        {
          "output_type": "stream",
          "name": "stderr",
          "text": [
            " 16%|█▌        | 62/391 [00:00<00:04, 66.54it/s]"
          ]
        },
        {
          "output_type": "stream",
          "name": "stdout",
          "text": [
            "Iteration: 50, mean loss: 1.7277379035949707, train_accuracy:0.7351409196853638\n"
          ]
        },
        {
          "output_type": "stream",
          "name": "stderr",
          "text": [
            " 28%|██▊       | 111/391 [00:01<00:04, 66.45it/s]"
          ]
        },
        {
          "output_type": "stream",
          "name": "stdout",
          "text": [
            "Iteration: 100, mean loss: 1.7324920892715454, train_accuracy:0.7325959205627441\n"
          ]
        },
        {
          "output_type": "stream",
          "name": "stderr",
          "text": [
            " 41%|████      | 160/391 [00:02<00:03, 65.33it/s]"
          ]
        },
        {
          "output_type": "stream",
          "name": "stdout",
          "text": [
            "Iteration: 150, mean loss: 1.7325619459152222, train_accuracy:0.7322019934654236\n"
          ]
        },
        {
          "output_type": "stream",
          "name": "stderr",
          "text": [
            " 53%|█████▎    | 209/391 [00:03<00:02, 64.57it/s]"
          ]
        },
        {
          "output_type": "stream",
          "name": "stdout",
          "text": [
            "Iteration: 200, mean loss: 1.731482744216919, train_accuracy:0.7316930890083313\n"
          ]
        },
        {
          "output_type": "stream",
          "name": "stderr",
          "text": [
            " 66%|██████▌   | 258/391 [00:03<00:01, 66.53it/s]"
          ]
        },
        {
          "output_type": "stream",
          "name": "stdout",
          "text": [
            "Iteration: 250, mean loss: 1.7228474617004395, train_accuracy:0.7335657477378845\n"
          ]
        },
        {
          "output_type": "stream",
          "name": "stderr",
          "text": [
            " 80%|████████  | 314/391 [00:04<00:01, 66.23it/s]"
          ]
        },
        {
          "output_type": "stream",
          "name": "stdout",
          "text": [
            "Iteration: 300, mean loss: 1.7385475635528564, train_accuracy:0.7319352030754089\n"
          ]
        },
        {
          "output_type": "stream",
          "name": "stderr",
          "text": [
            " 93%|█████████▎| 363/391 [00:05<00:00, 66.19it/s]"
          ]
        },
        {
          "output_type": "stream",
          "name": "stdout",
          "text": [
            "Iteration: 350, mean loss: 1.7323521375656128, train_accuracy:0.7317708134651184\n"
          ]
        },
        {
          "output_type": "stream",
          "name": "stderr",
          "text": [
            "100%|██████████| 391/391 [00:05<00:00, 65.81it/s]\n",
            "100%|██████████| 79/79 [00:01<00:00, 76.90it/s]\n"
          ]
        },
        {
          "output_type": "stream",
          "name": "stdout",
          "text": [
            "Val Metrics: val loss: tensor(1.8145) val accuracy: tensor(0.6469)\n"
          ]
        },
        {
          "output_type": "stream",
          "name": "stderr",
          "text": [
            "  2%|▏         | 7/391 [00:00<00:06, 62.40it/s]"
          ]
        },
        {
          "output_type": "stream",
          "name": "stdout",
          "text": [
            "Iteration: 0, mean loss: 1.6478443145751953, train_accuracy:0.828125\n"
          ]
        },
        {
          "output_type": "stream",
          "name": "stderr",
          "text": [
            " 15%|█▌        | 60/391 [00:01<00:06, 49.81it/s]"
          ]
        },
        {
          "output_type": "stream",
          "name": "stdout",
          "text": [
            "Iteration: 50, mean loss: 1.727248191833496, train_accuracy:0.7372855544090271\n"
          ]
        },
        {
          "output_type": "stream",
          "name": "stderr",
          "text": [
            " 27%|██▋       | 105/391 [00:02<00:06, 44.92it/s]"
          ]
        },
        {
          "output_type": "stream",
          "name": "stdout",
          "text": [
            "Iteration: 100, mean loss: 1.7312051057815552, train_accuracy:0.7338335514068604\n"
          ]
        },
        {
          "output_type": "stream",
          "name": "stderr",
          "text": [
            " 40%|████      | 158/391 [00:03<00:03, 63.59it/s]"
          ]
        },
        {
          "output_type": "stream",
          "name": "stdout",
          "text": [
            "Iteration: 150, mean loss: 1.7260773181915283, train_accuracy:0.7344784736633301\n"
          ]
        },
        {
          "output_type": "stream",
          "name": "stderr",
          "text": [
            " 55%|█████▍    | 214/391 [00:03<00:02, 64.55it/s]"
          ]
        },
        {
          "output_type": "stream",
          "name": "stdout",
          "text": [
            "Iteration: 200, mean loss: 1.7292064428329468, train_accuracy:0.7342584133148193\n"
          ]
        },
        {
          "output_type": "stream",
          "name": "stderr",
          "text": [
            " 67%|██████▋   | 263/391 [00:04<00:01, 64.90it/s]"
          ]
        },
        {
          "output_type": "stream",
          "name": "stdout",
          "text": [
            "Iteration: 250, mean loss: 1.7218128442764282, train_accuracy:0.7356822490692139\n"
          ]
        },
        {
          "output_type": "stream",
          "name": "stderr",
          "text": [
            " 80%|███████▉  | 312/391 [00:05<00:01, 65.51it/s]"
          ]
        },
        {
          "output_type": "stream",
          "name": "stdout",
          "text": [
            "Iteration: 300, mean loss: 1.7382756471633911, train_accuracy:0.7338559031486511\n"
          ]
        },
        {
          "output_type": "stream",
          "name": "stderr",
          "text": [
            " 92%|█████████▏| 361/391 [00:06<00:00, 66.11it/s]"
          ]
        },
        {
          "output_type": "stream",
          "name": "stdout",
          "text": [
            "Iteration: 350, mean loss: 1.7256884574890137, train_accuracy:0.7344195246696472\n"
          ]
        },
        {
          "output_type": "stream",
          "name": "stderr",
          "text": [
            "100%|██████████| 391/391 [00:06<00:00, 58.59it/s]\n",
            "100%|██████████| 79/79 [00:01<00:00, 77.96it/s]\n"
          ]
        },
        {
          "output_type": "stream",
          "name": "stdout",
          "text": [
            "Val Metrics: val loss: tensor(1.8073) val accuracy: tensor(0.6536)\n"
          ]
        },
        {
          "output_type": "stream",
          "name": "stderr",
          "text": [
            "  2%|▏         | 6/391 [00:00<00:06, 55.93it/s]"
          ]
        },
        {
          "output_type": "stream",
          "name": "stdout",
          "text": [
            "Iteration: 0, mean loss: 1.6554001569747925, train_accuracy:0.8203125\n"
          ]
        },
        {
          "output_type": "stream",
          "name": "stderr",
          "text": [
            " 16%|█▌        | 62/391 [00:00<00:04, 66.45it/s]"
          ]
        },
        {
          "output_type": "stream",
          "name": "stdout",
          "text": [
            "Iteration: 50, mean loss: 1.726650357246399, train_accuracy:0.7382046580314636\n"
          ]
        },
        {
          "output_type": "stream",
          "name": "stderr",
          "text": [
            " 28%|██▊       | 111/391 [00:01<00:04, 66.89it/s]"
          ]
        },
        {
          "output_type": "stream",
          "name": "stdout",
          "text": [
            "Iteration: 100, mean loss: 1.733098030090332, train_accuracy:0.7342203259468079\n"
          ]
        },
        {
          "output_type": "stream",
          "name": "stderr",
          "text": [
            " 41%|████      | 160/391 [00:02<00:03, 66.72it/s]"
          ]
        },
        {
          "output_type": "stream",
          "name": "stdout",
          "text": [
            "Iteration: 150, mean loss: 1.7293373346328735, train_accuracy:0.7340645790100098\n"
          ]
        },
        {
          "output_type": "stream",
          "name": "stderr",
          "text": [
            " 53%|█████▎    | 209/391 [00:03<00:02, 64.57it/s]"
          ]
        },
        {
          "output_type": "stream",
          "name": "stdout",
          "text": [
            "Iteration: 200, mean loss: 1.7309516668319702, train_accuracy:0.7331700921058655\n"
          ]
        },
        {
          "output_type": "stream",
          "name": "stderr",
          "text": [
            " 66%|██████▌   | 258/391 [00:03<00:01, 66.52it/s]"
          ]
        },
        {
          "output_type": "stream",
          "name": "stdout",
          "text": [
            "Iteration: 250, mean loss: 1.7136744260787964, train_accuracy:0.7365226745605469\n"
          ]
        },
        {
          "output_type": "stream",
          "name": "stderr",
          "text": [
            " 79%|███████▊  | 307/391 [00:04<00:01, 61.09it/s]"
          ]
        },
        {
          "output_type": "stream",
          "name": "stdout",
          "text": [
            "Iteration: 300, mean loss: 1.7388267517089844, train_accuracy:0.734504759311676\n"
          ]
        },
        {
          "output_type": "stream",
          "name": "stderr",
          "text": [
            " 92%|█████████▏| 359/391 [00:05<00:00, 49.33it/s]"
          ]
        },
        {
          "output_type": "stream",
          "name": "stdout",
          "text": [
            "Iteration: 350, mean loss: 1.7314178943634033, train_accuracy:0.7339298725128174\n"
          ]
        },
        {
          "output_type": "stream",
          "name": "stderr",
          "text": [
            "100%|██████████| 391/391 [00:06<00:00, 59.23it/s]\n",
            "100%|██████████| 79/79 [00:01<00:00, 50.91it/s]\n"
          ]
        },
        {
          "output_type": "stream",
          "name": "stdout",
          "text": [
            "Val Metrics: val loss: tensor(1.8083) val accuracy: tensor(0.6530)\n"
          ]
        },
        {
          "output_type": "stream",
          "name": "stderr",
          "text": [
            "  1%|          | 4/391 [00:00<00:11, 32.69it/s]"
          ]
        },
        {
          "output_type": "stream",
          "name": "stdout",
          "text": [
            "Iteration: 0, mean loss: 1.624159336090088, train_accuracy:0.84375\n"
          ]
        },
        {
          "output_type": "stream",
          "name": "stderr",
          "text": [
            " 15%|█▌        | 60/391 [00:01<00:05, 61.26it/s]"
          ]
        },
        {
          "output_type": "stream",
          "name": "stdout",
          "text": [
            "Iteration: 50, mean loss: 1.7268319129943848, train_accuracy:0.7391237616539001\n"
          ]
        },
        {
          "output_type": "stream",
          "name": "stderr",
          "text": [
            " 28%|██▊       | 109/391 [00:01<00:04, 66.59it/s]"
          ]
        },
        {
          "output_type": "stream",
          "name": "stdout",
          "text": [
            "Iteration: 100, mean loss: 1.7263339757919312, train_accuracy:0.7366955280303955\n"
          ]
        },
        {
          "output_type": "stream",
          "name": "stderr",
          "text": [
            " 40%|████      | 158/391 [00:02<00:03, 65.56it/s]"
          ]
        },
        {
          "output_type": "stream",
          "name": "stdout",
          "text": [
            "Iteration: 150, mean loss: 1.7310996055603027, train_accuracy:0.7348923683166504\n"
          ]
        },
        {
          "output_type": "stream",
          "name": "stderr",
          "text": [
            " 53%|█████▎    | 207/391 [00:03<00:02, 63.80it/s]"
          ]
        },
        {
          "output_type": "stream",
          "name": "stdout",
          "text": [
            "Iteration: 200, mean loss: 1.7281746864318848, train_accuracy:0.7344915866851807\n"
          ]
        },
        {
          "output_type": "stream",
          "name": "stderr",
          "text": [
            " 67%|██████▋   | 263/391 [00:04<00:01, 66.89it/s]"
          ]
        },
        {
          "output_type": "stream",
          "name": "stdout",
          "text": [
            "Iteration: 250, mean loss: 1.7125462293624878, train_accuracy:0.7375497817993164\n"
          ]
        },
        {
          "output_type": "stream",
          "name": "stderr",
          "text": [
            " 80%|███████▉  | 312/391 [00:05<00:01, 66.75it/s]"
          ]
        },
        {
          "output_type": "stream",
          "name": "stdout",
          "text": [
            "Iteration: 300, mean loss: 1.7349892854690552, train_accuracy:0.7356986999511719\n"
          ]
        },
        {
          "output_type": "stream",
          "name": "stderr",
          "text": [
            " 92%|█████████▏| 361/391 [00:05<00:00, 64.57it/s]"
          ]
        },
        {
          "output_type": "stream",
          "name": "stdout",
          "text": [
            "Iteration: 350, mean loss: 1.728589653968811, train_accuracy:0.7353543639183044\n"
          ]
        },
        {
          "output_type": "stream",
          "name": "stderr",
          "text": [
            "100%|██████████| 391/391 [00:06<00:00, 62.09it/s]\n",
            "100%|██████████| 79/79 [00:01<00:00, 77.54it/s]\n"
          ]
        },
        {
          "output_type": "stream",
          "name": "stdout",
          "text": [
            "Val Metrics: val loss: tensor(1.8076) val accuracy: tensor(0.6538)\n"
          ]
        },
        {
          "output_type": "stream",
          "name": "stderr",
          "text": [
            "  2%|▏         | 7/391 [00:00<00:06, 63.68it/s]"
          ]
        },
        {
          "output_type": "stream",
          "name": "stdout",
          "text": [
            "Iteration: 0, mean loss: 1.6638747453689575, train_accuracy:0.8046875\n"
          ]
        },
        {
          "output_type": "stream",
          "name": "stderr",
          "text": [
            " 16%|█▌        | 63/391 [00:00<00:04, 66.19it/s]"
          ]
        },
        {
          "output_type": "stream",
          "name": "stdout",
          "text": [
            "Iteration: 50, mean loss: 1.7231042385101318, train_accuracy:0.7426470518112183\n"
          ]
        },
        {
          "output_type": "stream",
          "name": "stderr",
          "text": [
            " 29%|██▊       | 112/391 [00:01<00:04, 65.79it/s]"
          ]
        },
        {
          "output_type": "stream",
          "name": "stdout",
          "text": [
            "Iteration: 100, mean loss: 1.724480152130127, train_accuracy:0.7395575642585754\n"
          ]
        },
        {
          "output_type": "stream",
          "name": "stderr",
          "text": [
            " 41%|████      | 161/391 [00:02<00:03, 65.69it/s]"
          ]
        },
        {
          "output_type": "stream",
          "name": "stdout",
          "text": [
            "Iteration: 150, mean loss: 1.7225831747055054, train_accuracy:0.738979697227478\n"
          ]
        },
        {
          "output_type": "stream",
          "name": "stderr",
          "text": [
            " 54%|█████▎    | 210/391 [00:03<00:02, 66.43it/s]"
          ]
        },
        {
          "output_type": "stream",
          "name": "stdout",
          "text": [
            "Iteration: 200, mean loss: 1.7244877815246582, train_accuracy:0.738456130027771\n"
          ]
        },
        {
          "output_type": "stream",
          "name": "stderr",
          "text": [
            " 66%|██████▋   | 260/391 [00:04<00:02, 51.39it/s]"
          ]
        },
        {
          "output_type": "stream",
          "name": "stdout",
          "text": [
            "Iteration: 250, mean loss: 1.714082956314087, train_accuracy:0.7405378222465515\n"
          ]
        },
        {
          "output_type": "stream",
          "name": "stderr",
          "text": [
            " 78%|███████▊  | 305/391 [00:05<00:01, 45.54it/s]"
          ]
        },
        {
          "output_type": "stream",
          "name": "stdout",
          "text": [
            "Iteration: 300, mean loss: 1.7252010107040405, train_accuracy:0.7402408719062805\n"
          ]
        },
        {
          "output_type": "stream",
          "name": "stderr",
          "text": [
            " 93%|█████████▎| 362/391 [00:06<00:00, 64.28it/s]"
          ]
        },
        {
          "output_type": "stream",
          "name": "stdout",
          "text": [
            "Iteration: 350, mean loss: 1.7205220460891724, train_accuracy:0.7403623461723328\n"
          ]
        },
        {
          "output_type": "stream",
          "name": "stderr",
          "text": [
            "100%|██████████| 391/391 [00:06<00:00, 59.14it/s]\n",
            "100%|██████████| 79/79 [00:01<00:00, 77.91it/s]\n"
          ]
        },
        {
          "output_type": "stream",
          "name": "stdout",
          "text": [
            "Val Metrics: val loss: tensor(1.8056) val accuracy: tensor(0.6541)\n"
          ]
        },
        {
          "output_type": "stream",
          "name": "stderr",
          "text": [
            "  2%|▏         | 7/391 [00:00<00:06, 62.61it/s]"
          ]
        },
        {
          "output_type": "stream",
          "name": "stdout",
          "text": [
            "Iteration: 0, mean loss: 1.6782807111740112, train_accuracy:0.78125\n"
          ]
        },
        {
          "output_type": "stream",
          "name": "stderr",
          "text": [
            " 16%|█▌        | 63/391 [00:00<00:05, 65.33it/s]"
          ]
        },
        {
          "output_type": "stream",
          "name": "stdout",
          "text": [
            "Iteration: 50, mean loss: 1.7220081090927124, train_accuracy:0.7421875\n"
          ]
        },
        {
          "output_type": "stream",
          "name": "stderr",
          "text": [
            " 29%|██▊       | 112/391 [00:01<00:04, 66.43it/s]"
          ]
        },
        {
          "output_type": "stream",
          "name": "stdout",
          "text": [
            "Iteration: 100, mean loss: 1.7232978343963623, train_accuracy:0.7414140105247498\n"
          ]
        },
        {
          "output_type": "stream",
          "name": "stderr",
          "text": [
            " 41%|████      | 161/391 [00:02<00:03, 66.07it/s]"
          ]
        },
        {
          "output_type": "stream",
          "name": "stdout",
          "text": [
            "Iteration: 150, mean loss: 1.7199218273162842, train_accuracy:0.7415666580200195\n"
          ]
        },
        {
          "output_type": "stream",
          "name": "stderr",
          "text": [
            " 54%|█████▎    | 210/391 [00:03<00:02, 65.01it/s]"
          ]
        },
        {
          "output_type": "stream",
          "name": "stdout",
          "text": [
            "Iteration: 200, mean loss: 1.7222328186035156, train_accuracy:0.7411769032478333\n"
          ]
        },
        {
          "output_type": "stream",
          "name": "stderr",
          "text": [
            " 66%|██████▌   | 259/391 [00:03<00:01, 66.22it/s]"
          ]
        },
        {
          "output_type": "stream",
          "name": "stdout",
          "text": [
            "Iteration: 250, mean loss: 1.7057675123214722, train_accuracy:0.7442417740821838\n"
          ]
        },
        {
          "output_type": "stream",
          "name": "stderr",
          "text": [
            " 79%|███████▉  | 308/391 [00:04<00:01, 66.16it/s]"
          ]
        },
        {
          "output_type": "stream",
          "name": "stdout",
          "text": [
            "Iteration: 300, mean loss: 1.7244764566421509, train_accuracy:0.7432776093482971\n"
          ]
        },
        {
          "output_type": "stream",
          "name": "stderr",
          "text": [
            " 91%|█████████▏| 357/391 [00:05<00:00, 62.60it/s]"
          ]
        },
        {
          "output_type": "stream",
          "name": "stdout",
          "text": [
            "Iteration: 350, mean loss: 1.7222176790237427, train_accuracy:0.7428107261657715\n"
          ]
        },
        {
          "output_type": "stream",
          "name": "stderr",
          "text": [
            "100%|██████████| 391/391 [00:06<00:00, 64.96it/s]\n",
            "100%|██████████| 79/79 [00:01<00:00, 77.62it/s]\n"
          ]
        },
        {
          "output_type": "stream",
          "name": "stdout",
          "text": [
            "Val Metrics: val loss: tensor(1.8010) val accuracy: tensor(0.6595)\n"
          ]
        },
        {
          "output_type": "stream",
          "name": "stderr",
          "text": [
            "  1%|▏         | 5/391 [00:00<00:07, 49.78it/s]"
          ]
        },
        {
          "output_type": "stream",
          "name": "stdout",
          "text": [
            "Iteration: 0, mean loss: 1.6142131090164185, train_accuracy:0.859375\n"
          ]
        },
        {
          "output_type": "stream",
          "name": "stderr",
          "text": [
            " 16%|█▌        | 61/391 [00:00<00:05, 57.87it/s]"
          ]
        },
        {
          "output_type": "stream",
          "name": "stdout",
          "text": [
            "Iteration: 50, mean loss: 1.7186638116836548, train_accuracy:0.7463235259056091\n"
          ]
        },
        {
          "output_type": "stream",
          "name": "stderr",
          "text": [
            " 28%|██▊       | 109/391 [00:01<00:05, 51.87it/s]"
          ]
        },
        {
          "output_type": "stream",
          "name": "stdout",
          "text": [
            "Iteration: 100, mean loss: 1.7180283069610596, train_accuracy:0.7451268434524536\n"
          ]
        },
        {
          "output_type": "stream",
          "name": "stderr",
          "text": [
            " 40%|████      | 157/391 [00:02<00:05, 45.17it/s]"
          ]
        },
        {
          "output_type": "stream",
          "name": "stdout",
          "text": [
            "Iteration: 150, mean loss: 1.7141741514205933, train_accuracy:0.7459644079208374\n"
          ]
        },
        {
          "output_type": "stream",
          "name": "stderr",
          "text": [
            " 54%|█████▎    | 210/391 [00:03<00:02, 64.32it/s]"
          ]
        },
        {
          "output_type": "stream",
          "name": "stdout",
          "text": [
            "Iteration: 200, mean loss: 1.7239620685577393, train_accuracy:0.7439754605293274\n"
          ]
        },
        {
          "output_type": "stream",
          "name": "stderr",
          "text": [
            " 66%|██████▌   | 259/391 [00:04<00:02, 64.70it/s]"
          ]
        },
        {
          "output_type": "stream",
          "name": "stdout",
          "text": [
            "Iteration: 250, mean loss: 1.708082675933838, train_accuracy:0.7462027072906494\n"
          ]
        },
        {
          "output_type": "stream",
          "name": "stderr",
          "text": [
            " 79%|███████▉  | 308/391 [00:05<00:01, 63.29it/s]"
          ]
        },
        {
          "output_type": "stream",
          "name": "stdout",
          "text": [
            "Iteration: 300, mean loss: 1.7255836725234985, train_accuracy:0.7446272969245911\n"
          ]
        },
        {
          "output_type": "stream",
          "name": "stderr",
          "text": [
            " 93%|█████████▎| 364/391 [00:06<00:00, 66.98it/s]"
          ]
        },
        {
          "output_type": "stream",
          "name": "stdout",
          "text": [
            "Iteration: 350, mean loss: 1.713791847229004, train_accuracy:0.7455039024353027\n"
          ]
        },
        {
          "output_type": "stream",
          "name": "stderr",
          "text": [
            "100%|██████████| 391/391 [00:06<00:00, 59.05it/s]\n",
            "100%|██████████| 79/79 [00:01<00:00, 77.33it/s]\n"
          ]
        },
        {
          "output_type": "stream",
          "name": "stdout",
          "text": [
            "Val Metrics: val loss: tensor(1.8030) val accuracy: tensor(0.6571)\n"
          ]
        },
        {
          "output_type": "stream",
          "name": "stderr",
          "text": [
            "  2%|▏         | 6/391 [00:00<00:06, 59.80it/s]"
          ]
        },
        {
          "output_type": "stream",
          "name": "stdout",
          "text": [
            "Iteration: 0, mean loss: 1.6454212665557861, train_accuracy:0.8203125\n"
          ]
        },
        {
          "output_type": "stream",
          "name": "stderr",
          "text": [
            " 16%|█▌        | 62/391 [00:00<00:05, 61.95it/s]"
          ]
        },
        {
          "output_type": "stream",
          "name": "stdout",
          "text": [
            "Iteration: 50, mean loss: 1.718019723892212, train_accuracy:0.7444853186607361\n"
          ]
        },
        {
          "output_type": "stream",
          "name": "stderr",
          "text": [
            " 28%|██▊       | 111/391 [00:01<00:04, 66.65it/s]"
          ]
        },
        {
          "output_type": "stream",
          "name": "stdout",
          "text": [
            "Iteration: 100, mean loss: 1.716617465019226, train_accuracy:0.7452042102813721\n"
          ]
        },
        {
          "output_type": "stream",
          "name": "stderr",
          "text": [
            " 41%|████      | 160/391 [00:02<00:03, 66.64it/s]"
          ]
        },
        {
          "output_type": "stream",
          "name": "stdout",
          "text": [
            "Iteration: 150, mean loss: 1.718193769454956, train_accuracy:0.7451883554458618\n"
          ]
        },
        {
          "output_type": "stream",
          "name": "stderr",
          "text": [
            " 53%|█████▎    | 209/391 [00:03<00:02, 66.61it/s]"
          ]
        },
        {
          "output_type": "stream",
          "name": "stdout",
          "text": [
            "Iteration: 200, mean loss: 1.718357801437378, train_accuracy:0.7452192306518555\n"
          ]
        },
        {
          "output_type": "stream",
          "name": "stderr",
          "text": [
            " 66%|██████▌   | 258/391 [00:03<00:02, 63.74it/s]"
          ]
        },
        {
          "output_type": "stream",
          "name": "stdout",
          "text": [
            "Iteration: 250, mean loss: 1.7055472135543823, train_accuracy:0.7476966977119446\n"
          ]
        },
        {
          "output_type": "stream",
          "name": "stderr",
          "text": [
            " 80%|████████  | 314/391 [00:04<00:01, 66.51it/s]"
          ]
        },
        {
          "output_type": "stream",
          "name": "stdout",
          "text": [
            "Iteration: 300, mean loss: 1.722723364830017, train_accuracy:0.7465479373931885\n"
          ]
        },
        {
          "output_type": "stream",
          "name": "stderr",
          "text": [
            " 91%|█████████ | 356/391 [00:05<00:00, 65.78it/s]"
          ]
        },
        {
          "output_type": "stream",
          "name": "stdout",
          "text": [
            "Iteration: 350, mean loss: 1.7213608026504517, train_accuracy:0.7455929517745972\n"
          ]
        },
        {
          "output_type": "stream",
          "name": "stderr",
          "text": [
            "100%|██████████| 391/391 [00:06<00:00, 63.04it/s]\n",
            "100%|██████████| 79/79 [00:01<00:00, 53.78it/s]\n"
          ]
        },
        {
          "output_type": "stream",
          "name": "stdout",
          "text": [
            "Val Metrics: val loss: tensor(1.8011) val accuracy: tensor(0.6607)\n"
          ]
        },
        {
          "output_type": "stream",
          "name": "stderr",
          "text": [
            "  1%|          | 4/391 [00:00<00:10, 36.70it/s]"
          ]
        },
        {
          "output_type": "stream",
          "name": "stdout",
          "text": [
            "Iteration: 0, mean loss: 1.663009762763977, train_accuracy:0.7890625\n"
          ]
        },
        {
          "output_type": "stream",
          "name": "stderr",
          "text": [
            " 15%|█▌        | 59/391 [00:00<00:05, 65.84it/s]"
          ]
        },
        {
          "output_type": "stream",
          "name": "stdout",
          "text": [
            "Iteration: 50, mean loss: 1.7148622274398804, train_accuracy:0.7478553652763367\n"
          ]
        },
        {
          "output_type": "stream",
          "name": "stderr",
          "text": [
            " 28%|██▊       | 108/391 [00:01<00:04, 64.85it/s]"
          ]
        },
        {
          "output_type": "stream",
          "name": "stdout",
          "text": [
            "Iteration: 100, mean loss: 1.7130070924758911, train_accuracy:0.7481435537338257\n"
          ]
        },
        {
          "output_type": "stream",
          "name": "stderr",
          "text": [
            " 40%|████      | 157/391 [00:02<00:03, 64.21it/s]"
          ]
        },
        {
          "output_type": "stream",
          "name": "stdout",
          "text": [
            "Iteration: 150, mean loss: 1.7124748229980469, train_accuracy:0.7487065196037292\n"
          ]
        },
        {
          "output_type": "stream",
          "name": "stderr",
          "text": [
            " 54%|█████▍    | 213/391 [00:03<00:02, 66.40it/s]"
          ]
        },
        {
          "output_type": "stream",
          "name": "stdout",
          "text": [
            "Iteration: 200, mean loss: 1.718029499053955, train_accuracy:0.7479400038719177\n"
          ]
        },
        {
          "output_type": "stream",
          "name": "stderr",
          "text": [
            " 67%|██████▋   | 262/391 [00:04<00:01, 65.66it/s]"
          ]
        },
        {
          "output_type": "stream",
          "name": "stdout",
          "text": [
            "Iteration: 250, mean loss: 1.708868384361267, train_accuracy:0.7490040063858032\n"
          ]
        },
        {
          "output_type": "stream",
          "name": "stderr",
          "text": [
            " 80%|███████▉  | 311/391 [00:04<00:01, 64.99it/s]"
          ]
        },
        {
          "output_type": "stream",
          "name": "stdout",
          "text": [
            "Iteration: 300, mean loss: 1.72389554977417, train_accuracy:0.7474044561386108\n"
          ]
        },
        {
          "output_type": "stream",
          "name": "stderr",
          "text": [
            " 92%|█████████▏| 360/391 [00:05<00:00, 64.21it/s]"
          ]
        },
        {
          "output_type": "stream",
          "name": "stdout",
          "text": [
            "Iteration: 350, mean loss: 1.7131187915802002, train_accuracy:0.7475739121437073\n"
          ]
        },
        {
          "output_type": "stream",
          "name": "stderr",
          "text": [
            "100%|██████████| 391/391 [00:06<00:00, 64.70it/s]\n",
            "100%|██████████| 79/79 [00:01<00:00, 76.33it/s]\n"
          ]
        },
        {
          "output_type": "stream",
          "name": "stdout",
          "text": [
            "Val Metrics: val loss: tensor(1.7995) val accuracy: tensor(0.6624)\n"
          ]
        },
        {
          "output_type": "stream",
          "name": "stderr",
          "text": [
            "  2%|▏         | 7/391 [00:00<00:06, 61.75it/s]"
          ]
        },
        {
          "output_type": "stream",
          "name": "stdout",
          "text": [
            "Iteration: 0, mean loss: 1.660118579864502, train_accuracy:0.8125\n"
          ]
        },
        {
          "output_type": "stream",
          "name": "stderr",
          "text": [
            " 16%|█▌        | 63/391 [00:00<00:04, 66.19it/s]"
          ]
        },
        {
          "output_type": "stream",
          "name": "stdout",
          "text": [
            "Iteration: 50, mean loss: 1.7151278257369995, train_accuracy:0.748774528503418\n"
          ]
        },
        {
          "output_type": "stream",
          "name": "stderr",
          "text": [
            " 29%|██▊       | 112/391 [00:01<00:04, 64.88it/s]"
          ]
        },
        {
          "output_type": "stream",
          "name": "stdout",
          "text": [
            "Iteration: 100, mean loss: 1.715977668762207, train_accuracy:0.7475247383117676\n"
          ]
        },
        {
          "output_type": "stream",
          "name": "stderr",
          "text": [
            " 41%|████      | 161/391 [00:02<00:03, 66.49it/s]"
          ]
        },
        {
          "output_type": "stream",
          "name": "stdout",
          "text": [
            "Iteration: 150, mean loss: 1.7131037712097168, train_accuracy:0.748447835445404\n"
          ]
        },
        {
          "output_type": "stream",
          "name": "stderr",
          "text": [
            " 53%|█████▎    | 209/391 [00:03<00:03, 52.81it/s]"
          ]
        },
        {
          "output_type": "stream",
          "name": "stdout",
          "text": [
            "Iteration: 200, mean loss: 1.7135415077209473, train_accuracy:0.748833954334259\n"
          ]
        },
        {
          "output_type": "stream",
          "name": "stderr",
          "text": [
            " 65%|██████▌   | 256/391 [00:04<00:02, 50.59it/s]"
          ]
        },
        {
          "output_type": "stream",
          "name": "stdout",
          "text": [
            "Iteration: 250, mean loss: 1.7024407386779785, train_accuracy:0.7511205077171326\n"
          ]
        },
        {
          "output_type": "stream",
          "name": "stderr",
          "text": [
            " 79%|███████▉  | 310/391 [00:05<00:01, 45.18it/s]"
          ]
        },
        {
          "output_type": "stream",
          "name": "stdout",
          "text": [
            "Iteration: 300, mean loss: 1.7180891036987305, train_accuracy:0.7497923374176025\n"
          ]
        },
        {
          "output_type": "stream",
          "name": "stderr",
          "text": [
            " 93%|█████████▎| 362/391 [00:06<00:00, 63.30it/s]"
          ]
        },
        {
          "output_type": "stream",
          "name": "stdout",
          "text": [
            "Iteration: 350, mean loss: 1.713157296180725, train_accuracy:0.7496216297149658\n"
          ]
        },
        {
          "output_type": "stream",
          "name": "stderr",
          "text": [
            "100%|██████████| 391/391 [00:06<00:00, 57.58it/s]\n",
            "100%|██████████| 79/79 [00:01<00:00, 76.77it/s]\n"
          ]
        },
        {
          "output_type": "stream",
          "name": "stdout",
          "text": [
            "Val Metrics: val loss: tensor(1.7953) val accuracy: tensor(0.6663)\n"
          ]
        },
        {
          "output_type": "stream",
          "name": "stderr",
          "text": [
            "  2%|▏         | 6/391 [00:00<00:07, 54.35it/s]"
          ]
        },
        {
          "output_type": "stream",
          "name": "stdout",
          "text": [
            "Iteration: 0, mean loss: 1.6683456897735596, train_accuracy:0.7890625\n"
          ]
        },
        {
          "output_type": "stream",
          "name": "stderr",
          "text": [
            " 16%|█▌        | 61/391 [00:00<00:05, 65.95it/s]"
          ]
        },
        {
          "output_type": "stream",
          "name": "stdout",
          "text": [
            "Iteration: 50, mean loss: 1.7095719575881958, train_accuracy:0.7526041865348816\n"
          ]
        },
        {
          "output_type": "stream",
          "name": "stderr",
          "text": [
            " 28%|██▊       | 110/391 [00:01<00:04, 66.31it/s]"
          ]
        },
        {
          "output_type": "stream",
          "name": "stdout",
          "text": [
            "Iteration: 100, mean loss: 1.7100476026535034, train_accuracy:0.7523205280303955\n"
          ]
        },
        {
          "output_type": "stream",
          "name": "stderr",
          "text": [
            " 41%|████      | 159/391 [00:02<00:03, 64.72it/s]"
          ]
        },
        {
          "output_type": "stream",
          "name": "stdout",
          "text": [
            "Iteration: 150, mean loss: 1.7122894525527954, train_accuracy:0.7508795261383057\n"
          ]
        },
        {
          "output_type": "stream",
          "name": "stderr",
          "text": [
            " 53%|█████▎    | 208/391 [00:03<00:02, 63.65it/s]"
          ]
        },
        {
          "output_type": "stream",
          "name": "stdout",
          "text": [
            "Iteration: 200, mean loss: 1.7117689847946167, train_accuracy:0.7506996393203735\n"
          ]
        },
        {
          "output_type": "stream",
          "name": "stderr",
          "text": [
            " 68%|██████▊   | 264/391 [00:04<00:01, 66.34it/s]"
          ]
        },
        {
          "output_type": "stream",
          "name": "stdout",
          "text": [
            "Iteration: 250, mean loss: 1.703493356704712, train_accuracy:0.752458930015564\n"
          ]
        },
        {
          "output_type": "stream",
          "name": "stderr",
          "text": [
            " 80%|████████  | 313/391 [00:04<00:01, 66.82it/s]"
          ]
        },
        {
          "output_type": "stream",
          "name": "stdout",
          "text": [
            "Iteration: 300, mean loss: 1.7198368310928345, train_accuracy:0.7507786750793457\n"
          ]
        },
        {
          "output_type": "stream",
          "name": "stderr",
          "text": [
            " 93%|█████████▎| 362/391 [00:05<00:00, 67.12it/s]"
          ]
        },
        {
          "output_type": "stream",
          "name": "stdout",
          "text": [
            "Iteration: 350, mean loss: 1.7128030061721802, train_accuracy:0.7506232261657715\n"
          ]
        },
        {
          "output_type": "stream",
          "name": "stderr",
          "text": [
            "100%|██████████| 391/391 [00:06<00:00, 65.11it/s]\n",
            "100%|██████████| 79/79 [00:01<00:00, 76.49it/s]\n"
          ]
        },
        {
          "output_type": "stream",
          "name": "stdout",
          "text": [
            "Val Metrics: val loss: tensor(1.8010) val accuracy: tensor(0.6591)\n"
          ]
        },
        {
          "output_type": "stream",
          "name": "stderr",
          "text": [
            "  2%|▏         | 6/391 [00:00<00:06, 58.61it/s]"
          ]
        },
        {
          "output_type": "stream",
          "name": "stdout",
          "text": [
            "Iteration: 0, mean loss: 1.629025936126709, train_accuracy:0.8359375\n"
          ]
        },
        {
          "output_type": "stream",
          "name": "stderr",
          "text": [
            " 15%|█▌        | 60/391 [00:01<00:06, 48.00it/s]"
          ]
        },
        {
          "output_type": "stream",
          "name": "stdout",
          "text": [
            "Iteration: 50, mean loss: 1.710405707359314, train_accuracy:0.7530637383460999\n"
          ]
        },
        {
          "output_type": "stream",
          "name": "stderr",
          "text": [
            " 28%|██▊       | 110/391 [00:02<00:05, 47.67it/s]"
          ]
        },
        {
          "output_type": "stream",
          "name": "stdout",
          "text": [
            "Iteration: 100, mean loss: 1.7109683752059937, train_accuracy:0.7530167102813721\n"
          ]
        },
        {
          "output_type": "stream",
          "name": "stderr",
          "text": [
            "\r 29%|██▊       | 112/391 [00:02<00:05, 49.26it/s]\n"
          ]
        },
        {
          "output_type": "error",
          "ename": "KeyboardInterrupt",
          "evalue": "",
          "traceback": [
            "\u001b[0;31m---------------------------------------------------------------------------\u001b[0m",
            "\u001b[0;31mKeyboardInterrupt\u001b[0m                         Traceback (most recent call last)",
            "\u001b[0;32m/tmp/ipython-input-3516529701.py\u001b[0m in \u001b[0;36m<cell line: 0>\u001b[0;34m()\u001b[0m\n\u001b[1;32m     14\u001b[0m \u001b[0moptimizer\u001b[0m \u001b[0;34m=\u001b[0m \u001b[0mtorch\u001b[0m\u001b[0;34m.\u001b[0m\u001b[0moptim\u001b[0m\u001b[0;34m.\u001b[0m\u001b[0mSGD\u001b[0m\u001b[0;34m(\u001b[0m\u001b[0mmodel\u001b[0m\u001b[0;34m.\u001b[0m\u001b[0mparameters\u001b[0m\u001b[0;34m(\u001b[0m\u001b[0;34m)\u001b[0m\u001b[0;34m,\u001b[0m \u001b[0mlr\u001b[0m\u001b[0;34m=\u001b[0m\u001b[0mLEARNING_RATE\u001b[0m\u001b[0;34m,\u001b[0m \u001b[0mmomentum\u001b[0m\u001b[0;34m=\u001b[0m\u001b[0;36m0.9\u001b[0m\u001b[0;34m)\u001b[0m\u001b[0;34m\u001b[0m\u001b[0;34m\u001b[0m\u001b[0m\n\u001b[1;32m     15\u001b[0m \u001b[0;32mfor\u001b[0m \u001b[0m_\u001b[0m \u001b[0;32min\u001b[0m \u001b[0mrange\u001b[0m\u001b[0;34m(\u001b[0m\u001b[0mN_EPOCHS\u001b[0m\u001b[0;34m)\u001b[0m\u001b[0;34m:\u001b[0m\u001b[0;34m\u001b[0m\u001b[0;34m\u001b[0m\u001b[0m\n\u001b[0;32m---> 16\u001b[0;31m   \u001b[0mtrain_one_epoch\u001b[0m\u001b[0;34m(\u001b[0m\u001b[0mmodel\u001b[0m\u001b[0;34m,\u001b[0m \u001b[0mtrain_dataloader\u001b[0m\u001b[0;34m,\u001b[0m \u001b[0moptimizer\u001b[0m\u001b[0;34m)\u001b[0m\u001b[0;34m\u001b[0m\u001b[0;34m\u001b[0m\u001b[0m\n\u001b[0m\u001b[1;32m     17\u001b[0m   \u001b[0mval_accuracy\u001b[0m \u001b[0;34m=\u001b[0m \u001b[0mevaluate\u001b[0m\u001b[0;34m(\u001b[0m\u001b[0mmodel\u001b[0m\u001b[0;34m,\u001b[0m \u001b[0mval_dataloader\u001b[0m\u001b[0;34m)\u001b[0m\u001b[0;34m\u001b[0m\u001b[0;34m\u001b[0m\u001b[0m\n\u001b[1;32m     18\u001b[0m \u001b[0;34m\u001b[0m\u001b[0m\n",
            "\u001b[0;32m/tmp/ipython-input-287957488.py\u001b[0m in \u001b[0;36mtrain_one_epoch\u001b[0;34m(model, dataloader, optimizer, print_interval, device)\u001b[0m\n\u001b[1;32m     10\u001b[0m         \u001b[0my\u001b[0m \u001b[0;34m=\u001b[0m \u001b[0my\u001b[0m\u001b[0;34m.\u001b[0m\u001b[0mto\u001b[0m\u001b[0;34m(\u001b[0m\u001b[0mdevice\u001b[0m\u001b[0;34m)\u001b[0m\u001b[0;34m\u001b[0m\u001b[0;34m\u001b[0m\u001b[0m\n\u001b[1;32m     11\u001b[0m         \u001b[0moptimizer\u001b[0m\u001b[0;34m.\u001b[0m\u001b[0mzero_grad\u001b[0m\u001b[0;34m(\u001b[0m\u001b[0;34m)\u001b[0m\u001b[0;34m\u001b[0m\u001b[0;34m\u001b[0m\u001b[0m\n\u001b[0;32m---> 12\u001b[0;31m         \u001b[0moutput\u001b[0m \u001b[0;34m=\u001b[0m \u001b[0mmodel\u001b[0m\u001b[0;34m(\u001b[0m\u001b[0mx\u001b[0m\u001b[0;34m)\u001b[0m\u001b[0;34m\u001b[0m\u001b[0;34m\u001b[0m\u001b[0m\n\u001b[0m\u001b[1;32m     13\u001b[0m         \u001b[0;31m# Cross-Entropy expects logits as input\u001b[0m\u001b[0;34m\u001b[0m\u001b[0;34m\u001b[0m\u001b[0m\n\u001b[1;32m     14\u001b[0m         \u001b[0mloss\u001b[0m \u001b[0;34m=\u001b[0m \u001b[0mF\u001b[0m\u001b[0;34m.\u001b[0m\u001b[0mcross_entropy\u001b[0m\u001b[0;34m(\u001b[0m\u001b[0moutput\u001b[0m\u001b[0;34m,\u001b[0m \u001b[0my\u001b[0m\u001b[0;34m)\u001b[0m\u001b[0;34m\u001b[0m\u001b[0;34m\u001b[0m\u001b[0m\n",
            "\u001b[0;32m/usr/local/lib/python3.12/dist-packages/torch/nn/modules/module.py\u001b[0m in \u001b[0;36m_wrapped_call_impl\u001b[0;34m(self, *args, **kwargs)\u001b[0m\n\u001b[1;32m   1771\u001b[0m             \u001b[0;32mreturn\u001b[0m \u001b[0mself\u001b[0m\u001b[0;34m.\u001b[0m\u001b[0m_compiled_call_impl\u001b[0m\u001b[0;34m(\u001b[0m\u001b[0;34m*\u001b[0m\u001b[0margs\u001b[0m\u001b[0;34m,\u001b[0m \u001b[0;34m**\u001b[0m\u001b[0mkwargs\u001b[0m\u001b[0;34m)\u001b[0m  \u001b[0;31m# type: ignore[misc]\u001b[0m\u001b[0;34m\u001b[0m\u001b[0;34m\u001b[0m\u001b[0m\n\u001b[1;32m   1772\u001b[0m         \u001b[0;32melse\u001b[0m\u001b[0;34m:\u001b[0m\u001b[0;34m\u001b[0m\u001b[0;34m\u001b[0m\u001b[0m\n\u001b[0;32m-> 1773\u001b[0;31m             \u001b[0;32mreturn\u001b[0m \u001b[0mself\u001b[0m\u001b[0;34m.\u001b[0m\u001b[0m_call_impl\u001b[0m\u001b[0;34m(\u001b[0m\u001b[0;34m*\u001b[0m\u001b[0margs\u001b[0m\u001b[0;34m,\u001b[0m \u001b[0;34m**\u001b[0m\u001b[0mkwargs\u001b[0m\u001b[0;34m)\u001b[0m\u001b[0;34m\u001b[0m\u001b[0;34m\u001b[0m\u001b[0m\n\u001b[0m\u001b[1;32m   1774\u001b[0m \u001b[0;34m\u001b[0m\u001b[0m\n\u001b[1;32m   1775\u001b[0m     \u001b[0;31m# torchrec tests the code consistency with the following code\u001b[0m\u001b[0;34m\u001b[0m\u001b[0;34m\u001b[0m\u001b[0m\n",
            "\u001b[0;32m/usr/local/lib/python3.12/dist-packages/torch/nn/modules/module.py\u001b[0m in \u001b[0;36m_call_impl\u001b[0;34m(self, *args, **kwargs)\u001b[0m\n\u001b[1;32m   1782\u001b[0m                 \u001b[0;32mor\u001b[0m \u001b[0m_global_backward_pre_hooks\u001b[0m \u001b[0;32mor\u001b[0m \u001b[0m_global_backward_hooks\u001b[0m\u001b[0;34m\u001b[0m\u001b[0;34m\u001b[0m\u001b[0m\n\u001b[1;32m   1783\u001b[0m                 or _global_forward_hooks or _global_forward_pre_hooks):\n\u001b[0;32m-> 1784\u001b[0;31m             \u001b[0;32mreturn\u001b[0m \u001b[0mforward_call\u001b[0m\u001b[0;34m(\u001b[0m\u001b[0;34m*\u001b[0m\u001b[0margs\u001b[0m\u001b[0;34m,\u001b[0m \u001b[0;34m**\u001b[0m\u001b[0mkwargs\u001b[0m\u001b[0;34m)\u001b[0m\u001b[0;34m\u001b[0m\u001b[0;34m\u001b[0m\u001b[0m\n\u001b[0m\u001b[1;32m   1785\u001b[0m \u001b[0;34m\u001b[0m\u001b[0m\n\u001b[1;32m   1786\u001b[0m         \u001b[0mresult\u001b[0m \u001b[0;34m=\u001b[0m \u001b[0;32mNone\u001b[0m\u001b[0;34m\u001b[0m\u001b[0;34m\u001b[0m\u001b[0m\n",
            "\u001b[0;32m/tmp/ipython-input-2121122542.py\u001b[0m in \u001b[0;36mforward\u001b[0;34m(self, x)\u001b[0m\n\u001b[1;32m     46\u001b[0m     \u001b[0;32mdef\u001b[0m \u001b[0mforward\u001b[0m\u001b[0;34m(\u001b[0m\u001b[0mself\u001b[0m\u001b[0;34m,\u001b[0m \u001b[0mx\u001b[0m\u001b[0;34m:\u001b[0m \u001b[0mTensor\u001b[0m\u001b[0;34m)\u001b[0m\u001b[0;34m:\u001b[0m\u001b[0;34m\u001b[0m\u001b[0;34m\u001b[0m\u001b[0m\n\u001b[1;32m     47\u001b[0m         \u001b[0;32mfor\u001b[0m \u001b[0mi\u001b[0m \u001b[0;32min\u001b[0m \u001b[0mrange\u001b[0m\u001b[0;34m(\u001b[0m\u001b[0mlen\u001b[0m\u001b[0;34m(\u001b[0m\u001b[0mself\u001b[0m\u001b[0;34m.\u001b[0m\u001b[0mlayers\u001b[0m\u001b[0;34m)\u001b[0m\u001b[0;34m-\u001b[0m\u001b[0;36m1\u001b[0m\u001b[0;34m)\u001b[0m\u001b[0;34m:\u001b[0m\u001b[0;34m\u001b[0m\u001b[0;34m\u001b[0m\u001b[0m\n\u001b[0;32m---> 48\u001b[0;31m             \u001b[0mx\u001b[0m \u001b[0;34m=\u001b[0m \u001b[0mself\u001b[0m\u001b[0;34m.\u001b[0m\u001b[0mlayers\u001b[0m\u001b[0;34m[\u001b[0m\u001b[0mi\u001b[0m\u001b[0;34m]\u001b[0m\u001b[0;34m(\u001b[0m\u001b[0mx\u001b[0m\u001b[0;34m)\u001b[0m\u001b[0;34m\u001b[0m\u001b[0;34m\u001b[0m\u001b[0m\n\u001b[0m\u001b[1;32m     49\u001b[0m             \u001b[0;31m# print(\"x.shape:\", x.shape)\u001b[0m\u001b[0;34m\u001b[0m\u001b[0;34m\u001b[0m\u001b[0m\n\u001b[1;32m     50\u001b[0m \u001b[0;34m\u001b[0m\u001b[0m\n",
            "\u001b[0;32m/usr/local/lib/python3.12/dist-packages/torch/nn/modules/module.py\u001b[0m in \u001b[0;36m_wrapped_call_impl\u001b[0;34m(self, *args, **kwargs)\u001b[0m\n\u001b[1;32m   1771\u001b[0m             \u001b[0;32mreturn\u001b[0m \u001b[0mself\u001b[0m\u001b[0;34m.\u001b[0m\u001b[0m_compiled_call_impl\u001b[0m\u001b[0;34m(\u001b[0m\u001b[0;34m*\u001b[0m\u001b[0margs\u001b[0m\u001b[0;34m,\u001b[0m \u001b[0;34m**\u001b[0m\u001b[0mkwargs\u001b[0m\u001b[0;34m)\u001b[0m  \u001b[0;31m# type: ignore[misc]\u001b[0m\u001b[0;34m\u001b[0m\u001b[0;34m\u001b[0m\u001b[0m\n\u001b[1;32m   1772\u001b[0m         \u001b[0;32melse\u001b[0m\u001b[0;34m:\u001b[0m\u001b[0;34m\u001b[0m\u001b[0;34m\u001b[0m\u001b[0m\n\u001b[0;32m-> 1773\u001b[0;31m             \u001b[0;32mreturn\u001b[0m \u001b[0mself\u001b[0m\u001b[0;34m.\u001b[0m\u001b[0m_call_impl\u001b[0m\u001b[0;34m(\u001b[0m\u001b[0;34m*\u001b[0m\u001b[0margs\u001b[0m\u001b[0;34m,\u001b[0m \u001b[0;34m**\u001b[0m\u001b[0mkwargs\u001b[0m\u001b[0;34m)\u001b[0m\u001b[0;34m\u001b[0m\u001b[0;34m\u001b[0m\u001b[0m\n\u001b[0m\u001b[1;32m   1774\u001b[0m \u001b[0;34m\u001b[0m\u001b[0m\n\u001b[1;32m   1775\u001b[0m     \u001b[0;31m# torchrec tests the code consistency with the following code\u001b[0m\u001b[0;34m\u001b[0m\u001b[0;34m\u001b[0m\u001b[0m\n",
            "\u001b[0;32m/usr/local/lib/python3.12/dist-packages/torch/nn/modules/module.py\u001b[0m in \u001b[0;36m_call_impl\u001b[0;34m(self, *args, **kwargs)\u001b[0m\n\u001b[1;32m   1782\u001b[0m                 \u001b[0;32mor\u001b[0m \u001b[0m_global_backward_pre_hooks\u001b[0m \u001b[0;32mor\u001b[0m \u001b[0m_global_backward_hooks\u001b[0m\u001b[0;34m\u001b[0m\u001b[0;34m\u001b[0m\u001b[0m\n\u001b[1;32m   1783\u001b[0m                 or _global_forward_hooks or _global_forward_pre_hooks):\n\u001b[0;32m-> 1784\u001b[0;31m             \u001b[0;32mreturn\u001b[0m \u001b[0mforward_call\u001b[0m\u001b[0;34m(\u001b[0m\u001b[0;34m*\u001b[0m\u001b[0margs\u001b[0m\u001b[0;34m,\u001b[0m \u001b[0;34m**\u001b[0m\u001b[0mkwargs\u001b[0m\u001b[0;34m)\u001b[0m\u001b[0;34m\u001b[0m\u001b[0;34m\u001b[0m\u001b[0m\n\u001b[0m\u001b[1;32m   1785\u001b[0m \u001b[0;34m\u001b[0m\u001b[0m\n\u001b[1;32m   1786\u001b[0m         \u001b[0mresult\u001b[0m \u001b[0;34m=\u001b[0m \u001b[0;32mNone\u001b[0m\u001b[0;34m\u001b[0m\u001b[0;34m\u001b[0m\u001b[0m\n",
            "\u001b[0;32m/tmp/ipython-input-2121122542.py\u001b[0m in \u001b[0;36mforward\u001b[0;34m(self, x)\u001b[0m\n\u001b[1;32m     11\u001b[0m     \u001b[0;32mdef\u001b[0m \u001b[0mforward\u001b[0m\u001b[0;34m(\u001b[0m\u001b[0mself\u001b[0m\u001b[0;34m,\u001b[0m \u001b[0mx\u001b[0m\u001b[0;34m:\u001b[0m \u001b[0mTensor\u001b[0m\u001b[0;34m)\u001b[0m\u001b[0;34m:\u001b[0m\u001b[0;34m\u001b[0m\u001b[0;34m\u001b[0m\u001b[0m\n\u001b[1;32m     12\u001b[0m       \u001b[0;31m# print(\"run ds: \", x.shape)  # run ds:  torch.Size([1, 128, 6, 6]) ->x.shape: torch.Size([1, 256, 2, 2])\u001b[0m\u001b[0;34m\u001b[0m\u001b[0;34m\u001b[0m\u001b[0m\n\u001b[0;32m---> 13\u001b[0;31m       \u001b[0;32mreturn\u001b[0m \u001b[0mself\u001b[0m\u001b[0;34m.\u001b[0m\u001b[0mlayers\u001b[0m\u001b[0;34m(\u001b[0m\u001b[0mx\u001b[0m\u001b[0;34m)\u001b[0m\u001b[0;34m\u001b[0m\u001b[0;34m\u001b[0m\u001b[0m\n\u001b[0m\u001b[1;32m     14\u001b[0m \u001b[0;34m\u001b[0m\u001b[0m\n\u001b[1;32m     15\u001b[0m \u001b[0;34m\u001b[0m\u001b[0m\n",
            "\u001b[0;32m/usr/local/lib/python3.12/dist-packages/torch/nn/modules/module.py\u001b[0m in \u001b[0;36m_wrapped_call_impl\u001b[0;34m(self, *args, **kwargs)\u001b[0m\n\u001b[1;32m   1771\u001b[0m             \u001b[0;32mreturn\u001b[0m \u001b[0mself\u001b[0m\u001b[0;34m.\u001b[0m\u001b[0m_compiled_call_impl\u001b[0m\u001b[0;34m(\u001b[0m\u001b[0;34m*\u001b[0m\u001b[0margs\u001b[0m\u001b[0;34m,\u001b[0m \u001b[0;34m**\u001b[0m\u001b[0mkwargs\u001b[0m\u001b[0;34m)\u001b[0m  \u001b[0;31m# type: ignore[misc]\u001b[0m\u001b[0;34m\u001b[0m\u001b[0;34m\u001b[0m\u001b[0m\n\u001b[1;32m   1772\u001b[0m         \u001b[0;32melse\u001b[0m\u001b[0;34m:\u001b[0m\u001b[0;34m\u001b[0m\u001b[0;34m\u001b[0m\u001b[0m\n\u001b[0;32m-> 1773\u001b[0;31m             \u001b[0;32mreturn\u001b[0m \u001b[0mself\u001b[0m\u001b[0;34m.\u001b[0m\u001b[0m_call_impl\u001b[0m\u001b[0;34m(\u001b[0m\u001b[0;34m*\u001b[0m\u001b[0margs\u001b[0m\u001b[0;34m,\u001b[0m \u001b[0;34m**\u001b[0m\u001b[0mkwargs\u001b[0m\u001b[0;34m)\u001b[0m\u001b[0;34m\u001b[0m\u001b[0;34m\u001b[0m\u001b[0m\n\u001b[0m\u001b[1;32m   1774\u001b[0m \u001b[0;34m\u001b[0m\u001b[0m\n\u001b[1;32m   1775\u001b[0m     \u001b[0;31m# torchrec tests the code consistency with the following code\u001b[0m\u001b[0;34m\u001b[0m\u001b[0;34m\u001b[0m\u001b[0m\n",
            "\u001b[0;32m/usr/local/lib/python3.12/dist-packages/torch/nn/modules/module.py\u001b[0m in \u001b[0;36m_call_impl\u001b[0;34m(self, *args, **kwargs)\u001b[0m\n\u001b[1;32m   1782\u001b[0m                 \u001b[0;32mor\u001b[0m \u001b[0m_global_backward_pre_hooks\u001b[0m \u001b[0;32mor\u001b[0m \u001b[0m_global_backward_hooks\u001b[0m\u001b[0;34m\u001b[0m\u001b[0;34m\u001b[0m\u001b[0m\n\u001b[1;32m   1783\u001b[0m                 or _global_forward_hooks or _global_forward_pre_hooks):\n\u001b[0;32m-> 1784\u001b[0;31m             \u001b[0;32mreturn\u001b[0m \u001b[0mforward_call\u001b[0m\u001b[0;34m(\u001b[0m\u001b[0;34m*\u001b[0m\u001b[0margs\u001b[0m\u001b[0;34m,\u001b[0m \u001b[0;34m**\u001b[0m\u001b[0mkwargs\u001b[0m\u001b[0;34m)\u001b[0m\u001b[0;34m\u001b[0m\u001b[0;34m\u001b[0m\u001b[0m\n\u001b[0m\u001b[1;32m   1785\u001b[0m \u001b[0;34m\u001b[0m\u001b[0m\n\u001b[1;32m   1786\u001b[0m         \u001b[0mresult\u001b[0m \u001b[0;34m=\u001b[0m \u001b[0;32mNone\u001b[0m\u001b[0;34m\u001b[0m\u001b[0;34m\u001b[0m\u001b[0m\n",
            "\u001b[0;32m/usr/local/lib/python3.12/dist-packages/torch/nn/modules/container.py\u001b[0m in \u001b[0;36mforward\u001b[0;34m(self, input)\u001b[0m\n\u001b[1;32m    242\u001b[0m     \u001b[0;32mdef\u001b[0m \u001b[0mforward\u001b[0m\u001b[0;34m(\u001b[0m\u001b[0mself\u001b[0m\u001b[0;34m,\u001b[0m \u001b[0minput\u001b[0m\u001b[0;34m)\u001b[0m\u001b[0;34m:\u001b[0m\u001b[0;34m\u001b[0m\u001b[0;34m\u001b[0m\u001b[0m\n\u001b[1;32m    243\u001b[0m         \u001b[0;32mfor\u001b[0m \u001b[0mmodule\u001b[0m \u001b[0;32min\u001b[0m \u001b[0mself\u001b[0m\u001b[0;34m:\u001b[0m\u001b[0;34m\u001b[0m\u001b[0;34m\u001b[0m\u001b[0m\n\u001b[0;32m--> 244\u001b[0;31m             \u001b[0minput\u001b[0m \u001b[0;34m=\u001b[0m \u001b[0mmodule\u001b[0m\u001b[0;34m(\u001b[0m\u001b[0minput\u001b[0m\u001b[0;34m)\u001b[0m\u001b[0;34m\u001b[0m\u001b[0;34m\u001b[0m\u001b[0m\n\u001b[0m\u001b[1;32m    245\u001b[0m         \u001b[0;32mreturn\u001b[0m \u001b[0minput\u001b[0m\u001b[0;34m\u001b[0m\u001b[0;34m\u001b[0m\u001b[0m\n\u001b[1;32m    246\u001b[0m \u001b[0;34m\u001b[0m\u001b[0m\n",
            "\u001b[0;32m/usr/local/lib/python3.12/dist-packages/torch/nn/modules/module.py\u001b[0m in \u001b[0;36m_wrapped_call_impl\u001b[0;34m(self, *args, **kwargs)\u001b[0m\n\u001b[1;32m   1771\u001b[0m             \u001b[0;32mreturn\u001b[0m \u001b[0mself\u001b[0m\u001b[0;34m.\u001b[0m\u001b[0m_compiled_call_impl\u001b[0m\u001b[0;34m(\u001b[0m\u001b[0;34m*\u001b[0m\u001b[0margs\u001b[0m\u001b[0;34m,\u001b[0m \u001b[0;34m**\u001b[0m\u001b[0mkwargs\u001b[0m\u001b[0;34m)\u001b[0m  \u001b[0;31m# type: ignore[misc]\u001b[0m\u001b[0;34m\u001b[0m\u001b[0;34m\u001b[0m\u001b[0m\n\u001b[1;32m   1772\u001b[0m         \u001b[0;32melse\u001b[0m\u001b[0;34m:\u001b[0m\u001b[0;34m\u001b[0m\u001b[0;34m\u001b[0m\u001b[0m\n\u001b[0;32m-> 1773\u001b[0;31m             \u001b[0;32mreturn\u001b[0m \u001b[0mself\u001b[0m\u001b[0;34m.\u001b[0m\u001b[0m_call_impl\u001b[0m\u001b[0;34m(\u001b[0m\u001b[0;34m*\u001b[0m\u001b[0margs\u001b[0m\u001b[0;34m,\u001b[0m \u001b[0;34m**\u001b[0m\u001b[0mkwargs\u001b[0m\u001b[0;34m)\u001b[0m\u001b[0;34m\u001b[0m\u001b[0;34m\u001b[0m\u001b[0m\n\u001b[0m\u001b[1;32m   1774\u001b[0m \u001b[0;34m\u001b[0m\u001b[0m\n\u001b[1;32m   1775\u001b[0m     \u001b[0;31m# torchrec tests the code consistency with the following code\u001b[0m\u001b[0;34m\u001b[0m\u001b[0;34m\u001b[0m\u001b[0m\n",
            "\u001b[0;32m/usr/local/lib/python3.12/dist-packages/torch/nn/modules/module.py\u001b[0m in \u001b[0;36m_call_impl\u001b[0;34m(self, *args, **kwargs)\u001b[0m\n\u001b[1;32m   1782\u001b[0m                 \u001b[0;32mor\u001b[0m \u001b[0m_global_backward_pre_hooks\u001b[0m \u001b[0;32mor\u001b[0m \u001b[0m_global_backward_hooks\u001b[0m\u001b[0;34m\u001b[0m\u001b[0;34m\u001b[0m\u001b[0m\n\u001b[1;32m   1783\u001b[0m                 or _global_forward_hooks or _global_forward_pre_hooks):\n\u001b[0;32m-> 1784\u001b[0;31m             \u001b[0;32mreturn\u001b[0m \u001b[0mforward_call\u001b[0m\u001b[0;34m(\u001b[0m\u001b[0;34m*\u001b[0m\u001b[0margs\u001b[0m\u001b[0;34m,\u001b[0m \u001b[0;34m**\u001b[0m\u001b[0mkwargs\u001b[0m\u001b[0;34m)\u001b[0m\u001b[0;34m\u001b[0m\u001b[0;34m\u001b[0m\u001b[0m\n\u001b[0m\u001b[1;32m   1785\u001b[0m \u001b[0;34m\u001b[0m\u001b[0m\n\u001b[1;32m   1786\u001b[0m         \u001b[0mresult\u001b[0m \u001b[0;34m=\u001b[0m \u001b[0;32mNone\u001b[0m\u001b[0;34m\u001b[0m\u001b[0;34m\u001b[0m\u001b[0m\n",
            "\u001b[0;32m/usr/local/lib/python3.12/dist-packages/torch/nn/modules/conv.py\u001b[0m in \u001b[0;36mforward\u001b[0;34m(self, input)\u001b[0m\n\u001b[1;32m    546\u001b[0m \u001b[0;34m\u001b[0m\u001b[0m\n\u001b[1;32m    547\u001b[0m     \u001b[0;32mdef\u001b[0m \u001b[0mforward\u001b[0m\u001b[0;34m(\u001b[0m\u001b[0mself\u001b[0m\u001b[0;34m,\u001b[0m \u001b[0minput\u001b[0m\u001b[0;34m:\u001b[0m \u001b[0mTensor\u001b[0m\u001b[0;34m)\u001b[0m \u001b[0;34m->\u001b[0m \u001b[0mTensor\u001b[0m\u001b[0;34m:\u001b[0m\u001b[0;34m\u001b[0m\u001b[0;34m\u001b[0m\u001b[0m\n\u001b[0;32m--> 548\u001b[0;31m         \u001b[0;32mreturn\u001b[0m \u001b[0mself\u001b[0m\u001b[0;34m.\u001b[0m\u001b[0m_conv_forward\u001b[0m\u001b[0;34m(\u001b[0m\u001b[0minput\u001b[0m\u001b[0;34m,\u001b[0m \u001b[0mself\u001b[0m\u001b[0;34m.\u001b[0m\u001b[0mweight\u001b[0m\u001b[0;34m,\u001b[0m \u001b[0mself\u001b[0m\u001b[0;34m.\u001b[0m\u001b[0mbias\u001b[0m\u001b[0;34m)\u001b[0m\u001b[0;34m\u001b[0m\u001b[0;34m\u001b[0m\u001b[0m\n\u001b[0m\u001b[1;32m    549\u001b[0m \u001b[0;34m\u001b[0m\u001b[0m\n\u001b[1;32m    550\u001b[0m \u001b[0;34m\u001b[0m\u001b[0m\n",
            "\u001b[0;32m/usr/local/lib/python3.12/dist-packages/torch/nn/modules/conv.py\u001b[0m in \u001b[0;36m_conv_forward\u001b[0;34m(self, input, weight, bias)\u001b[0m\n\u001b[1;32m    541\u001b[0m                 \u001b[0mself\u001b[0m\u001b[0;34m.\u001b[0m\u001b[0mgroups\u001b[0m\u001b[0;34m,\u001b[0m\u001b[0;34m\u001b[0m\u001b[0;34m\u001b[0m\u001b[0m\n\u001b[1;32m    542\u001b[0m             )\n\u001b[0;32m--> 543\u001b[0;31m         return F.conv2d(\n\u001b[0m\u001b[1;32m    544\u001b[0m             \u001b[0minput\u001b[0m\u001b[0;34m,\u001b[0m \u001b[0mweight\u001b[0m\u001b[0;34m,\u001b[0m \u001b[0mbias\u001b[0m\u001b[0;34m,\u001b[0m \u001b[0mself\u001b[0m\u001b[0;34m.\u001b[0m\u001b[0mstride\u001b[0m\u001b[0;34m,\u001b[0m \u001b[0mself\u001b[0m\u001b[0;34m.\u001b[0m\u001b[0mpadding\u001b[0m\u001b[0;34m,\u001b[0m \u001b[0mself\u001b[0m\u001b[0;34m.\u001b[0m\u001b[0mdilation\u001b[0m\u001b[0;34m,\u001b[0m \u001b[0mself\u001b[0m\u001b[0;34m.\u001b[0m\u001b[0mgroups\u001b[0m\u001b[0;34m\u001b[0m\u001b[0;34m\u001b[0m\u001b[0m\n\u001b[1;32m    545\u001b[0m         )\n",
            "\u001b[0;31mKeyboardInterrupt\u001b[0m: "
          ]
        }
      ],
      "source": [
        "model = Net().to(DEVICE)\n",
        "train_dataloader = DataLoader(\n",
        "    train_dataset,\n",
        "    batch_size=BATCH_SIZE,\n",
        "    pin_memory=True,\n",
        "    pin_memory_device=DEVICE\n",
        ")\n",
        "val_dataloader = DataLoader(\n",
        "    val_dataset,  # test_image = test_image.to(torch.float)\n",
        "    batch_size=BATCH_SIZE,\n",
        "    pin_memory=True,\n",
        "    pin_memory_device=DEVICE\n",
        ")\n",
        "optimizer = torch.optim.SGD(model.parameters(), lr=LEARNING_RATE, momentum=0.9)\n",
        "for _ in range(N_EPOCHS):\n",
        "  train_one_epoch(model, train_dataloader, optimizer)\n",
        "  val_accuracy = evaluate(model, val_dataloader)\n",
        "\n",
        "print(\"FINAL VALIDATION ACCURACY:\", val_accuracy)"
      ]
    },
    {
      "cell_type": "markdown",
      "source": [
        "## Extension (If Time)\n",
        "\n",
        "How would you change this network architecture if you were using a dataset with higher image resolution?\n",
        "\n",
        "Demonstrate your suggestion using Caltech 256"
      ],
      "metadata": {
        "id": "zkhYJQm4cJNK"
      }
    },
    {
      "cell_type": "code",
      "source": [
        "caltech_dataset = datasets.Caltech256(root=os.getcwd(), transform=transform, download=True)"
      ],
      "metadata": {
        "id": "8CdtrV-LA6IK"
      },
      "execution_count": null,
      "outputs": []
    }
  ],
  "metadata": {
    "colab": {
      "provenance": [],
      "gpuType": "T4"
    },
    "kernelspec": {
      "display_name": "Python 3",
      "name": "python3"
    },
    "language_info": {
      "name": "python"
    },
    "accelerator": "GPU"
  },
  "nbformat": 4,
  "nbformat_minor": 0
}